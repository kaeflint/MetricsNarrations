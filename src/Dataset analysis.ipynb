{
 "cells": [
  {
   "cell_type": "code",
   "execution_count": 1,
   "id": "loving-haven",
   "metadata": {},
   "outputs": [],
   "source": [
    "import os\n",
    "os.environ['PYTHONHASHSEED'] = '0'\n",
    "os.environ['CUDA_LAUNCH_BLOCKING']='1'\n",
    "import sys\n",
    "\n",
    "sys.path.append('../TrainedNarrators/')\n",
    "from data_utils import *\n",
    "from model_utils import setupTokenizer"
   ]
  },
  {
   "cell_type": "code",
   "execution_count": 22,
   "id": "large-withdrawal",
   "metadata": {},
   "outputs": [],
   "source": [
    "from nltk import sent_tokenize\n",
    "from spacy.tokenizer import Tokenizer\n",
    "from spacy.lang.en import English\n",
    "nlp = English()\n",
    "nlp.add_pipe('sentencizer')\n",
    "# Create a blank Tokenizer with just the English vocab\n",
    "tokenizer = Tokenizer(nlp.vocab)"
   ]
  },
  {
   "cell_type": "code",
   "execution_count": 17,
   "id": "acute-carrier",
   "metadata": {},
   "outputs": [],
   "source": [
    "sent_count= lambda x: len(sent_tokenize(x))"
   ]
  },
  {
   "cell_type": "code",
   "execution_count": 3,
   "id": "subjective-franchise",
   "metadata": {},
   "outputs": [],
   "source": [
    "from nltk import wordpunct_tokenize,word_tokenize\n",
    "# Read the dataset\n",
    "test_data = json.load(open('../dataset/test set.json'))\n",
    "full_data= json.load(open('../dataset/annotation_data_with_augmentations.json'))['data']+test_data"
   ]
  },
  {
   "cell_type": "code",
   "execution_count": 37,
   "id": "adult-fifty",
   "metadata": {},
   "outputs": [],
   "source": [
    "test_data = json.load(open('../dataset/test set.json'))\n",
    "test_sample = []\n",
    "eval_tables = []\n",
    "for pc in test_data:\n",
    "    test_sample.append(processInputTableAndNarrations(\n",
    "        pc, identical_metrics=identicals))\n",
    "    # eval_tables.append(parseTableStructureForEval(pc,identicals))\n",
    "rtest_sample = []\n",
    "reval_tables = []\n",
    "for pc in test_data:\n",
    "    rtest_sample.append(processInputTableAndNarrations(\n",
    "        pc, identical_metrics=identicals))"
   ]
  },
  {
   "cell_type": "code",
   "execution_count": 4,
   "id": "standing-nothing",
   "metadata": {},
   "outputs": [],
   "source": [
    "# Get task names\n",
    "task_names = [d[\"task_name\"] for d in full_data]"
   ]
  },
  {
   "cell_type": "code",
   "execution_count": 25,
   "id": "sunrise-render",
   "metadata": {},
   "outputs": [],
   "source": [
    "# Compute the number of unique words\n",
    "mask_met=False\n",
    "processed=[]\n",
    "preambles = []\n",
    "metrics ={1:[],2:[],3:[],4:[],}\n",
    "# apply the preprocessing to the data\n",
    "for idx,pc in enumerate(full_data):\n",
    "    #print(idx)\n",
    "    examples = processInputTableAndNarrations(pc, identical_metrics=identicals, augnment_metrics=False,)\n",
    "    preambles.append(examples['preamble'])\n",
    "    processed.append(examples)"
   ]
  },
  {
   "cell_type": "code",
   "execution_count": 26,
   "id": "critical-defensive",
   "metadata": {},
   "outputs": [
    {
     "data": {
      "text/plain": [
       "825"
      ]
     },
     "execution_count": 26,
     "metadata": {},
     "output_type": "execute_result"
    }
   ],
   "source": [
    "len(processed)"
   ]
  },
  {
   "cell_type": "code",
   "execution_count": null,
   "id": "advance-throat",
   "metadata": {},
   "outputs": [],
   "source": []
  },
  {
   "cell_type": "code",
   "execution_count": 9,
   "id": "indie-information",
   "metadata": {},
   "outputs": [],
   "source": [
    "from collections import Counter\n",
    "import pickle as pk"
   ]
  },
  {
   "cell_type": "code",
   "execution_count": 7,
   "id": "empty-field",
   "metadata": {},
   "outputs": [
    {
     "name": "stdout",
     "output_type": "stream",
     "text": [
      "The number of ML tasks 58\n"
     ]
    }
   ],
   "source": [
    "# Number of anotations per task\n",
    "task_dist = Counter(task_names)\n",
    "print(f'The number of ML tasks {len(task_dist)}')"
   ]
  },
  {
   "cell_type": "code",
   "execution_count": 32,
   "id": "nearby-polyester",
   "metadata": {},
   "outputs": [],
   "source": [
    "processed = pk.load(open('../dataset/train_dataset_new.dat', 'rb'))"
   ]
  },
  {
   "cell_type": "code",
   "execution_count": 11,
   "id": "naval-patio",
   "metadata": {},
   "outputs": [
    {
     "data": {
      "text/plain": [
       "4529"
      ]
     },
     "execution_count": 11,
     "metadata": {},
     "output_type": "execute_result"
    }
   ],
   "source": [
    "len(processed)"
   ]
  },
  {
   "cell_type": "code",
   "execution_count": 9,
   "id": "elementary-smile",
   "metadata": {},
   "outputs": [
    {
     "name": "stdout",
     "output_type": "stream",
     "text": [
      "The average number of annotations submitted: 14\n"
     ]
    }
   ],
   "source": [
    "# Average number of narrations per task\n",
    "mean_annotations = np.average([v for b,v in dict(task_dist).items()])\n",
    "print(f'The average number of annotations submitted: {int(mean_annotations)}')"
   ]
  },
  {
   "cell_type": "code",
   "execution_count": 18,
   "id": "productive-renewal",
   "metadata": {},
   "outputs": [],
   "source": [
    "narrations = ' '.join([pc['narration'].lower() for pc in processed]).split()"
   ]
  },
  {
   "cell_type": "code",
   "execution_count": 19,
   "id": "unauthorized-indianapolis",
   "metadata": {},
   "outputs": [],
   "source": [
    "words = Counter(narrations)"
   ]
  },
  {
   "cell_type": "code",
   "execution_count": 20,
   "id": "worthy-header",
   "metadata": {},
   "outputs": [
    {
     "name": "stdout",
     "output_type": "stream",
     "text": [
      "The number of unique words is: 3548\n"
     ]
    }
   ],
   "source": [
    "print(f'The number of unique words is: {len(words)}')"
   ]
  },
  {
   "cell_type": "code",
   "execution_count": 38,
   "id": "local-manhattan",
   "metadata": {},
   "outputs": [],
   "source": [
    "# Compute the average number of sentences per annotation \n",
    "narr_count = [sent_count(pc['narration']) for pc in processed+test_sample]\n",
    "nn= [idx for idx, pc in enumerate(processed) if sent_count(pc['narration']) ==9]"
   ]
  },
  {
   "cell_type": "code",
   "execution_count": 39,
   "id": "pharmaceutical-korean",
   "metadata": {},
   "outputs": [
    {
     "data": {
      "text/plain": [
       "3.6487362281270252"
      ]
     },
     "execution_count": 39,
     "metadata": {},
     "output_type": "execute_result"
    }
   ],
   "source": [
    "np.mean(narr_count)"
   ]
  },
  {
   "cell_type": "code",
   "execution_count": 40,
   "id": "formed-holmes",
   "metadata": {},
   "outputs": [
    {
     "data": {
      "text/plain": [
       "{3: 1844, 4: 1403, 5: 446, 6: 194, 2: 579, 7: 110, 8: 53}"
      ]
     },
     "execution_count": 40,
     "metadata": {},
     "output_type": "execute_result"
    }
   ],
   "source": [
    "dict(Counter(narr_count))"
   ]
  },
  {
   "cell_type": "markdown",
   "id": "offshore-glasgow",
   "metadata": {},
   "source": [
    "### Most of the narrations have about 3 sentences summarizing the performance of the corresponding classifier"
   ]
  },
  {
   "cell_type": "code",
   "execution_count": 18,
   "id": "demanding-passport",
   "metadata": {},
   "outputs": [
    {
     "data": {
      "text/plain": [
       "<seaborn.axisgrid.FacetGrid at 0x7f037e37ac10>"
      ]
     },
     "execution_count": 18,
     "metadata": {},
     "output_type": "execute_result"
    },
    {
     "data": {
      "image/png": "[encoded data removed]",
      "text/plain": [
       "<Figure size 360x360 with 1 Axes>"
      ]
     },
     "metadata": {
      "needs_background": "light"
     },
     "output_type": "display_data"
    }
   ],
   "source": [
    "import seaborn as sns\n",
    "sns.displot(narr_count)"
   ]
  },
  {
   "cell_type": "code",
   "execution_count": 19,
   "id": "major-works",
   "metadata": {},
   "outputs": [],
   "source": [
    "def processMetricsDataChecks(metric_scores, metric_rates, augment=False, identicals={}, nb_metrics=6):\n",
    "    pp = pd.read_json(json.loads(metric_scores))\n",
    "    metric_rates = json.loads(metric_rates)\n",
    "    if augment:\n",
    "        temp_cols = pp.columns.to_list()\n",
    "        random.shuffle(temp_cols)\n",
    "        pp = pp[temp_cols]\n",
    "    metrics = [s.strip() for s in pp.columns.to_list()]\n",
    "    metric_rates = {s.strip(): v for s, v in metric_rates.items()}\n",
    "    values = pp.values.tolist()[0]\n",
    "\n",
    "    metrics_score_string = '<TM> '\n",
    "\n",
    "    # Make sure the ratings of all metrics are provided\n",
    "    #print(metrics, metric_rates.keys())\n",
    "    assert set(metrics) == set(list(metric_rates.keys()))\n",
    "\n",
    "    metrics_info = []\n",
    "    metrics_list = []\n",
    "    values_list = []\n",
    "    rates_list = []\n",
    "    for idx, (m, v) in enumerate(zip(metrics, values)):\n",
    "        mx = m.lower().replace('-score', '').strip()\n",
    "        mx = m.lower().replace(' score', '').strip()\n",
    "        mx = m.lower().replace('score', '').strip()\n",
    "        score_rate = ''\n",
    "        if int(metric_rates.get(m, 0)) in [4, 5]:\n",
    "            score_rate = 'HIGH'\n",
    "        elif int(metric_rates.get(m, 0)) in [3]:\n",
    "            score_rate = 'MODERATE'\n",
    "        else:\n",
    "            score_rate = 'LOW'\n",
    "\n",
    "        metrics_list.append(m.replace('-', '').lower())\n",
    "        values_list.append(f'{roundN(v,2)}%')\n",
    "        rates_list.append(f'{score_rate}')\n",
    "    return [(a,b,c) for a,b,c in zip(metrics_list,rates_list,values_list)]"
   ]
  },
  {
   "cell_type": "code",
   "execution_count": 20,
   "id": "every-atlas",
   "metadata": {},
   "outputs": [],
   "source": [
    "# Make a rough estimate of number of models per each task.\n",
    "# Compute the number of unique words\n",
    "mask_met=False\n",
    "taskNames_samples= {}\n",
    "preambles = {}\n",
    "pream = {}\n",
    "# apply the preprocessing to the data\n",
    "for idx,pc in enumerate(full_data):\n",
    "    #print(idx)\n",
    "    tn = pc['task_name']\n",
    "    examples = processInputTableAndNarrations(pc, identical_metrics=identicals, augnment_metrics=False,)\n",
    "    pp = processMetricsDataChecks(pc[\"metrics_values\"],pc[\"imetric_score_rate\"],identicals=identicals)\n",
    "    if tn not in preambles.keys():\n",
    "        preambles[tn]= []\n",
    "        pream[tn] = []\n",
    "        taskNames_samples[tn]= []\n",
    "    preambles[tn].append(examples['preamble'])\n",
    "    taskNames_samples[tn].append(examples)\n",
    "    pream[tn].append(pp)"
   ]
  },
  {
   "cell_type": "code",
   "execution_count": 21,
   "id": "continued-spanish",
   "metadata": {},
   "outputs": [],
   "source": [
    "#pream['UPS customer service Ratings']"
   ]
  },
  {
   "cell_type": "code",
   "execution_count": 22,
   "id": "broadband-sodium",
   "metadata": {},
   "outputs": [],
   "source": [
    "tns={}\n",
    "for tn,elems in pream.items():\n",
    "    po=[]\n",
    "    for p in elems:\n",
    "        po = po+p\n",
    "    tns[tn] = Counter([p[0] for p in list(set(po))]).most_common(1)[0][-1]"
   ]
  },
  {
   "cell_type": "code",
   "execution_count": 23,
   "id": "automatic-shower",
   "metadata": {},
   "outputs": [
    {
     "data": {
      "text/plain": [
       "2"
      ]
     },
     "execution_count": 23,
     "metadata": {},
     "output_type": "execute_result"
    }
   ],
   "source": [
    "tns['UPS customer service Ratings']"
   ]
  },
  {
   "cell_type": "code",
   "execution_count": 25,
   "id": "automotive-bedroom",
   "metadata": {},
   "outputs": [
    {
     "data": {
      "text/plain": [
       "6.551724137931035"
      ]
     },
     "execution_count": 25,
     "metadata": {},
     "output_type": "execute_result"
    }
   ],
   "source": [
    "np.mean([v for v in tns.values()])"
   ]
  },
  {
   "cell_type": "markdown",
   "id": "confident-freeze",
   "metadata": {},
   "source": [
    "For this NLG task, the goal is generating analytical sentences based on the evaluation metrics' scores achieved by any given classification model. \n",
    "To generate the dataset for this study, different ML models were trained on a number of classification tasks across different application domains. \n",
    "For each classifier, experts were asked to rate the scores achieved for a given set of metrics. \n",
    "Based on the ratings assigned, metrics' scores, and information on the dataset distribution across the class labels, they were also asked to write analytical statements summarising the classification performance of the corresponding model. \n",
    "A carefully designed pre-processing routine is applied to remove invalid submissions resulting in 612 high-quality data-sentence pairs. The training, validation and test set consists of 582 data-sentence pairs, 30 data-sentence pairs, and 30 data-sentence pairs, respectively."
   ]
  },
  {
   "cell_type": "markdown",
   "id": "based-father",
   "metadata": {},
   "source": [
    "### The dataset contains narrations of models or classifiers trained on 58 different machine learning problems. However, only classification tasks were considered. We leave regression tasks for future work.\n",
    "\n",
    "### Across each classification task, about 6 different model were trained. These models include random forest, support vector machines, gradient boosting, logistic regression, and KNN. \n",
    "\n",
    "### The annotators were asked to summarized the performance of the model based on different combination of metric scores. For simplicity only the most common classification metrics were considered. These are accuracy, precision, AUC, recall, specificity, F1-score and F2-score. This implies that the NLG models trained on this dataset will struggle to produce a valid summary of input with unknown metrics.\n",
    "\n",
    "### "
   ]
  },
  {
   "cell_type": "code",
   "execution_count": null,
   "id": "solved-lunch",
   "metadata": {},
   "outputs": [],
   "source": []
  }
 ],
 "metadata": {
  "kernelspec": {
   "display_name": "Python 3",
   "language": "python",
   "name": "python3"
  },
  "language_info": {
   "codemirror_mode": {
    "name": "ipython",
    "version": 3
   },
   "file_extension": ".py",
   "mimetype": "text/x-python",
   "name": "python",
   "nbconvert_exporter": "python",
   "pygments_lexer": "ipython3",
   "version": "3.8.8"
  }
 },
 "nbformat": 4,
 "nbformat_minor": 5
}
