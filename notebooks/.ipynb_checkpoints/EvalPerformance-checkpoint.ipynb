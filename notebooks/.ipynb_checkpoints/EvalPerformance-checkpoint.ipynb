{
 "cells": [
  {
   "cell_type": "code",
   "execution_count": 2,
   "id": "animated-music",
   "metadata": {},
   "outputs": [
    {
     "name": "stdout",
     "output_type": "stream",
     "text": [
      "INFO:tensorflow:Reading checkpoint ../../../bleurt/BLEURT-20/.\n",
      "INFO:tensorflow:Config file found, reading.\n",
      "INFO:tensorflow:Will load checkpoint BLEURT-20\n",
      "INFO:tensorflow:Loads full paths and checks that files exists.\n",
      "INFO:tensorflow:... name:BLEURT-20\n",
      "INFO:tensorflow:... bert_config_file:bert_config.json\n",
      "INFO:tensorflow:... max_seq_length:512\n",
      "INFO:tensorflow:... vocab_file:None\n",
      "INFO:tensorflow:... do_lower_case:None\n",
      "INFO:tensorflow:... sp_model:sent_piece\n",
      "INFO:tensorflow:... dynamic_seq_length:True\n",
      "INFO:tensorflow:Creating BLEURT scorer.\n",
      "INFO:tensorflow:Creating SentencePiece tokenizer.\n",
      "INFO:tensorflow:Creating SentencePiece tokenizer.\n",
      "INFO:tensorflow:Will load model: ../../../bleurt/BLEURT-20/sent_piece.model.\n",
      "INFO:tensorflow:SentencePiece tokenizer created.\n",
      "INFO:tensorflow:Creating Eager Mode predictor.\n",
      "INFO:tensorflow:Loading model.\n"
     ]
    },
    {
     "ename": "InternalError",
     "evalue": "CUDA runtime implicit initialization on GPU:0 failed. Status: out of memory",
     "output_type": "error",
     "traceback": [
      "\u001b[0;31m---------------------------------------------------------------------------\u001b[0m",
      "\u001b[0;31mInternalError\u001b[0m                             Traceback (most recent call last)",
      "\u001b[0;32m<ipython-input-2-b860a454c712>\u001b[0m in \u001b[0;36m<module>\u001b[0;34m\u001b[0m\n\u001b[1;32m      8\u001b[0m \u001b[0;32mfrom\u001b[0m \u001b[0mparent\u001b[0m \u001b[0;32mimport\u001b[0m \u001b[0mparent\u001b[0m\u001b[0;34m\u001b[0m\u001b[0;34m\u001b[0m\u001b[0m\n\u001b[1;32m      9\u001b[0m \u001b[0;32mimport\u001b[0m \u001b[0mjson\u001b[0m\u001b[0;34m\u001b[0m\u001b[0;34m\u001b[0m\u001b[0m\n\u001b[0;32m---> 10\u001b[0;31m \u001b[0mscorer\u001b[0m \u001b[0;34m=\u001b[0m \u001b[0mscore\u001b[0m\u001b[0;34m.\u001b[0m\u001b[0mLengthBatchingBleurtScorer\u001b[0m\u001b[0;34m(\u001b[0m\u001b[0;34m'../../../bleurt/BLEURT-20/'\u001b[0m\u001b[0;34m)\u001b[0m\u001b[0;34m\u001b[0m\u001b[0;34m\u001b[0m\u001b[0m\n\u001b[0m\u001b[1;32m     11\u001b[0m \u001b[0mmetric_bert\u001b[0m \u001b[0;34m=\u001b[0m \u001b[0mload_metric\u001b[0m\u001b[0;34m(\u001b[0m\u001b[0;34m'bertscore'\u001b[0m\u001b[0;34m)\u001b[0m\u001b[0;34m\u001b[0m\u001b[0;34m\u001b[0m\u001b[0m\n\u001b[1;32m     12\u001b[0m \u001b[0mmetric_sbleu\u001b[0m \u001b[0;34m=\u001b[0m \u001b[0mload_metric\u001b[0m\u001b[0;34m(\u001b[0m\u001b[0;34m'sacrebleu'\u001b[0m\u001b[0;34m)\u001b[0m\u001b[0;34m\u001b[0m\u001b[0;34m\u001b[0m\u001b[0m\n",
      "\u001b[0;32m~/anaconda3/envs/annotation/lib/python3.8/site-packages/bleurt/score.py\u001b[0m in \u001b[0;36m__init__\u001b[0;34m(self, checkpoint, predict_fn)\u001b[0m\n\u001b[1;32m    239\u001b[0m \u001b[0;34m\u001b[0m\u001b[0m\n\u001b[1;32m    240\u001b[0m   \u001b[0;32mdef\u001b[0m \u001b[0m__init__\u001b[0m\u001b[0;34m(\u001b[0m\u001b[0mself\u001b[0m\u001b[0;34m,\u001b[0m \u001b[0mcheckpoint\u001b[0m\u001b[0;34m=\u001b[0m\u001b[0;32mNone\u001b[0m\u001b[0;34m,\u001b[0m \u001b[0mpredict_fn\u001b[0m\u001b[0;34m=\u001b[0m\u001b[0;32mNone\u001b[0m\u001b[0;34m)\u001b[0m\u001b[0;34m:\u001b[0m\u001b[0;34m\u001b[0m\u001b[0;34m\u001b[0m\u001b[0m\n\u001b[0;32m--> 241\u001b[0;31m     \u001b[0msuper\u001b[0m\u001b[0;34m(\u001b[0m\u001b[0;34m)\u001b[0m\u001b[0;34m.\u001b[0m\u001b[0m__init__\u001b[0m\u001b[0;34m(\u001b[0m\u001b[0mcheckpoint\u001b[0m\u001b[0;34m,\u001b[0m \u001b[0mpredict_fn\u001b[0m\u001b[0;34m)\u001b[0m\u001b[0;34m\u001b[0m\u001b[0;34m\u001b[0m\u001b[0m\n\u001b[0m\u001b[1;32m    242\u001b[0m     assert self.config[\"dynamic_seq_length\"] or predict_fn, (\n\u001b[1;32m    243\u001b[0m         \u001b[0;34m\"The checkpoint does not support dynamic sequence lengths. Please use \"\u001b[0m\u001b[0;34m\u001b[0m\u001b[0;34m\u001b[0m\u001b[0m\n",
      "\u001b[0;32m~/anaconda3/envs/annotation/lib/python3.8/site-packages/bleurt/score.py\u001b[0m in \u001b[0;36m__init__\u001b[0;34m(self, checkpoint, predict_fn)\u001b[0m\n\u001b[1;32m    171\u001b[0m     \u001b[0mself\u001b[0m\u001b[0;34m.\u001b[0m\u001b[0mmax_seq_length\u001b[0m \u001b[0;34m=\u001b[0m \u001b[0mmax_seq_length\u001b[0m\u001b[0;34m\u001b[0m\u001b[0;34m\u001b[0m\u001b[0m\n\u001b[1;32m    172\u001b[0m     \u001b[0mself\u001b[0m\u001b[0;34m.\u001b[0m\u001b[0m_predictor\u001b[0m \u001b[0;34m=\u001b[0m \u001b[0m_create_predictor\u001b[0m\u001b[0;34m(\u001b[0m\u001b[0mcheckpoint\u001b[0m\u001b[0;34m,\u001b[0m \u001b[0mpredict_fn\u001b[0m\u001b[0;34m)\u001b[0m\u001b[0;34m\u001b[0m\u001b[0;34m\u001b[0m\u001b[0m\n\u001b[0;32m--> 173\u001b[0;31m     \u001b[0mself\u001b[0m\u001b[0;34m.\u001b[0m\u001b[0m_predictor\u001b[0m\u001b[0;34m.\u001b[0m\u001b[0minitialize\u001b[0m\u001b[0;34m(\u001b[0m\u001b[0;34m)\u001b[0m\u001b[0;34m\u001b[0m\u001b[0;34m\u001b[0m\u001b[0m\n\u001b[0m\u001b[1;32m    174\u001b[0m     \u001b[0mlogging\u001b[0m\u001b[0;34m.\u001b[0m\u001b[0minfo\u001b[0m\u001b[0;34m(\u001b[0m\u001b[0;34m\"BLEURT initialized.\"\u001b[0m\u001b[0;34m)\u001b[0m\u001b[0;34m\u001b[0m\u001b[0;34m\u001b[0m\u001b[0m\n\u001b[1;32m    175\u001b[0m \u001b[0;34m\u001b[0m\u001b[0m\n",
      "\u001b[0;32m~/anaconda3/envs/annotation/lib/python3.8/site-packages/bleurt/score.py\u001b[0m in \u001b[0;36minitialize\u001b[0;34m(self)\u001b[0m\n\u001b[1;32m     61\u001b[0m   \u001b[0;32mdef\u001b[0m \u001b[0minitialize\u001b[0m\u001b[0;34m(\u001b[0m\u001b[0mself\u001b[0m\u001b[0;34m)\u001b[0m\u001b[0;34m:\u001b[0m\u001b[0;34m\u001b[0m\u001b[0;34m\u001b[0m\u001b[0m\n\u001b[1;32m     62\u001b[0m     \u001b[0mlogging\u001b[0m\u001b[0;34m.\u001b[0m\u001b[0minfo\u001b[0m\u001b[0;34m(\u001b[0m\u001b[0;34m\"Loading model.\"\u001b[0m\u001b[0;34m)\u001b[0m\u001b[0;34m\u001b[0m\u001b[0;34m\u001b[0m\u001b[0m\n\u001b[0;32m---> 63\u001b[0;31m     \u001b[0mimported\u001b[0m \u001b[0;34m=\u001b[0m \u001b[0mtf\u001b[0m\u001b[0;34m.\u001b[0m\u001b[0msaved_model\u001b[0m\u001b[0;34m.\u001b[0m\u001b[0mload\u001b[0m\u001b[0;34m(\u001b[0m\u001b[0mself\u001b[0m\u001b[0;34m.\u001b[0m\u001b[0mcheckpoint\u001b[0m\u001b[0;34m)\u001b[0m\u001b[0;34m\u001b[0m\u001b[0;34m\u001b[0m\u001b[0m\n\u001b[0m\u001b[1;32m     64\u001b[0m     \u001b[0mself\u001b[0m\u001b[0;34m.\u001b[0m\u001b[0m_bleurt_model_ops\u001b[0m \u001b[0;34m=\u001b[0m \u001b[0mimported\u001b[0m\u001b[0;34m.\u001b[0m\u001b[0msignatures\u001b[0m\u001b[0;34m[\u001b[0m\u001b[0;34m\"serving_default\"\u001b[0m\u001b[0;34m]\u001b[0m\u001b[0;34m\u001b[0m\u001b[0;34m\u001b[0m\u001b[0m\n\u001b[1;32m     65\u001b[0m \u001b[0;34m\u001b[0m\u001b[0m\n",
      "\u001b[0;32m~/anaconda3/envs/annotation/lib/python3.8/site-packages/tensorflow/python/saved_model/load.py\u001b[0m in \u001b[0;36mload\u001b[0;34m(export_dir, tags, options)\u001b[0m\n\u001b[1;32m    867\u001b[0m     \u001b[0mValueError\u001b[0m\u001b[0;34m:\u001b[0m \u001b[0mIf\u001b[0m\u001b[0;31m \u001b[0m\u001b[0;31m`\u001b[0m\u001b[0mtags\u001b[0m\u001b[0;31m`\u001b[0m \u001b[0mdon\u001b[0m\u001b[0;31m'\u001b[0m\u001b[0mt\u001b[0m \u001b[0mmatch\u001b[0m \u001b[0ma\u001b[0m \u001b[0mMetaGraph\u001b[0m \u001b[0;32min\u001b[0m \u001b[0mthe\u001b[0m \u001b[0mSavedModel\u001b[0m\u001b[0;34m.\u001b[0m\u001b[0;34m\u001b[0m\u001b[0;34m\u001b[0m\u001b[0m\n\u001b[1;32m    868\u001b[0m   \"\"\"\n\u001b[0;32m--> 869\u001b[0;31m   \u001b[0;32mreturn\u001b[0m \u001b[0mload_internal\u001b[0m\u001b[0;34m(\u001b[0m\u001b[0mexport_dir\u001b[0m\u001b[0;34m,\u001b[0m \u001b[0mtags\u001b[0m\u001b[0;34m,\u001b[0m \u001b[0moptions\u001b[0m\u001b[0;34m)\u001b[0m\u001b[0;34m[\u001b[0m\u001b[0;34m\"root\"\u001b[0m\u001b[0;34m]\u001b[0m\u001b[0;34m\u001b[0m\u001b[0;34m\u001b[0m\u001b[0m\n\u001b[0m\u001b[1;32m    870\u001b[0m \u001b[0;34m\u001b[0m\u001b[0m\n\u001b[1;32m    871\u001b[0m \u001b[0;34m\u001b[0m\u001b[0m\n",
      "\u001b[0;32m~/anaconda3/envs/annotation/lib/python3.8/site-packages/tensorflow/python/saved_model/load.py\u001b[0m in \u001b[0;36mload_internal\u001b[0;34m(export_dir, tags, options, loader_cls, filters)\u001b[0m\n\u001b[1;32m    923\u001b[0m                        \"version) cannot be loaded with node filters.\")\n\u001b[1;32m    924\u001b[0m     \u001b[0;32mwith\u001b[0m \u001b[0mops\u001b[0m\u001b[0;34m.\u001b[0m\u001b[0minit_scope\u001b[0m\u001b[0;34m(\u001b[0m\u001b[0;34m)\u001b[0m\u001b[0;34m:\u001b[0m\u001b[0;34m\u001b[0m\u001b[0;34m\u001b[0m\u001b[0m\n\u001b[0;32m--> 925\u001b[0;31m       \u001b[0mroot\u001b[0m \u001b[0;34m=\u001b[0m \u001b[0mload_v1_in_v2\u001b[0m\u001b[0;34m.\u001b[0m\u001b[0mload\u001b[0m\u001b[0;34m(\u001b[0m\u001b[0mexport_dir\u001b[0m\u001b[0;34m,\u001b[0m \u001b[0mtags\u001b[0m\u001b[0;34m)\u001b[0m\u001b[0;34m\u001b[0m\u001b[0;34m\u001b[0m\u001b[0m\n\u001b[0m\u001b[1;32m    926\u001b[0m       \u001b[0mroot\u001b[0m\u001b[0;34m.\u001b[0m\u001b[0mgraph_debug_info\u001b[0m \u001b[0;34m=\u001b[0m \u001b[0mdebug_info\u001b[0m\u001b[0;34m\u001b[0m\u001b[0;34m\u001b[0m\u001b[0m\n\u001b[1;32m    927\u001b[0m \u001b[0;34m\u001b[0m\u001b[0m\n",
      "\u001b[0;32m~/anaconda3/envs/annotation/lib/python3.8/site-packages/tensorflow/python/saved_model/load_v1_in_v2.py\u001b[0m in \u001b[0;36mload\u001b[0;34m(export_dir, tags)\u001b[0m\n\u001b[1;32m    279\u001b[0m   \u001b[0;34m\"\"\"Load a v1-style SavedModel as an object.\"\"\"\u001b[0m\u001b[0;34m\u001b[0m\u001b[0;34m\u001b[0m\u001b[0m\n\u001b[1;32m    280\u001b[0m   \u001b[0mloader\u001b[0m \u001b[0;34m=\u001b[0m \u001b[0m_EagerSavedModelLoader\u001b[0m\u001b[0;34m(\u001b[0m\u001b[0mexport_dir\u001b[0m\u001b[0;34m)\u001b[0m\u001b[0;34m\u001b[0m\u001b[0;34m\u001b[0m\u001b[0m\n\u001b[0;32m--> 281\u001b[0;31m   \u001b[0;32mreturn\u001b[0m \u001b[0mloader\u001b[0m\u001b[0;34m.\u001b[0m\u001b[0mload\u001b[0m\u001b[0;34m(\u001b[0m\u001b[0mtags\u001b[0m\u001b[0;34m=\u001b[0m\u001b[0mtags\u001b[0m\u001b[0;34m)\u001b[0m\u001b[0;34m\u001b[0m\u001b[0;34m\u001b[0m\u001b[0m\n\u001b[0m",
      "\u001b[0;32m~/anaconda3/envs/annotation/lib/python3.8/site-packages/tensorflow/python/saved_model/load_v1_in_v2.py\u001b[0m in \u001b[0;36mload\u001b[0;34m(self, tags)\u001b[0m\n\u001b[1;32m    223\u001b[0m \u001b[0;34m\u001b[0m\u001b[0m\n\u001b[1;32m    224\u001b[0m     \u001b[0mload_graph_returns\u001b[0m \u001b[0;34m=\u001b[0m \u001b[0;34m[\u001b[0m\u001b[0;32mNone\u001b[0m\u001b[0;34m]\u001b[0m\u001b[0;34m\u001b[0m\u001b[0;34m\u001b[0m\u001b[0m\n\u001b[0;32m--> 225\u001b[0;31m     wrapped = wrap_function.wrap_function(\n\u001b[0m\u001b[1;32m    226\u001b[0m         \u001b[0mfunctools\u001b[0m\u001b[0;34m.\u001b[0m\u001b[0mpartial\u001b[0m\u001b[0;34m(\u001b[0m\u001b[0mself\u001b[0m\u001b[0;34m.\u001b[0m\u001b[0mload_graph\u001b[0m\u001b[0;34m,\u001b[0m \u001b[0mload_graph_returns\u001b[0m\u001b[0;34m,\u001b[0m \u001b[0mmeta_graph_def\u001b[0m\u001b[0;34m)\u001b[0m\u001b[0;34m,\u001b[0m\u001b[0;34m\u001b[0m\u001b[0;34m\u001b[0m\u001b[0m\n\u001b[1;32m    227\u001b[0m         signature=[])\n",
      "\u001b[0;32m~/anaconda3/envs/annotation/lib/python3.8/site-packages/tensorflow/python/eager/wrap_function.py\u001b[0m in \u001b[0;36mwrap_function\u001b[0;34m(fn, signature, name)\u001b[0m\n\u001b[1;32m    619\u001b[0m     \u001b[0mfunc_graph_name\u001b[0m \u001b[0;34m=\u001b[0m \u001b[0;34m\"wrapped_function_\"\u001b[0m \u001b[0;34m+\u001b[0m \u001b[0mname\u001b[0m\u001b[0;34m\u001b[0m\u001b[0;34m\u001b[0m\u001b[0m\n\u001b[1;32m    620\u001b[0m   return WrappedFunction(\n\u001b[0;32m--> 621\u001b[0;31m       func_graph.func_graph_from_py_func(\n\u001b[0m\u001b[1;32m    622\u001b[0m           \u001b[0mfunc_graph_name\u001b[0m\u001b[0;34m,\u001b[0m\u001b[0;34m\u001b[0m\u001b[0;34m\u001b[0m\u001b[0m\n\u001b[1;32m    623\u001b[0m           \u001b[0mholder\u001b[0m\u001b[0;34m,\u001b[0m\u001b[0;34m\u001b[0m\u001b[0;34m\u001b[0m\u001b[0m\n",
      "\u001b[0;32m~/anaconda3/envs/annotation/lib/python3.8/site-packages/tensorflow/python/framework/func_graph.py\u001b[0m in \u001b[0;36mfunc_graph_from_py_func\u001b[0;34m(name, python_func, args, kwargs, signature, func_graph, autograph, autograph_options, add_control_dependencies, arg_names, op_return_value, collections, capture_by_value, override_flat_arg_shapes)\u001b[0m\n\u001b[1;32m    997\u001b[0m         \u001b[0m_\u001b[0m\u001b[0;34m,\u001b[0m \u001b[0moriginal_func\u001b[0m \u001b[0;34m=\u001b[0m \u001b[0mtf_decorator\u001b[0m\u001b[0;34m.\u001b[0m\u001b[0munwrap\u001b[0m\u001b[0;34m(\u001b[0m\u001b[0mpython_func\u001b[0m\u001b[0;34m)\u001b[0m\u001b[0;34m\u001b[0m\u001b[0;34m\u001b[0m\u001b[0m\n\u001b[1;32m    998\u001b[0m \u001b[0;34m\u001b[0m\u001b[0m\n\u001b[0;32m--> 999\u001b[0;31m       \u001b[0mfunc_outputs\u001b[0m \u001b[0;34m=\u001b[0m \u001b[0mpython_func\u001b[0m\u001b[0;34m(\u001b[0m\u001b[0;34m*\u001b[0m\u001b[0mfunc_args\u001b[0m\u001b[0;34m,\u001b[0m \u001b[0;34m**\u001b[0m\u001b[0mfunc_kwargs\u001b[0m\u001b[0;34m)\u001b[0m\u001b[0;34m\u001b[0m\u001b[0;34m\u001b[0m\u001b[0m\n\u001b[0m\u001b[1;32m   1000\u001b[0m \u001b[0;34m\u001b[0m\u001b[0m\n\u001b[1;32m   1001\u001b[0m       \u001b[0;31m# invariant: `func_outputs` contains only Tensors, CompositeTensors,\u001b[0m\u001b[0;34m\u001b[0m\u001b[0;34m\u001b[0m\u001b[0;34m\u001b[0m\u001b[0m\n",
      "\u001b[0;32m~/anaconda3/envs/annotation/lib/python3.8/site-packages/tensorflow/python/eager/wrap_function.py\u001b[0m in \u001b[0;36m__call__\u001b[0;34m(self, *args, **kwargs)\u001b[0m\n\u001b[1;32m     85\u001b[0m \u001b[0;34m\u001b[0m\u001b[0m\n\u001b[1;32m     86\u001b[0m   \u001b[0;32mdef\u001b[0m \u001b[0m__call__\u001b[0m\u001b[0;34m(\u001b[0m\u001b[0mself\u001b[0m\u001b[0;34m,\u001b[0m \u001b[0;34m*\u001b[0m\u001b[0margs\u001b[0m\u001b[0;34m,\u001b[0m \u001b[0;34m**\u001b[0m\u001b[0mkwargs\u001b[0m\u001b[0;34m)\u001b[0m\u001b[0;34m:\u001b[0m\u001b[0;34m\u001b[0m\u001b[0;34m\u001b[0m\u001b[0m\n\u001b[0;32m---> 87\u001b[0;31m     \u001b[0;32mreturn\u001b[0m \u001b[0mself\u001b[0m\u001b[0;34m.\u001b[0m\u001b[0mcall_with_variable_creator_scope\u001b[0m\u001b[0;34m(\u001b[0m\u001b[0mself\u001b[0m\u001b[0;34m.\u001b[0m\u001b[0m_fn\u001b[0m\u001b[0;34m)\u001b[0m\u001b[0;34m(\u001b[0m\u001b[0;34m*\u001b[0m\u001b[0margs\u001b[0m\u001b[0;34m,\u001b[0m \u001b[0;34m**\u001b[0m\u001b[0mkwargs\u001b[0m\u001b[0;34m)\u001b[0m\u001b[0;34m\u001b[0m\u001b[0;34m\u001b[0m\u001b[0m\n\u001b[0m\u001b[1;32m     88\u001b[0m \u001b[0;34m\u001b[0m\u001b[0m\n\u001b[1;32m     89\u001b[0m   \u001b[0;32mdef\u001b[0m \u001b[0mcall_with_variable_creator_scope\u001b[0m\u001b[0;34m(\u001b[0m\u001b[0mself\u001b[0m\u001b[0;34m,\u001b[0m \u001b[0mfn\u001b[0m\u001b[0;34m)\u001b[0m\u001b[0;34m:\u001b[0m\u001b[0;34m\u001b[0m\u001b[0;34m\u001b[0m\u001b[0m\n",
      "\u001b[0;32m~/anaconda3/envs/annotation/lib/python3.8/site-packages/tensorflow/python/eager/wrap_function.py\u001b[0m in \u001b[0;36mwrapped\u001b[0;34m(*args, **kwargs)\u001b[0m\n\u001b[1;32m     91\u001b[0m     \u001b[0;32mdef\u001b[0m \u001b[0mwrapped\u001b[0m\u001b[0;34m(\u001b[0m\u001b[0;34m*\u001b[0m\u001b[0margs\u001b[0m\u001b[0;34m,\u001b[0m \u001b[0;34m**\u001b[0m\u001b[0mkwargs\u001b[0m\u001b[0;34m)\u001b[0m\u001b[0;34m:\u001b[0m\u001b[0;34m\u001b[0m\u001b[0;34m\u001b[0m\u001b[0m\n\u001b[1;32m     92\u001b[0m       \u001b[0;32mwith\u001b[0m \u001b[0mvariable_scope\u001b[0m\u001b[0;34m.\u001b[0m\u001b[0mvariable_creator_scope\u001b[0m\u001b[0;34m(\u001b[0m\u001b[0mself\u001b[0m\u001b[0;34m.\u001b[0m\u001b[0mvariable_creator_scope\u001b[0m\u001b[0;34m)\u001b[0m\u001b[0;34m:\u001b[0m\u001b[0;34m\u001b[0m\u001b[0;34m\u001b[0m\u001b[0m\n\u001b[0;32m---> 93\u001b[0;31m         \u001b[0;32mreturn\u001b[0m \u001b[0mfn\u001b[0m\u001b[0;34m(\u001b[0m\u001b[0;34m*\u001b[0m\u001b[0margs\u001b[0m\u001b[0;34m,\u001b[0m \u001b[0;34m**\u001b[0m\u001b[0mkwargs\u001b[0m\u001b[0;34m)\u001b[0m\u001b[0;34m\u001b[0m\u001b[0;34m\u001b[0m\u001b[0m\n\u001b[0m\u001b[1;32m     94\u001b[0m \u001b[0;34m\u001b[0m\u001b[0m\n\u001b[1;32m     95\u001b[0m     \u001b[0;32mreturn\u001b[0m \u001b[0mwrapped\u001b[0m\u001b[0;34m\u001b[0m\u001b[0;34m\u001b[0m\u001b[0m\n",
      "\u001b[0;32m~/anaconda3/envs/annotation/lib/python3.8/site-packages/tensorflow/python/saved_model/load_v1_in_v2.py\u001b[0m in \u001b[0;36mload_graph\u001b[0;34m(self, returns, meta_graph_def)\u001b[0m\n\u001b[1;32m     90\u001b[0m     \u001b[0;34m\"\"\"Called from wrap_function to import `meta_graph_def`.\"\"\"\u001b[0m\u001b[0;34m\u001b[0m\u001b[0;34m\u001b[0m\u001b[0m\n\u001b[1;32m     91\u001b[0m     \u001b[0;31m# pylint: disable=protected-access\u001b[0m\u001b[0;34m\u001b[0m\u001b[0;34m\u001b[0m\u001b[0;34m\u001b[0m\u001b[0m\n\u001b[0;32m---> 92\u001b[0;31m     saver, _ = tf_saver._import_meta_graph_with_return_elements(\n\u001b[0m\u001b[1;32m     93\u001b[0m         meta_graph_def)\n\u001b[1;32m     94\u001b[0m     \u001b[0;31m# pylint: enable=protected-access\u001b[0m\u001b[0;34m\u001b[0m\u001b[0;34m\u001b[0m\u001b[0;34m\u001b[0m\u001b[0m\n",
      "\u001b[0;32m~/anaconda3/envs/annotation/lib/python3.8/site-packages/tensorflow/python/training/saver.py\u001b[0m in \u001b[0;36m_import_meta_graph_with_return_elements\u001b[0;34m(meta_graph_or_file, clear_devices, import_scope, return_elements, **kwargs)\u001b[0m\n\u001b[1;32m   1484\u001b[0m \u001b[0;34m\u001b[0m\u001b[0m\n\u001b[1;32m   1485\u001b[0m   imported_vars, imported_return_elements = (\n\u001b[0;32m-> 1486\u001b[0;31m       meta_graph.import_scoped_meta_graph_with_return_elements(\n\u001b[0m\u001b[1;32m   1487\u001b[0m           \u001b[0mmeta_graph_def\u001b[0m\u001b[0;34m,\u001b[0m\u001b[0;34m\u001b[0m\u001b[0;34m\u001b[0m\u001b[0m\n\u001b[1;32m   1488\u001b[0m           \u001b[0mclear_devices\u001b[0m\u001b[0;34m=\u001b[0m\u001b[0mclear_devices\u001b[0m\u001b[0;34m,\u001b[0m\u001b[0;34m\u001b[0m\u001b[0;34m\u001b[0m\u001b[0m\n",
      "\u001b[0;32m~/anaconda3/envs/annotation/lib/python3.8/site-packages/tensorflow/python/framework/meta_graph.py\u001b[0m in \u001b[0;36mimport_scoped_meta_graph_with_return_elements\u001b[0;34m(meta_graph_or_file, clear_devices, graph, import_scope, input_map, unbound_inputs_col_name, restore_collections_predicate, return_elements)\u001b[0m\n\u001b[1;32m    799\u001b[0m         import_scope or \"\", mark_as_used=False)\n\u001b[1;32m    800\u001b[0m \u001b[0;34m\u001b[0m\u001b[0m\n\u001b[0;32m--> 801\u001b[0;31m     imported_return_elements = importer.import_graph_def(\n\u001b[0m\u001b[1;32m    802\u001b[0m         \u001b[0minput_graph_def\u001b[0m\u001b[0;34m,\u001b[0m\u001b[0;34m\u001b[0m\u001b[0;34m\u001b[0m\u001b[0m\n\u001b[1;32m    803\u001b[0m         \u001b[0mname\u001b[0m\u001b[0;34m=\u001b[0m\u001b[0;34m(\u001b[0m\u001b[0mimport_scope\u001b[0m \u001b[0;32mor\u001b[0m \u001b[0mscope_to_prepend_to_names\u001b[0m\u001b[0;34m)\u001b[0m\u001b[0;34m,\u001b[0m\u001b[0;34m\u001b[0m\u001b[0;34m\u001b[0m\u001b[0m\n",
      "\u001b[0;32m~/anaconda3/envs/annotation/lib/python3.8/site-packages/tensorflow/python/util/deprecation.py\u001b[0m in \u001b[0;36mnew_func\u001b[0;34m(*args, **kwargs)\u001b[0m\n\u001b[1;32m    533\u001b[0m                 \u001b[0;34m'in a future version'\u001b[0m \u001b[0;32mif\u001b[0m \u001b[0mdate\u001b[0m \u001b[0;32mis\u001b[0m \u001b[0;32mNone\u001b[0m \u001b[0;32melse\u001b[0m \u001b[0;34m(\u001b[0m\u001b[0;34m'after %s'\u001b[0m \u001b[0;34m%\u001b[0m \u001b[0mdate\u001b[0m\u001b[0;34m)\u001b[0m\u001b[0;34m,\u001b[0m\u001b[0;34m\u001b[0m\u001b[0;34m\u001b[0m\u001b[0m\n\u001b[1;32m    534\u001b[0m                 instructions)\n\u001b[0;32m--> 535\u001b[0;31m       \u001b[0;32mreturn\u001b[0m \u001b[0mfunc\u001b[0m\u001b[0;34m(\u001b[0m\u001b[0;34m*\u001b[0m\u001b[0margs\u001b[0m\u001b[0;34m,\u001b[0m \u001b[0;34m**\u001b[0m\u001b[0mkwargs\u001b[0m\u001b[0;34m)\u001b[0m\u001b[0;34m\u001b[0m\u001b[0;34m\u001b[0m\u001b[0m\n\u001b[0m\u001b[1;32m    536\u001b[0m \u001b[0;34m\u001b[0m\u001b[0m\n\u001b[1;32m    537\u001b[0m     doc = _add_deprecated_arg_notice_to_docstring(\n",
      "\u001b[0;32m~/anaconda3/envs/annotation/lib/python3.8/site-packages/tensorflow/python/framework/importer.py\u001b[0m in \u001b[0;36mimport_graph_def\u001b[0;34m(***failed resolving arguments***)\u001b[0m\n\u001b[1;32m    398\u001b[0m   \"\"\"\n\u001b[1;32m    399\u001b[0m   \u001b[0;32mdel\u001b[0m \u001b[0mop_dict\u001b[0m\u001b[0;34m\u001b[0m\u001b[0;34m\u001b[0m\u001b[0m\n\u001b[0;32m--> 400\u001b[0;31m   return _import_graph_def_internal(\n\u001b[0m\u001b[1;32m    401\u001b[0m       \u001b[0mgraph_def\u001b[0m\u001b[0;34m,\u001b[0m\u001b[0;34m\u001b[0m\u001b[0;34m\u001b[0m\u001b[0m\n\u001b[1;32m    402\u001b[0m       \u001b[0minput_map\u001b[0m\u001b[0;34m=\u001b[0m\u001b[0minput_map\u001b[0m\u001b[0;34m,\u001b[0m\u001b[0;34m\u001b[0m\u001b[0;34m\u001b[0m\u001b[0m\n",
      "\u001b[0;32m~/anaconda3/envs/annotation/lib/python3.8/site-packages/tensorflow/python/framework/importer.py\u001b[0m in \u001b[0;36m_import_graph_def_internal\u001b[0;34m(graph_def, input_map, return_elements, validate_colocation_constraints, name, producer_op_list)\u001b[0m\n\u001b[1;32m    511\u001b[0m     \u001b[0;31m# TODO(skyewm): avoid sending serialized FunctionDefs back to the TF_Graph\u001b[0m\u001b[0;34m\u001b[0m\u001b[0;34m\u001b[0m\u001b[0;34m\u001b[0m\u001b[0m\n\u001b[1;32m    512\u001b[0m \u001b[0;34m\u001b[0m\u001b[0m\n\u001b[0;32m--> 513\u001b[0;31m     \u001b[0m_ProcessNewOps\u001b[0m\u001b[0;34m(\u001b[0m\u001b[0mgraph\u001b[0m\u001b[0;34m)\u001b[0m\u001b[0;34m\u001b[0m\u001b[0;34m\u001b[0m\u001b[0m\n\u001b[0m\u001b[1;32m    514\u001b[0m \u001b[0;34m\u001b[0m\u001b[0m\n\u001b[1;32m    515\u001b[0m   \u001b[0;32mif\u001b[0m \u001b[0mgraph_def\u001b[0m\u001b[0;34m.\u001b[0m\u001b[0mlibrary\u001b[0m \u001b[0;32mand\u001b[0m \u001b[0mgraph_def\u001b[0m\u001b[0;34m.\u001b[0m\u001b[0mlibrary\u001b[0m\u001b[0;34m.\u001b[0m\u001b[0mfunction\u001b[0m\u001b[0;34m:\u001b[0m\u001b[0;34m\u001b[0m\u001b[0;34m\u001b[0m\u001b[0m\n",
      "\u001b[0;32m~/anaconda3/envs/annotation/lib/python3.8/site-packages/tensorflow/python/framework/importer.py\u001b[0m in \u001b[0;36m_ProcessNewOps\u001b[0;34m(graph)\u001b[0m\n\u001b[1;32m    252\u001b[0m       \u001b[0;31m# TODO(skyewm): why does it override the original device?\u001b[0m\u001b[0;34m\u001b[0m\u001b[0;34m\u001b[0m\u001b[0;34m\u001b[0m\u001b[0m\n\u001b[1;32m    253\u001b[0m     \u001b[0;32melse\u001b[0m\u001b[0;34m:\u001b[0m\u001b[0;34m\u001b[0m\u001b[0;34m\u001b[0m\u001b[0m\n\u001b[0;32m--> 254\u001b[0;31m       \u001b[0;32mwith\u001b[0m \u001b[0m_MaybeDevice\u001b[0m\u001b[0;34m(\u001b[0m\u001b[0moriginal_device\u001b[0m\u001b[0;34m)\u001b[0m\u001b[0;34m:\u001b[0m\u001b[0;34m\u001b[0m\u001b[0;34m\u001b[0m\u001b[0m\n\u001b[0m\u001b[1;32m    255\u001b[0m         \u001b[0mgraph\u001b[0m\u001b[0;34m.\u001b[0m\u001b[0m_apply_device_functions\u001b[0m\u001b[0;34m(\u001b[0m\u001b[0mnew_op\u001b[0m\u001b[0;34m)\u001b[0m  \u001b[0;31m# pylint: disable=protected-access\u001b[0m\u001b[0;34m\u001b[0m\u001b[0;34m\u001b[0m\u001b[0m\n\u001b[1;32m    256\u001b[0m \u001b[0;34m\u001b[0m\u001b[0m\n",
      "\u001b[0;32m~/anaconda3/envs/annotation/lib/python3.8/contextlib.py\u001b[0m in \u001b[0;36m__enter__\u001b[0;34m(self)\u001b[0m\n\u001b[1;32m    111\u001b[0m         \u001b[0;32mdel\u001b[0m \u001b[0mself\u001b[0m\u001b[0;34m.\u001b[0m\u001b[0margs\u001b[0m\u001b[0;34m,\u001b[0m \u001b[0mself\u001b[0m\u001b[0;34m.\u001b[0m\u001b[0mkwds\u001b[0m\u001b[0;34m,\u001b[0m \u001b[0mself\u001b[0m\u001b[0;34m.\u001b[0m\u001b[0mfunc\u001b[0m\u001b[0;34m\u001b[0m\u001b[0;34m\u001b[0m\u001b[0m\n\u001b[1;32m    112\u001b[0m         \u001b[0;32mtry\u001b[0m\u001b[0;34m:\u001b[0m\u001b[0;34m\u001b[0m\u001b[0;34m\u001b[0m\u001b[0m\n\u001b[0;32m--> 113\u001b[0;31m             \u001b[0;32mreturn\u001b[0m \u001b[0mnext\u001b[0m\u001b[0;34m(\u001b[0m\u001b[0mself\u001b[0m\u001b[0;34m.\u001b[0m\u001b[0mgen\u001b[0m\u001b[0;34m)\u001b[0m\u001b[0;34m\u001b[0m\u001b[0;34m\u001b[0m\u001b[0m\n\u001b[0m\u001b[1;32m    114\u001b[0m         \u001b[0;32mexcept\u001b[0m \u001b[0mStopIteration\u001b[0m\u001b[0;34m:\u001b[0m\u001b[0;34m\u001b[0m\u001b[0;34m\u001b[0m\u001b[0m\n\u001b[1;32m    115\u001b[0m             \u001b[0;32mraise\u001b[0m \u001b[0mRuntimeError\u001b[0m\u001b[0;34m(\u001b[0m\u001b[0;34m\"generator didn't yield\"\u001b[0m\u001b[0;34m)\u001b[0m \u001b[0;32mfrom\u001b[0m \u001b[0;32mNone\u001b[0m\u001b[0;34m\u001b[0m\u001b[0;34m\u001b[0m\u001b[0m\n",
      "\u001b[0;32m~/anaconda3/envs/annotation/lib/python3.8/site-packages/tensorflow/python/framework/importer.py\u001b[0m in \u001b[0;36m_MaybeDevice\u001b[0;34m(device)\u001b[0m\n\u001b[1;32m     78\u001b[0m   \u001b[0;34m\"\"\"Applies the given device only if device is not None or empty.\"\"\"\u001b[0m\u001b[0;34m\u001b[0m\u001b[0;34m\u001b[0m\u001b[0m\n\u001b[1;32m     79\u001b[0m   \u001b[0;32mif\u001b[0m \u001b[0mdevice\u001b[0m\u001b[0;34m:\u001b[0m\u001b[0;34m\u001b[0m\u001b[0;34m\u001b[0m\u001b[0m\n\u001b[0;32m---> 80\u001b[0;31m     \u001b[0;32mwith\u001b[0m \u001b[0mops\u001b[0m\u001b[0;34m.\u001b[0m\u001b[0mdevice\u001b[0m\u001b[0;34m(\u001b[0m\u001b[0mdevice\u001b[0m\u001b[0;34m)\u001b[0m\u001b[0;34m:\u001b[0m\u001b[0;34m\u001b[0m\u001b[0;34m\u001b[0m\u001b[0m\n\u001b[0m\u001b[1;32m     81\u001b[0m       \u001b[0;32myield\u001b[0m\u001b[0;34m\u001b[0m\u001b[0;34m\u001b[0m\u001b[0m\n\u001b[1;32m     82\u001b[0m   \u001b[0;32melse\u001b[0m\u001b[0;34m:\u001b[0m\u001b[0;34m\u001b[0m\u001b[0;34m\u001b[0m\u001b[0m\n",
      "\u001b[0;32m~/anaconda3/envs/annotation/lib/python3.8/contextlib.py\u001b[0m in \u001b[0;36m__enter__\u001b[0;34m(self)\u001b[0m\n\u001b[1;32m    111\u001b[0m         \u001b[0;32mdel\u001b[0m \u001b[0mself\u001b[0m\u001b[0;34m.\u001b[0m\u001b[0margs\u001b[0m\u001b[0;34m,\u001b[0m \u001b[0mself\u001b[0m\u001b[0;34m.\u001b[0m\u001b[0mkwds\u001b[0m\u001b[0;34m,\u001b[0m \u001b[0mself\u001b[0m\u001b[0;34m.\u001b[0m\u001b[0mfunc\u001b[0m\u001b[0;34m\u001b[0m\u001b[0;34m\u001b[0m\u001b[0m\n\u001b[1;32m    112\u001b[0m         \u001b[0;32mtry\u001b[0m\u001b[0;34m:\u001b[0m\u001b[0;34m\u001b[0m\u001b[0;34m\u001b[0m\u001b[0m\n\u001b[0;32m--> 113\u001b[0;31m             \u001b[0;32mreturn\u001b[0m \u001b[0mnext\u001b[0m\u001b[0;34m(\u001b[0m\u001b[0mself\u001b[0m\u001b[0;34m.\u001b[0m\u001b[0mgen\u001b[0m\u001b[0;34m)\u001b[0m\u001b[0;34m\u001b[0m\u001b[0;34m\u001b[0m\u001b[0m\n\u001b[0m\u001b[1;32m    114\u001b[0m         \u001b[0;32mexcept\u001b[0m \u001b[0mStopIteration\u001b[0m\u001b[0;34m:\u001b[0m\u001b[0;34m\u001b[0m\u001b[0;34m\u001b[0m\u001b[0m\n\u001b[1;32m    115\u001b[0m             \u001b[0;32mraise\u001b[0m \u001b[0mRuntimeError\u001b[0m\u001b[0;34m(\u001b[0m\u001b[0;34m\"generator didn't yield\"\u001b[0m\u001b[0;34m)\u001b[0m \u001b[0;32mfrom\u001b[0m \u001b[0;32mNone\u001b[0m\u001b[0;34m\u001b[0m\u001b[0;34m\u001b[0m\u001b[0m\n",
      "\u001b[0;32m~/anaconda3/envs/annotation/lib/python3.8/site-packages/tensorflow/python/framework/ops.py\u001b[0m in \u001b[0;36mcombined\u001b[0;34m(device_name_or_function)\u001b[0m\n\u001b[1;32m   5259\u001b[0m       \u001b[0;32mwith\u001b[0m \u001b[0mget_default_graph\u001b[0m\u001b[0;34m(\u001b[0m\u001b[0;34m)\u001b[0m\u001b[0;34m.\u001b[0m\u001b[0mdevice\u001b[0m\u001b[0;34m(\u001b[0m\u001b[0mdevice_name_or_function\u001b[0m\u001b[0;34m)\u001b[0m\u001b[0;34m:\u001b[0m\u001b[0;34m\u001b[0m\u001b[0;34m\u001b[0m\u001b[0m\n\u001b[1;32m   5260\u001b[0m         \u001b[0;32mif\u001b[0m \u001b[0;32mnot\u001b[0m \u001b[0mcallable\u001b[0m\u001b[0;34m(\u001b[0m\u001b[0mdevice_name_or_function\u001b[0m\u001b[0;34m)\u001b[0m\u001b[0;34m:\u001b[0m\u001b[0;34m\u001b[0m\u001b[0;34m\u001b[0m\u001b[0m\n\u001b[0;32m-> 5261\u001b[0;31m           \u001b[0;32mwith\u001b[0m \u001b[0mcontext\u001b[0m\u001b[0;34m.\u001b[0m\u001b[0mdevice\u001b[0m\u001b[0;34m(\u001b[0m\u001b[0mdevice_name_or_function\u001b[0m\u001b[0;34m)\u001b[0m\u001b[0;34m:\u001b[0m\u001b[0;34m\u001b[0m\u001b[0;34m\u001b[0m\u001b[0m\n\u001b[0m\u001b[1;32m   5262\u001b[0m             \u001b[0;32myield\u001b[0m\u001b[0;34m\u001b[0m\u001b[0;34m\u001b[0m\u001b[0m\n\u001b[1;32m   5263\u001b[0m         \u001b[0;32melse\u001b[0m\u001b[0;34m:\u001b[0m\u001b[0;34m\u001b[0m\u001b[0;34m\u001b[0m\u001b[0m\n",
      "\u001b[0;32m~/anaconda3/envs/annotation/lib/python3.8/site-packages/tensorflow/python/eager/context.py\u001b[0m in \u001b[0;36mdevice\u001b[0;34m(name)\u001b[0m\n\u001b[1;32m   2070\u001b[0m     \u001b[0mContext\u001b[0m \u001b[0mmanager\u001b[0m \u001b[0;32mfor\u001b[0m \u001b[0msetting\u001b[0m \u001b[0mthe\u001b[0m \u001b[0mdevice\u001b[0m\u001b[0;34m.\u001b[0m\u001b[0;34m\u001b[0m\u001b[0;34m\u001b[0m\u001b[0m\n\u001b[1;32m   2071\u001b[0m   \"\"\"\n\u001b[0;32m-> 2072\u001b[0;31m   \u001b[0mensure_initialized\u001b[0m\u001b[0;34m(\u001b[0m\u001b[0;34m)\u001b[0m\u001b[0;34m\u001b[0m\u001b[0;34m\u001b[0m\u001b[0m\n\u001b[0m\u001b[1;32m   2073\u001b[0m   \u001b[0;32mreturn\u001b[0m \u001b[0mcontext\u001b[0m\u001b[0;34m(\u001b[0m\u001b[0;34m)\u001b[0m\u001b[0;34m.\u001b[0m\u001b[0mdevice\u001b[0m\u001b[0;34m(\u001b[0m\u001b[0mname\u001b[0m\u001b[0;34m)\u001b[0m\u001b[0;34m\u001b[0m\u001b[0;34m\u001b[0m\u001b[0m\n\u001b[1;32m   2074\u001b[0m \u001b[0;34m\u001b[0m\u001b[0m\n",
      "\u001b[0;32m~/anaconda3/envs/annotation/lib/python3.8/site-packages/tensorflow/python/eager/context.py\u001b[0m in \u001b[0;36mensure_initialized\u001b[0;34m()\u001b[0m\n\u001b[1;32m   1865\u001b[0m \u001b[0;32mdef\u001b[0m \u001b[0mensure_initialized\u001b[0m\u001b[0;34m(\u001b[0m\u001b[0;34m)\u001b[0m\u001b[0;34m:\u001b[0m\u001b[0;34m\u001b[0m\u001b[0;34m\u001b[0m\u001b[0m\n\u001b[1;32m   1866\u001b[0m   \u001b[0;34m\"\"\"Initialize the context.\"\"\"\u001b[0m\u001b[0;34m\u001b[0m\u001b[0;34m\u001b[0m\u001b[0m\n\u001b[0;32m-> 1867\u001b[0;31m   \u001b[0mcontext\u001b[0m\u001b[0;34m(\u001b[0m\u001b[0;34m)\u001b[0m\u001b[0;34m.\u001b[0m\u001b[0mensure_initialized\u001b[0m\u001b[0;34m(\u001b[0m\u001b[0;34m)\u001b[0m\u001b[0;34m\u001b[0m\u001b[0;34m\u001b[0m\u001b[0m\n\u001b[0m\u001b[1;32m   1868\u001b[0m \u001b[0;34m\u001b[0m\u001b[0m\n\u001b[1;32m   1869\u001b[0m \u001b[0;34m\u001b[0m\u001b[0m\n",
      "\u001b[0;32m~/anaconda3/envs/annotation/lib/python3.8/site-packages/tensorflow/python/eager/context.py\u001b[0m in \u001b[0;36mensure_initialized\u001b[0;34m(self)\u001b[0m\n\u001b[1;32m    523\u001b[0m         \u001b[0;32mif\u001b[0m \u001b[0mself\u001b[0m\u001b[0;34m.\u001b[0m\u001b[0m_use_tfrt\u001b[0m \u001b[0;32mis\u001b[0m \u001b[0;32mnot\u001b[0m \u001b[0;32mNone\u001b[0m\u001b[0;34m:\u001b[0m\u001b[0;34m\u001b[0m\u001b[0;34m\u001b[0m\u001b[0m\n\u001b[1;32m    524\u001b[0m           \u001b[0mpywrap_tfe\u001b[0m\u001b[0;34m.\u001b[0m\u001b[0mTFE_ContextOptionsSetTfrt\u001b[0m\u001b[0;34m(\u001b[0m\u001b[0mopts\u001b[0m\u001b[0;34m,\u001b[0m \u001b[0mself\u001b[0m\u001b[0;34m.\u001b[0m\u001b[0m_use_tfrt\u001b[0m\u001b[0;34m)\u001b[0m\u001b[0;34m\u001b[0m\u001b[0;34m\u001b[0m\u001b[0m\n\u001b[0;32m--> 525\u001b[0;31m         \u001b[0mcontext_handle\u001b[0m \u001b[0;34m=\u001b[0m \u001b[0mpywrap_tfe\u001b[0m\u001b[0;34m.\u001b[0m\u001b[0mTFE_NewContext\u001b[0m\u001b[0;34m(\u001b[0m\u001b[0mopts\u001b[0m\u001b[0;34m)\u001b[0m\u001b[0;34m\u001b[0m\u001b[0;34m\u001b[0m\u001b[0m\n\u001b[0m\u001b[1;32m    526\u001b[0m       \u001b[0;32mfinally\u001b[0m\u001b[0;34m:\u001b[0m\u001b[0;34m\u001b[0m\u001b[0;34m\u001b[0m\u001b[0m\n\u001b[1;32m    527\u001b[0m         \u001b[0mpywrap_tfe\u001b[0m\u001b[0;34m.\u001b[0m\u001b[0mTFE_DeleteContextOptions\u001b[0m\u001b[0;34m(\u001b[0m\u001b[0mopts\u001b[0m\u001b[0;34m)\u001b[0m\u001b[0;34m\u001b[0m\u001b[0;34m\u001b[0m\u001b[0m\n",
      "\u001b[0;31mInternalError\u001b[0m: CUDA runtime implicit initialization on GPU:0 failed. Status: out of memory"
     ]
    }
   ],
   "source": [
    "import sys\n",
    "\n",
    "sys.path.append('../src')\n",
    "sys.path.append('../TrainedNarrators/')\n",
    "from data_utils import *\n",
    "from datasets  import load_metric\n",
    "from bleurt import score\n",
    "from parent import parent\n",
    "import json\n",
    "scorer = score.LengthBatchingBleurtScorer('../../../bleurt/BLEURT-20/')\n",
    "metric_bert = load_metric('bertscore')\n",
    "metric_sbleu = load_metric('sacrebleu')\n",
    "metric_meteor = load_metric('meteor')\n",
    "#metric_bleurt = load_metric('bleurt', 'bleurt-large-512')\n",
    "metric_rouge = load_metric('rouge')\n",
    "metric_wer = load_metric('google_bleu')\n"
   ]
  },
  {
   "cell_type": "code",
   "execution_count": 4,
   "id": "deadly-comparative",
   "metadata": {},
   "outputs": [],
   "source": [
    "test_data = json.load(open('../dataset/test set.json'))\n",
    "test_sample = []\n",
    "eval_tables = []\n",
    "for pc in test_data:\n",
    "    test_sample.append(processInputTableAndNarrations(\n",
    "        pc, identical_metrics=identicals))\n",
    "    # eval_tables.append(parseTableStructureForEval(pc,identicals))\n",
    "rtest_sample = []\n",
    "reval_tables = []\n",
    "for pc in test_data:\n",
    "    rtest_sample.append(processInputTableAndNarrations(\n",
    "        pc, identical_metrics=identicals))\n",
    "\n",
    "refs = [[t['narration'].lower() for t in test_sample]]\n",
    "orf = [[normalize_text(r) for r in refs[0]]]\n",
    "\n",
    "from sacrebleu.tokenizers import tokenizer_13a\n",
    "def normalize_text(s):\n",
    "    tokenize_fn = lambda x: tokenizer_13a.Tokenizer13a()(x)\n",
    "    return tokenize_fn(s.strip().lower())\n",
    "# Prepare the table for PARENT score\n",
    "def ParentisePreamble(pc):\n",
    "    mets = []\n",
    "    for m,v in zip(pc['metrics'],pc['values']):\n",
    "        stg = [f'{m}',normalize_text(v).split()]\n",
    "        mets.append(stg)\n",
    "    random.shuffle(mets)\n",
    "    class_labels = pc['classes']\n",
    "    classes_string = 'or '.join(class_labels[:-1])+' or '+class_labels[-1]\n",
    "    classes_string_1 = ', '.join(class_labels[:-1])+' and '+class_labels[-1]\n",
    "    mets.append(['labels',normalize_text(classes_string).split()])\n",
    "    mets.append(['classes',normalize_text(classes_string_1).split()])\n",
    "    ds= pc['dataset_attribute'][0]\n",
    "    if ds =='is_balanced':\n",
    "        ds = 'balance'\n",
    "    else:\n",
    "        ds= 'imbalance'\n",
    "    #mets.append(['dist',normalize_text(ds.replace('is_','')).strip().split()])\n",
    "    if len(class_labels)<3:\n",
    "        mets.append(['mode1',normalize_text('binary').split()])\n",
    "        #mets.append(['mode2',normalize_text('two-way').split()])\n",
    "    else:\n",
    "        if len(class_labels)<3:\n",
    "            mets.append(['mode1',normalize_text('multi-class').split()])\n",
    "            #mets.append(['mode2',normalize_text('four-way' if len(class_labels==4) else 'three-way').split()])\n",
    "    return mets\n",
    "typ=table_rep=[ParentisePreamble(pc) for pc in test_sample]"
   ]
  },
  {
   "cell_type": "code",
   "execution_count": null,
   "id": "ambient-kelly",
   "metadata": {},
   "outputs": [],
   "source": [
    "# Load the generated texts\n",
    "import copy\n",
    "import json\n",
    "t5_small_43= json.load(open('../TrainedNarrators/P-NarrationsModels/baselineoutputs_new/t5-small/43/narrations_outputoe.json','rb'))\n",
    "t5_small_128= json.load(open('../TrainedNarrators/P-NarrationsModels/baselineoutputs_new/t5-small/128/narrations_outputoe.json','rb'))\n",
    "t5_small_456= json.load(open('../TrainedNarrators/P-NarrationsModels/baselineoutputs_new/t5-small/456/narrations_outputoe.json','rb'))\n",
    "t5_small_3087= json.load(open('../TrainedNarrators/P-NarrationsModels/baselineoutputs_new/t5-small/3087//narrations_outputoe.json','rb'))\n",
    "t5_small_1984= json.load(open('../TrainedNarrators/P-NarrationsModels/baselineoutputs_new/t5-small/1984//narrations_outputoe.json','rb'))\n",
    "t5_small =[t5_small_43,t5_small_128,t5_small_456,t5_small_3087,t5_small_1984]\n",
    "\n",
    "t5_small_ef_43= json.load(open('../TrainedNarrators/P-NarrationsModels/earlyfusionoutputs_new/t5-small/43/narrations_outputoe.json','rb'))\n",
    "t5_small_ef_128= json.load(open('../TrainedNarrators/P-NarrationsModels/earlyfusionoutputs_new/t5-small/128/narrations_outputoe.json','rb'))\n",
    "t5_small_ef_456= json.load(open('../TrainedNarrators/P-NarrationsModels/earlyfusionoutputs_new/t5-small/456/narrations_outputoe.json','rb'))\n",
    "t5_small_ef_3087= json.load(open('../TrainedNarrators/P-NarrationsModels/earlyfusionoutputs_new/t5-small/3087//narrations_outputoe.json','rb'))\n",
    "t5_small_ef_1984= json.load(open('../TrainedNarrators/P-NarrationsModels/earlyfusionoutputs_new/t5-small/1984//narrations_outputoe.json','rb'))\n",
    "t5_small_ef =[t5_small_ef_43,t5_small_ef_128,t5_small_ef_456,t5_small_ef_3087,t5_small_ef_1984]\n",
    "\n",
    "t5_base_43= json.load(open('../TrainedNarrators/P-NarrationsModels/baselineoutputs_new/t5-base/43/narrations_outputoe.json','rb'))\n",
    "t5_base_128= json.load(open('../TrainedNarrators/P-NarrationsModels/baselineoutputs_new/t5-base/128/narrations_outputoe.json','rb'))\n",
    "t5_base_456= json.load(open('../TrainedNarrators/P-NarrationsModels/baselineoutputs_new/t5-base/456/narrations_outputoe.json','rb'))\n",
    "t5_base_3087= json.load(open('../TrainedNarrators/P-NarrationsModels/baselineoutputs_new/t5-base/3087/narrations_outputoe.json','rb'))\n",
    "t5_base_1984= json.load(open('../TrainedNarrators/P-NarrationsModels/baselineoutputs_new/t5-base/1984/narrations_outputoe.json','rb'))\n",
    "t5_base =[t5_base_43,t5_base_128,t5_base_456,t5_base_3087,t5_base_1984]\n",
    "\n",
    "t5_base_ef_43= json.load(open('../TrainedNarrators/P-NarrationsModels/earlyfusionoutputs_new/t5-base/43/narrations_outputoe.json','rb'))\n",
    "t5_base_ef_128= json.load(open('../TrainedNarrators/P-NarrationsModels/earlyfusionoutputs_new/t5-base/128/narrations_outputoe.json','rb'))\n",
    "#t5_base_ef_156= json.load(open('../TrainedNarrators/P-NarrationsModels/earlyfusionoutputs_new/t5-base/456/narrations_outputoe.json','rb'))\n",
    "t5_base_ef_3087= json.load(open('../TrainedNarrators/P-NarrationsModels/earlyfusionoutputs_new/t5-base/3087/narrations_outputoe.json','rb'))\n",
    "t5_base_ef_1984= json.load(open('../TrainedNarrators/P-NarrationsModels/earlyfusionoutputs_new/t5-base/1984/narrations_outputoe.json','rb'))\n",
    "t5_base_ef_456= json.load(open('../TrainedNarrators/P-NarrationsModels/earlyfusionoutputs_new/t5-base/456/narrations_outputoe.json','rb'))\n",
    "t5_base_ef =[t5_base_ef_43,t5_base_ef_128,t5_base_ef_456,t5_base_ef_3087,t5_base_ef_1984]\n",
    "\n",
    "t5_large_43= json.load(open('../TrainedNarrators/P-NarrationsModels/baselineoutputs_new/t5-large/43/narrations_outputoe.json','rb'))\n",
    "t5_large_128= json.load(open('../TrainedNarrators/P-NarrationsModels/baselineoutputs_new/t5-large/128/narrations_outputoe.json','rb'))\n",
    "t5_large_456= json.load(open('../TrainedNarrators/P-NarrationsModels/baselineoutputs_new/t5-large/456/narrations_outputoe.json','rb'))\n",
    "t5_large_3087= json.load(open('../TrainedNarrators/P-NarrationsModels/baselineoutputs_new/t5-large/3087//narrations_outputoe.json','rb'))\n",
    "t5_large_1984= json.load(open('../TrainedNarrators/P-NarrationsModels/baselineoutputs_new/t5-large/1984//narrations_outputoe.json','rb'))\n",
    "\n",
    "t5_large =[t5_large_43,t5_large_128,t5_large_456,t5_large_3087,t5_large_1984]\n",
    "\n",
    "t5_large_ef_43= json.load(open('../TrainedNarrators/P-NarrationsModels/earlyfusionoutputs_new/t5-large/43/narrations_outputoe.json','rb'))\n",
    "t5_large_ef_128= json.load(open('../TrainedNarrators/P-NarrationsModels/earlyfusionoutputs_new/t5-large/128/narrations_outputoe.json','rb'))\n",
    "t5_large_ef_456= json.load(open('../TrainedNarrators/P-NarrationsModels/earlyfusionoutputs_new/t5-large/456/narrations_outputoe.json','rb'))\n",
    "t5_large_ef_3087= json.load(open('../TrainedNarrators/P-NarrationsModels/earlyfusionoutputs_new/t5-large/3087//narrations_outputoe.json','rb'))\n",
    "t5_large_ef_1984= json.load(open('../TrainedNarrators/P-NarrationsModels/earlyfusionoutputs_new/t5-large/1984//narrations_outputoe.json','rb'))\n",
    "\n",
    "t5_large_ef =[t5_large_ef_43,t5_large_ef_128,t5_large_ef_456,t5_large_ef_3087,t5_large_ef_1984]\n",
    "\n",
    "bart_base_43 = json.load(open('../TrainedNarrators/P-NarrationsModels/baselineoutputs_new/bart-base/43/narrations_outputoe.json','rb'))\n",
    "bart_base_48 = json.load(open('../TrainedNarrators/P-NarrationsModels/baselineoutputs_new/bart-base/48/narrations_outputoe.json','rb'))\n",
    "bart_base_128 = json.load(open('../TrainedNarrators/P-NarrationsModels/baselineoutputs_new/bart-base/128/narrations_outputoe.json','rb'))\n",
    "bart_base_456 = json.load(open('../TrainedNarrators/P-NarrationsModels/baselineoutputs_new/bart-base/456/narrations_outputoe.json','rb'))\n",
    "bart_base_3087 = json.load(open('../TrainedNarrators/P-NarrationsModels/baselineoutputs_new/bart-base/3087/narrations_outputoe.json','rb'))\n",
    "bart_base_1984 = json.load(open('../TrainedNarrators/P-NarrationsModels/baselineoutputs_new/bart-base/1984/narrations_outputoe.json','rb'))\n",
    "bart_base = [bart_base_48,bart_base_128,bart_base_456,bart_base_3087,bart_base_1984]\n",
    "\n",
    "bart_base_ef_43 = json.load(open('../TrainedNarrators/P-NarrationsModels/earlyfusionoutputs_new/bart-base/43/narrations_outputoe.json','rb'))\n",
    "bart_base_ef_48 = json.load(open('../TrainedNarrators/P-NarrationsModels/earlyfusionoutputs_new/bart-base/48/narrations_outputoe.json','rb'))\n",
    "bart_base_ef_128 = json.load(open('../TrainedNarrators/P-NarrationsModels/earlyfusionoutputs_new/bart-base/128/narrations_outputoe.json','rb'))\n",
    "bart_base_ef_456 = json.load(open('../TrainedNarrators/P-NarrationsModels/earlyfusionoutputs_new/bart-base/456/narrations_outputoe.json','rb'))\n",
    "bart_base_ef_3087 = json.load(open('../TrainedNarrators/P-NarrationsModels/earlyfusionoutputs_new/bart-base/3087/narrations_outputoe.json','rb'))\n",
    "bart_base_ef_1984 = json.load(open('../TrainedNarrators/P-NarrationsModels/earlyfusionoutputs_new/bart-base/1984/narrations_outputoe.json','rb'))\n",
    "bart_base_ef = [bart_base_ef_48,bart_base_ef_128,bart_base_ef_456,bart_base_ef_3087,bart_base_ef_1984]\n",
    "\n",
    "bart_large_43 = json.load(open('../TrainedNarrators/P-NarrationsModels/baselineoutputs_new/bart-large/43/narrations_outputoe.json','rb'))\n",
    "bart_large_48 = json.load(open('../TrainedNarrators/P-NarrationsModels/baselineoutputs_new/bart-large/48/narrations_outputoe.json','rb'))\n",
    "bart_large_128 = json.load(open('../TrainedNarrators/P-NarrationsModels/baselineoutputs_new/bart-large/128/narrations_outputoe.json','rb'))\n",
    "bart_large_456 = json.load(open('../TrainedNarrators/P-NarrationsModels/baselineoutputs_new/bart-large/456/narrations_outputoe.json','rb'))\n",
    "bart_large_3087 = json.load(open('../TrainedNarrators/P-NarrationsModels/baselineoutputs_new/bart-large/3087/narrations_outputoe.json','rb'))\n",
    "bart_large_1984 = json.load(open('../TrainedNarrators/P-NarrationsModels/baselineoutputs_new/bart-large/1984/narrations_outputoe.json','rb'))\n",
    "bart_large = [bart_large_48,bart_large_128,bart_large_456,bart_large_3087,bart_large_1984]\n",
    "\n",
    "bart_large_ef_43 = json.load(open('../TrainedNarrators/P-NarrationsModels/earlyfusionoutputs_new/bart-large/43/narrations_outputoe.json','rb'))\n",
    "bart_large_ef_48 = json.load(open('../TrainedNarrators/P-NarrationsModels/earlyfusionoutputs_new/bart-large/48/narrations_outputoe.json','rb'))\n",
    "bart_large_ef_128 = json.load(open('../TrainedNarrators/P-NarrationsModels/earlyfusionoutputs_new/bart-large/128/narrations_outputoe.json','rb'))\n",
    "bart_large_ef_456 = json.load(open('../TrainedNarrators/P-NarrationsModels/earlyfusionoutputs_new/bart-large/456/narrations_outputoe.json','rb'))\n",
    "bart_large_ef_3087 = json.load(open('../TrainedNarrators/P-NarrationsModels/earlyfusionoutputs_new/bart-large/3087/narrations_outputoe.json','rb'))\n",
    "bart_large_ef_1984 = json.load(open('../TrainedNarrators/P-NarrationsModels/earlyfusionoutputs_new/bart-large/1984/narrations_outputoe.json','rb'))\n",
    "bart_large_ef = [bart_large_ef_48,bart_large_ef_128,bart_large_ef_456,bart_large_ef_3087,bart_large_ef_1984]"
   ]
  },
  {
   "cell_type": "code",
   "execution_count": null,
   "id": "tired-front",
   "metadata": {},
   "outputs": [],
   "source": [
    "def ParentisePreambleuu(pc):\n",
    "    mets = []\n",
    "    for m,v in zip(pc['metrics'],pc['values']):\n",
    "        stg = f'{m} ||| {v} '\n",
    "        mets.append(stg)\n",
    "    class_labels = pc['classes']\n",
    "    classes_string = ', '.join(class_labels[:-1])+' and '+class_labels[-1]\n",
    "    mets.append(f'classes ||| {classes_string}')\n",
    "    return '\\t '.join(mets)"
   ]
  },
  {
   "cell_type": "code",
   "execution_count": 5,
   "id": "uniform-probability",
   "metadata": {},
   "outputs": [],
   "source": [
    "#yt=table_rep=[list(_table_reader([ParentisePreamble(pc)])) for pc in test_sample[:]]"
   ]
  },
  {
   "cell_type": "code",
   "execution_count": 6,
   "id": "mounted-terrorist",
   "metadata": {},
   "outputs": [],
   "source": []
  },
  {
   "cell_type": "code",
   "execution_count": 407,
   "id": "designing-waste",
   "metadata": {},
   "outputs": [],
   "source": [
    "#test_sample[0]"
   ]
  },
  {
   "cell_type": "code",
   "execution_count": null,
   "id": "interested-construction",
   "metadata": {},
   "outputs": [],
   "source": [
    "#[[\"name\", [\"lenny\", \"randle\"]], [\"position\", [\"second\", \"baseman\", \"/\", \"third\", \"baseman\"]], [\"bats\", [\"switch\"]], [\"throws\", [\"right\"]], [\"birth_date\", [\"12\", \"february\", \"1949\"]], [\"birth_place\", [\"long\", \"beach\", \",\", \"california\"]], [\"debutdate\", [\"june\", \"16\"]], [\"debutyear\", [\"1971\"]], [\"debutteam\", [\"washington\", \"senators\"]], [\"finaldate\", [\"june\", \"20\"]], [\"finalyear\", [\"1982\"]], [\"finalteam\", [\"seattle\", \"mariners\"]], [\"statlabel\", [\"batting\", \"average\", \"home\", \"runs\", \"runs\", \"batted\", \"in\"]], [\"statvalue\", [\".257\", \"27\", \"322\"]], [\"article_title\", [\"lenny\", \"randle\"]]]"
   ]
  },
  {
   "cell_type": "code",
   "execution_count": 7,
   "id": "hundred-chick",
   "metadata": {},
   "outputs": [],
   "source": [
    "\n",
    "def computeParentScore(data,table_rep):\n",
    "    predic= [normalize_text(s.strip()).split() for s in data]\n",
    "    precision, recall, f_score = parent(\n",
    "    predic,\n",
    "    reff,\n",
    "    table_rep,lambda_weight=.8,\n",
    "    avg_results=True,\n",
    "        smoothing=.00001,\n",
    "    n_jobs=32,\n",
    "    use_tqdm=False)\n",
    "    #print(precision, recall, f_score)\n",
    "    return precision, recall, f_score\n",
    "\n",
    "\n",
    "def computeMeanParentBS(data,table_rep=table_rep,bs=8):\n",
    "    pre,rec,fs= [],[],[]\n",
    "    for tt in data:\n",
    "        precision, recall, f_score = computeParentScore(tt[f'{bs}'],table_rep)\n",
    "        pre.append(precision)\n",
    "        rec.append(recall)\n",
    "        fs.append(f_score)\n",
    "    results = {'precision':roundN(np.mean(pre)*100,2), \n",
    "               'recall': roundN(np.mean(rec)*100,2), 'f1': roundN(np.mean(fs)*100,2)}\n",
    "    return results\n",
    "def computeMeanParent(data,verbose=False):\n",
    "    results = {f'{idx+1}':[] for idx in range(10)}\n",
    "    for bs,v in results.items():\n",
    "        pre,rec,fs= [],[],[]\n",
    "        results[bs]= computeMeanParentBS(data,bs)\n",
    "    return results\n",
    "def computeMeanBLEURT(data,bs=8):\n",
    "    b_res = []\n",
    "    for tt in data:\n",
    "        gen= [t for t in tt[f'{bs}']]\n",
    "        score=np.mean(scorer.score(references=refs[0], candidates=gen))\n",
    "        b_res.append(score)\n",
    "    return np.mean(b_res)\n",
    "def computeAutoMetrics(data,bs=8):\n",
    "    b_res = []\n",
    "    m_res = []\n",
    "    r_res = []\n",
    "    bleurt_score = computeBLEURT(data,bs)\n",
    "    for tt in data:\n",
    "        gen= [normalize_text(t) for t in tt[f'{bs}']]\n",
    "        score=metric_sbleu.compute(predictions=[gen],references=[orf])\n",
    "        b_res.append(score['score'])\n",
    "        \n",
    "        \n",
    "        # Meteor\n",
    "        score_=metric_meteor.compute(predictions=[gen],references=[orf])\n",
    "        m_res.append(score_['meteor'])\n",
    "        \n",
    "        \n",
    "        # ROUGE\n",
    "        #score=metric_rouge.compute(predictions=[gen],references=orf,use_stemmer=True)\n",
    "        #score= {key: value.high.fmeasure * 100 for key, value in score.items()}\n",
    "        #r_res.append(score['rougeL'])\n",
    "        \n",
    "        \n",
    "    return {'BLEURT':bleurt_score,\n",
    "            'BLEU': np.mean(b_res),\n",
    "            'METEOR':np.mean(m_res)*100,}\n",
    "            #'rougeL': np.mean(r_res)}\n",
    "    \n",
    "def computeEvaluationScores(data,bs=8):\n",
    "    # Compute the Parent score\n",
    "    parent_scores = computeMeanParentBS(data,bs)\n",
    "    # Compute BLEU and METEOR score\n",
    "    parent_scores.update(computeAutoMetrics(data,bs))  \n",
    "    return parent_scores"
   ]
  },
  {
   "cell_type": "code",
   "execution_count": null,
   "id": "intelligent-margin",
   "metadata": {},
   "outputs": [],
   "source": []
  },
  {
   "cell_type": "code",
   "execution_count": 403,
   "id": "extended-vegetarian",
   "metadata": {},
   "outputs": [],
   "source": [
    "#metric_bert.compute(predictions=[gen_h],references=[refs],lang='en')\n",
    "def computeBERTBLEU(data,bs=8):\n",
    "    b_res = []\n",
    "    for tt in data:\n",
    "        gen= [t for t in tt[f'{bs}']]\n",
    "        ss= metric_bert.compute(predictions=[gen],references=[refs],lang='en')\n",
    "        score=ss['f1']\n",
    "        b_res.append(score)\n",
    "    return np.mean(b_res)"
   ]
  },
  {
   "cell_type": "code",
   "execution_count": 405,
   "id": "adult-employee",
   "metadata": {},
   "outputs": [],
   "source": [
    "#computeBERTBLEU(t5_small)"
   ]
  },
  {
   "cell_type": "code",
   "execution_count": 406,
   "id": "cultural-hacker",
   "metadata": {},
   "outputs": [
    {
     "name": "stdout",
     "output_type": "stream",
     "text": [
      "INFO:tensorflow:Average batch sequence length: 217.28571428571428\n",
      "INFO:tensorflow:Average batch sequence length: 209.57142857142858\n",
      "INFO:tensorflow:Average batch sequence length: 210.42857142857142\n",
      "INFO:tensorflow:Average batch sequence length: 216.57142857142858\n",
      "INFO:tensorflow:Average batch sequence length: 226.57142857142858\n"
     ]
    },
    {
     "data": {
      "text/plain": [
       "0.5552313034534454"
      ]
     },
     "execution_count": 406,
     "metadata": {},
     "output_type": "execute_result"
    }
   ],
   "source": [
    "computeMeanBLEURT(t5_small)"
   ]
  },
  {
   "cell_type": "code",
   "execution_count": 398,
   "id": "specified-thing",
   "metadata": {},
   "outputs": [
    {
     "name": "stdout",
     "output_type": "stream",
     "text": [
      "INFO:tensorflow:Average batch sequence length: 251.14285714285714\n",
      "INFO:tensorflow:Average batch sequence length: 262.2857142857143\n",
      "INFO:tensorflow:Average batch sequence length: 247.0\n",
      "INFO:tensorflow:Average batch sequence length: 258.14285714285717\n",
      "INFO:tensorflow:Average batch sequence length: 253.14285714285714\n"
     ]
    },
    {
     "data": {
      "text/plain": [
       "0.4512092935442924"
      ]
     },
     "execution_count": 398,
     "metadata": {},
     "output_type": "execute_result"
    }
   ],
   "source": [
    "computeMeanBLEURT(t5_small_ef)"
   ]
  },
  {
   "cell_type": "code",
   "execution_count": 389,
   "id": "legendary-knife",
   "metadata": {},
   "outputs": [
    {
     "name": "stdout",
     "output_type": "stream",
     "text": [
      "INFO:tensorflow:Average batch sequence length: 236.57142857142858\n",
      "INFO:tensorflow:Average batch sequence length: 230.28571428571428\n",
      "INFO:tensorflow:Average batch sequence length: 233.85714285714286\n",
      "INFO:tensorflow:Average batch sequence length: 232.0\n",
      "INFO:tensorflow:Average batch sequence length: 232.57142857142858\n"
     ]
    },
    {
     "data": {
      "text/plain": [
       "0.5499886173009872"
      ]
     },
     "execution_count": 389,
     "metadata": {},
     "output_type": "execute_result"
    }
   ],
   "source": [
    "computeMeanBLEURT(t5_base)"
   ]
  },
  {
   "cell_type": "code",
   "execution_count": 388,
   "id": "broken-airline",
   "metadata": {},
   "outputs": [
    {
     "name": "stdout",
     "output_type": "stream",
     "text": [
      "INFO:tensorflow:Average batch sequence length: 238.57142857142858\n",
      "INFO:tensorflow:Average batch sequence length: 237.28571428571428\n",
      "INFO:tensorflow:Average batch sequence length: 238.28571428571428\n",
      "INFO:tensorflow:Average batch sequence length: 240.0\n",
      "INFO:tensorflow:Average batch sequence length: 234.57142857142858\n"
     ]
    },
    {
     "data": {
      "text/plain": [
       "0.5532876259088517"
      ]
     },
     "execution_count": 388,
     "metadata": {},
     "output_type": "execute_result"
    }
   ],
   "source": [
    "computeMeanBLEURT(t5_base_ef)"
   ]
  },
  {
   "cell_type": "code",
   "execution_count": 375,
   "id": "exact-hobby",
   "metadata": {},
   "outputs": [],
   "source": [
    "predic= [normalize_text(s.strip()).split() for s in t5_base[2]['8']]\n",
    "reff = [normalize_text(s.strip()).split() for s in refs[0]]"
   ]
  },
  {
   "cell_type": "code",
   "execution_count": 376,
   "id": "italian-williams",
   "metadata": {},
   "outputs": [
    {
     "name": "stdout",
     "output_type": "stream",
     "text": [
      "0.24577466229924977 0.24411826557917027 0.20667043390871823\n"
     ]
    }
   ],
   "source": [
    "precision, recall, f_score = parent(\n",
    "    predic,\n",
    "    reff,\n",
    "    typ,\n",
    "    avg_results=True,\n",
    "    smoothing=.00001,\n",
    "    n_jobs=32,\n",
    "    use_tqdm=False\n",
    ")\n",
    "print(precision, recall, f_score)"
   ]
  },
  {
   "cell_type": "code",
   "execution_count": 9,
   "id": "focal-fishing",
   "metadata": {},
   "outputs": [
    {
     "data": {
      "text/plain": [
       "{'precision': 27.7, 'recall': 47.73, 'f1': 34.04}"
      ]
     },
     "execution_count": 9,
     "metadata": {},
     "output_type": "execute_result"
    }
   ],
   "source": [
    "reff = [normalize_text(s.strip()).split() for s in refs[0]]\n",
    "computeMeanParentBS(t5_small_ef)"
   ]
  },
  {
   "cell_type": "code",
   "execution_count": 322,
   "id": "confirmed-polymer",
   "metadata": {},
   "outputs": [
    {
     "data": {
      "text/plain": [
       "{'1': '0.25260143951573916, 0.4353635562058149 , 0.3085785358866842',\n",
       " '2': '0.27322589621091387, 0.44706650159373174 , 0.3280797745171146',\n",
       " '3': '0.2705350430953882, 0.44434891379763625 , 0.3251756307326986',\n",
       " '4': '0.2704929231769251, 0.4483828018044272 , 0.3258394952846598',\n",
       " '5': '0.2711451466655475, 0.4464606103314882 , 0.3264873500873716',\n",
       " '6': '0.2660188632068129, 0.4387595858248735 , 0.3203880149903549',\n",
       " '7': '0.266682395802943, 0.4456023315233787 , 0.32288620373750154',\n",
       " '8': '0.2670544657668013, 0.4390505720858398 , 0.3211521861569563',\n",
       " '9': '0.26564035023699506, 0.43687280453632066 , 0.3190786904058277',\n",
       " '10': '0.2654209371336468, 0.4352204995134543 , 0.31865646409390563'}"
      ]
     },
     "execution_count": 322,
     "metadata": {},
     "output_type": "execute_result"
    }
   ],
   "source": [
    "computeMeanParent(t5_small)"
   ]
  },
  {
   "cell_type": "code",
   "execution_count": 262,
   "id": "elect-canadian",
   "metadata": {},
   "outputs": [
    {
     "data": {
      "text/plain": [
       "{'1': '0.25511120650937696, 0.4621461922687395 , 0.3185549055611041',\n",
       " '2': '0.27986734557849463, 0.4734952275211171 , 0.3409582812776727',\n",
       " '3': '0.2795409196826955, 0.4929077755410695 , 0.34714953257088466',\n",
       " '4': '0.2800079428572416, 0.48741623017021174 , 0.34579819553098146',\n",
       " '5': '0.2805838108023095, 0.48954363133343454 , 0.3461939454884212',\n",
       " '6': '0.2796373562373736, 0.484887072816757 , 0.3435165537083512',\n",
       " '7': '0.27769478138396925, 0.47981311108541663 , 0.34107105712096',\n",
       " '8': '0.2770455597471405, 0.47729426505601136 , 0.3404012053054223',\n",
       " '9': '0.27647649070472735, 0.471208821976741 , 0.33835699829381094',\n",
       " '10': '0.27418879660748674, 0.4699553568156512 , 0.33612249726507526'}"
      ]
     },
     "execution_count": 262,
     "metadata": {},
     "output_type": "execute_result"
    }
   ],
   "source": [
    "computeMeanParent(t5_small_ef)"
   ]
  },
  {
   "cell_type": "code",
   "execution_count": 263,
   "id": "genuine-malawi",
   "metadata": {},
   "outputs": [
    {
     "data": {
      "text/plain": [
       "{'1': '0.24488863990265514, 0.4143968246380883 , 0.29625342405182875',\n",
       " '2': '0.25159666977488676, 0.4277360529827686 , 0.30478904517931804',\n",
       " '3': '0.25297926566072054, 0.4465513896109007 , 0.31213635129766404',\n",
       " '4': '0.2523693678996981, 0.44762172416205254 , 0.3123796084764735',\n",
       " '5': '0.25248052089342526, 0.4404640193143651 , 0.3102278423088589',\n",
       " '6': '0.2534752623331331, 0.44543062794226235 , 0.312349817433113',\n",
       " '7': '0.25256418895294724, 0.4457312053185255 , 0.3117139976789742',\n",
       " '8': '0.251756366365719, 0.440437638059358 , 0.30988322827779713',\n",
       " '9': '0.2527141870679074, 0.44874021395978597 , 0.31309182891138854',\n",
       " '10': '0.25249813794126236, 0.45079415688695246 , 0.31338689488277843'}"
      ]
     },
     "execution_count": 263,
     "metadata": {},
     "output_type": "execute_result"
    }
   ],
   "source": [
    "computeMeanParent(t5_base)"
   ]
  },
  {
   "cell_type": "code",
   "execution_count": 264,
   "id": "intellectual-oakland",
   "metadata": {},
   "outputs": [
    {
     "data": {
      "text/plain": [
       "{'1': '0.23591226243604693, 0.4028061629630685 , 0.28661679851501004',\n",
       " '2': '0.24749104617879164, 0.4300314583520555 , 0.3027156888229756',\n",
       " '3': '0.250993952345486, 0.45051009345028203 , 0.3109936060506989',\n",
       " '4': '0.24877477069841544, 0.44789958241318917 , 0.3084123635174188',\n",
       " '5': '0.2494754795989746, 0.44873614240303994 , 0.30924882633499967',\n",
       " '6': '0.2477977302449205, 0.44913442711632506 , 0.30748364593231636',\n",
       " '7': '0.24723985991540007, 0.44497665438383266 , 0.306738209525265',\n",
       " '8': '0.2511602481937876, 0.4572989293008014 , 0.31327396015268194',\n",
       " '9': '0.2518458214380932, 0.46094756258014513 , 0.3152668100985546',\n",
       " '10': '0.2524522707783795, 0.46321809743282094 , 0.31641628903002184'}"
      ]
     },
     "execution_count": 264,
     "metadata": {},
     "output_type": "execute_result"
    }
   ],
   "source": [
    "computeMeanParent(t5_base_ef)"
   ]
  },
  {
   "cell_type": "code",
   "execution_count": 265,
   "id": "fewer-underwear",
   "metadata": {},
   "outputs": [
    {
     "data": {
      "text/plain": [
       "{'1': '0.24252333053751762, 0.4279148030228945 , 0.29895388463906775',\n",
       " '2': '0.248719519148021, 0.4330097465800777 , 0.30505033658755243',\n",
       " '3': '0.24642404544787114, 0.4435216752159203 , 0.3068993894216413',\n",
       " '4': '0.25271449205427177, 0.46581385182851565 , 0.31624176427204437',\n",
       " '5': '0.2503956035849698, 0.45719706991044423 , 0.31270842818766126',\n",
       " '6': '0.2492407126590348, 0.4575649447468786 , 0.3120232646056298',\n",
       " '7': '0.24950866862221965, 0.44864831057115967 , 0.30960101329343886',\n",
       " '8': '0.24908556284312913, 0.4533734848426385 , 0.31075658459210703',\n",
       " '9': '0.25189233232581254, 0.4548036753649223 , 0.31373374420415623',\n",
       " '10': '0.2514514084116591, 0.4499178416503142 , 0.3120852238355141'}"
      ]
     },
     "execution_count": 265,
     "metadata": {},
     "output_type": "execute_result"
    }
   ],
   "source": [
    "computeMeanParent(t5_large)"
   ]
  },
  {
   "cell_type": "code",
   "execution_count": 266,
   "id": "pacific-sleep",
   "metadata": {},
   "outputs": [
    {
     "data": {
      "text/plain": [
       "{'1': '0.238785383979666, 0.4159338520965002 , 0.29191681068409303',\n",
       " '2': '0.2457101927408037, 0.44504952687710897 , 0.3058484537650038',\n",
       " '3': '0.24972515683129246, 0.44820548193590526 , 0.3100215396358726',\n",
       " '4': '0.25111802894738483, 0.45687400595610156 , 0.31465702422339736',\n",
       " '5': '0.25030502855968856, 0.4485934274372996 , 0.31081711782139015',\n",
       " '6': '0.2510350672258558, 0.44446381837990045 , 0.3102070509128158',\n",
       " '7': '0.2542453744711489, 0.4528110432975062 , 0.3151922518149693',\n",
       " '8': '0.2535185363597371, 0.4565260119896714 , 0.3158470569953234',\n",
       " '9': '0.25254823107662483, 0.44373754727732984 , 0.3106641801686788',\n",
       " '10': '0.25445624494523833, 0.44366416302817474 , 0.3120204611955512'}"
      ]
     },
     "execution_count": 266,
     "metadata": {},
     "output_type": "execute_result"
    }
   ],
   "source": [
    "computeMeanParent(t5_large_ef)"
   ]
  },
  {
   "cell_type": "code",
   "execution_count": 267,
   "id": "studied-kingdom",
   "metadata": {},
   "outputs": [
    {
     "data": {
      "text/plain": [
       "{'1': '0.21639976697484975, 0.4516530852927476 , 0.282875132074387',\n",
       " '2': '0.25658614891653847, 0.4731119832545729 , 0.32168843363984495',\n",
       " '3': '0.262613235592469, 0.49387787045290493 , 0.33242570555153933',\n",
       " '4': '0.2634732633186665, 0.4913583060245142 , 0.3330340020484001',\n",
       " '5': '0.26172660083992044, 0.4932371569520202 , 0.3324458493726563',\n",
       " '6': '0.2612213525470978, 0.49291537411774594 , 0.33186392532255155',\n",
       " '7': '0.2633021928743218, 0.4986759551563417 , 0.33455957973739436',\n",
       " '8': '0.25835564485853374, 0.4912233360426015 , 0.3286719383617385',\n",
       " '9': '0.2604141479072894, 0.4921378046766729 , 0.33031346394397615',\n",
       " '10': '0.2617308995950722, 0.4989618431724065 , 0.33302852163790836'}"
      ]
     },
     "execution_count": 267,
     "metadata": {},
     "output_type": "execute_result"
    }
   ],
   "source": [
    "computeMeanParent(bart_base)"
   ]
  },
  {
   "cell_type": "code",
   "execution_count": 268,
   "id": "featured-google",
   "metadata": {},
   "outputs": [
    {
     "data": {
      "text/plain": [
       "{'1': '0.2193856288387627, 0.4627228202888641 , 0.2876834448239159',\n",
       " '2': '0.2595354676676327, 0.4667849807961883 , 0.3228945184402896',\n",
       " '3': '0.2615940990391328, 0.47483558560127176 , 0.32745232575257954',\n",
       " '4': '0.26354608660595064, 0.4796751601321743 , 0.33007098362377735',\n",
       " '5': '0.2645203075499047, 0.48055698271354524 , 0.33119342794502865',\n",
       " '6': '0.2632657186636121, 0.48518190873615086 , 0.33131126796868426',\n",
       " '7': '0.26287531985267876, 0.49167227783178324 , 0.33259468059800174',\n",
       " '8': '0.26438386822192894, 0.4886859156429417 , 0.33284672017681893',\n",
       " '9': '0.2639680201222612, 0.49055227073066604 , 0.3330787164626068',\n",
       " '10': '0.26389007190472363, 0.495195478197688 , 0.3343644760007121'}"
      ]
     },
     "execution_count": 268,
     "metadata": {},
     "output_type": "execute_result"
    }
   ],
   "source": [
    "computeMeanParent(bart_base_ef)"
   ]
  },
  {
   "cell_type": "code",
   "execution_count": 277,
   "id": "balanced-conversion",
   "metadata": {},
   "outputs": [
    {
     "data": {
      "text/plain": [
       "{'1': '0.1979249898526827, 0.41114470754550964 , 0.25686873865560567',\n",
       " '2': '0.25801893544983473, 0.42642454591452833 , 0.3096402340059037',\n",
       " '3': '0.2617511965008287, 0.4405406884576676 , 0.31633021182079857',\n",
       " '4': '0.2600509429445684, 0.43774739756838354 , 0.3146995285529724',\n",
       " '5': '0.2624595511594748, 0.4535566618415112 , 0.3210868169378564',\n",
       " '6': '0.2606075832639013, 0.4550408827490915 , 0.320373114879384',\n",
       " '7': '0.2590914039526123, 0.45399077452730346 , 0.31857591174776057',\n",
       " '8': '0.2606990869514454, 0.4673679916488114 , 0.32287346130828853',\n",
       " '9': '0.26102656284136455, 0.4653101018232538 , 0.323437927133653',\n",
       " '10': '0.2626085746802959, 0.466896205052117 , 0.32553918555156364'}"
      ]
     },
     "execution_count": 277,
     "metadata": {},
     "output_type": "execute_result"
    }
   ],
   "source": [
    "computeMeanParent(bart_large[1:])"
   ]
  },
  {
   "cell_type": "code",
   "execution_count": 281,
   "id": "asian-implement",
   "metadata": {},
   "outputs": [
    {
     "data": {
      "text/plain": [
       "{'1': '0.2072811608500757, 0.4196603502138275 , 0.2670446730471334',\n",
       " '2': '0.2607682153338694, 0.4316796733881687 , 0.31206759146602125',\n",
       " '3': '0.26739306093237897, 0.43581542895977343 , 0.317989031972975',\n",
       " '4': '0.2661750953065989, 0.4359664938990667 , 0.3187690786492494',\n",
       " '5': '0.27121546566128024, 0.4492057669724326 , 0.32609266859898056',\n",
       " '6': '0.27164967091664133, 0.4543884331177598 , 0.32760980256183136',\n",
       " '7': '0.2723143251862377, 0.4568676391994179 , 0.32950917262794777',\n",
       " '8': '0.2732804983605125, 0.4664280807554787 , 0.33266767946218306',\n",
       " '9': '0.27313540818377546, 0.4668716223930682 , 0.33276534540850883',\n",
       " '10': '0.271064581550678, 0.465098113555585 , 0.33093934079700593'}"
      ]
     },
     "execution_count": 281,
     "metadata": {},
     "output_type": "execute_result"
    }
   ],
   "source": [
    "computeMeanParent(bart_large_ef[1:])"
   ]
  },
  {
   "cell_type": "code",
   "execution_count": 325,
   "id": "protective-credit",
   "metadata": {},
   "outputs": [
    {
     "name": "stderr",
     "output_type": "stream",
     "text": [
      "[nltk_data] Downloading package wordnet to /home/essel/nltk_data...\n",
      "[nltk_data]   Package wordnet is already up-to-date!\n"
     ]
    }
   ],
   "source": []
  },
  {
   "cell_type": "code",
   "execution_count": null,
   "id": "constitutional-spencer",
   "metadata": {},
   "outputs": [],
   "source": [
    "orf = [[normalize_text(r) for r in refs[0]]]\n",
    "\n",
    "def computeBleu(data):\n",
    "    results={}\n",
    "    for k in data.keys():\n",
    "        gen= [normalize_text(t) for t in data[k]]\n",
    "        score=metric_sbleu.compute(predictions=[gen],references=[orf])\n",
    "        results[k] = score['score']\n",
    "    return results\n",
    "\n",
    "\n",
    "\n",
    "def computeMeteor(data):\n",
    "    results={}\n",
    "    for k in data.keys():\n",
    "        gen= [normalize_text(t) for t in data[k]]\n",
    "        score=metric_meteor.compute(predictions=[gen],references=[orf])\n",
    "        results[k] = score['meteor']\n",
    "    return results\n",
    "def computeSeedExpMeanScore(seed_set,func=computeBleu):\n",
    "    results = {f'{idx+1}':[] for idx in range(10)}\n",
    "    for pc in seed_set:\n",
    "        res= func(pc)\n",
    "        for k,v in res.items():\n",
    "            results[k].append(v)\n",
    "    return results\n",
    "def computeAllScores(data):\n",
    "    data_res = computeSeedExpMeanScore(data)\n",
    "    data_mres = computeSeedExpMeanScore(data,computeMeteor)\n",
    "    return {k:[np.mean(v),np.mean(data_mres[k])] for k,v in data_res.items()}"
   ]
  },
  {
   "cell_type": "code",
   "execution_count": 351,
   "id": "light-clarity",
   "metadata": {},
   "outputs": [
    {
     "data": {
      "text/plain": [
       "{'precision': 25.1756366365719,\n",
       " 'recall': 44.0437638059358,\n",
       " 'f1': 30.98832282777971,\n",
       " 'BLEU': 46.305576394625874,\n",
       " 'METEOR': 47.451796627600594,\n",
       " 'rougeL': 29.570000876829624}"
      ]
     },
     "execution_count": 351,
     "metadata": {},
     "output_type": "execute_result"
    }
   ],
   "source": [
    "computeEvaluationScores(t5_base)"
   ]
  },
  {
   "cell_type": "code",
   "execution_count": 352,
   "id": "elementary-hostel",
   "metadata": {},
   "outputs": [
    {
     "data": {
      "text/plain": [
       "{'precision': 25.11602481937876,\n",
       " 'recall': 45.72989293008014,\n",
       " 'f1': 31.327396015268192,\n",
       " 'BLEU': 45.457930430656,\n",
       " 'METEOR': 47.75205184684225,\n",
       " 'rougeL': 29.78163320034269}"
      ]
     },
     "execution_count": 352,
     "metadata": {},
     "output_type": "execute_result"
    }
   ],
   "source": [
    "computeEvaluationScores(t5_base_ef)"
   ]
  },
  {
   "cell_type": "code",
   "execution_count": 353,
   "id": "positive-poetry",
   "metadata": {},
   "outputs": [
    {
     "data": {
      "text/plain": [
       "{'precision': 24.908556284312912,\n",
       " 'recall': 45.33734848426385,\n",
       " 'f1': 31.075658459210704,\n",
       " 'BLEU': 45.70102176274635,\n",
       " 'METEOR': 47.11421681503355,\n",
       " 'rougeL': 29.371620648487294}"
      ]
     },
     "execution_count": 353,
     "metadata": {},
     "output_type": "execute_result"
    }
   ],
   "source": [
    "computeEvaluationScores(t5_large)"
   ]
  },
  {
   "cell_type": "code",
   "execution_count": 354,
   "id": "actual-bradley",
   "metadata": {},
   "outputs": [
    {
     "data": {
      "text/plain": [
       "{'precision': 25.351853635973708,\n",
       " 'recall': 45.65260119896714,\n",
       " 'f1': 31.58470569953234,\n",
       " 'BLEU': 46.0307056496799,\n",
       " 'METEOR': 47.52666464749858,\n",
       " 'rougeL': 29.86431069727356}"
      ]
     },
     "execution_count": 354,
     "metadata": {},
     "output_type": "execute_result"
    }
   ],
   "source": [
    "computeEvaluationScores(t5_large_ef)"
   ]
  },
  {
   "cell_type": "code",
   "execution_count": null,
   "id": "utility-transition",
   "metadata": {},
   "outputs": [],
   "source": []
  },
  {
   "cell_type": "code",
   "execution_count": null,
   "id": "swiss-salvation",
   "metadata": {},
   "outputs": [],
   "source": []
  },
  {
   "cell_type": "code",
   "execution_count": null,
   "id": "copyrighted-netherlands",
   "metadata": {},
   "outputs": [],
   "source": []
  },
  {
   "cell_type": "code",
   "execution_count": null,
   "id": "contrary-twenty",
   "metadata": {},
   "outputs": [],
   "source": []
  },
  {
   "cell_type": "code",
   "execution_count": 305,
   "id": "divided-fleet",
   "metadata": {},
   "outputs": [],
   "source": [
    "from sm_metrics import DistinctNgrams,AveragedDistinctNgrams"
   ]
  },
  {
   "cell_type": "code",
   "execution_count": 306,
   "id": "quick-vegetable",
   "metadata": {},
   "outputs": [],
   "source": [
    "dd= AveragedDistinctNgrams({'n_min': 1, 'n_max': 5})"
   ]
  },
  {
   "cell_type": "code",
   "execution_count": 311,
   "id": "continuous-feeding",
   "metadata": {},
   "outputs": [
    {
     "data": {
      "text/plain": [
       "0.4289594409140649"
      ]
     },
     "execution_count": 311,
     "metadata": {},
     "output_type": "execute_result"
    }
   ],
   "source": [
    "np.mean([dd(pc['8']) for pc in bart_large_ef])"
   ]
  },
  {
   "cell_type": "code",
   "execution_count": 312,
   "id": "sorted-battery",
   "metadata": {},
   "outputs": [
    {
     "data": {
      "text/plain": [
       "0.49874465486314046"
      ]
     },
     "execution_count": 312,
     "metadata": {},
     "output_type": "execute_result"
    }
   ],
   "source": [
    "np.mean([dd(pc['8']) for pc in bart_large])"
   ]
  },
  {
   "cell_type": "code",
   "execution_count": null,
   "id": "burning-hearing",
   "metadata": {},
   "outputs": [],
   "source": []
  },
  {
   "cell_type": "code",
   "execution_count": 66,
   "id": "spare-stadium",
   "metadata": {},
   "outputs": [],
   "source": [
    "\n",
    "#parent(predictions=t5_small_43['6'],references=orf,tables=yt)"
   ]
  },
  {
   "cell_type": "code",
   "execution_count": 20,
   "id": "funny-label",
   "metadata": {},
   "outputs": [],
   "source": [
    "from evaluations import *\n",
    "import copy\n",
    "\n",
    "table_ref_metrics = [[m.lower().strip() for m in test_sample[idx]['metrics']] for idx in range(len(test_sample))]\n",
    "\n",
    "# replace metrics such as sensitivity with recall\n",
    "cleans_table_refs =[]\n",
    "for r in copy.deepcopy( table_ref_metrics):\n",
    "    if 'sensitivity' in set(r):\n",
    "        idx = r.index('sensitivity')\n",
    "        r[idx] ='recall'\n",
    "    cleans_table_refs.append(r)\n",
    "ref_mentions = [extractMetricMentions(r,ref_mentions=t) for r,t in zip(refs[0],table_ref_metrics)]"
   ]
  },
  {
   "cell_type": "code",
   "execution_count": 15,
   "id": "received-essay",
   "metadata": {},
   "outputs": [],
   "source": [
    "bart_kk= json.load(open('../TrainedNarrators/P-NarrationsModels/baselineoutputs_new_ga/bart-base/43/narrations_outputoe.json','rb'))"
   ]
  },
  {
   "cell_type": "code",
   "execution_count": 4,
   "id": "thermal-purchase",
   "metadata": {},
   "outputs": [],
   "source": [
    "bart_01= json.load(open('../TrainedNarrators/P-NarrationsModels/baselineoutputs_full_rated/bart-large/wr0.1/narrations_outputoe.json','rb'))\n",
    "bart_25= json.load(open('../TrainedNarrators/P-NarrationsModels/baselineoutputs_full_rated/bart-large/wr0.25/narrations_outputoe.json','rb'))\n",
    "bart_3= json.load(open('../TrainedNarrators/P-NarrationsModels/baselineoutputs_full_rated/bart-large/wr0.3//narrations_outputoe.json','rb'))\n",
    "bart_21= json.load(open('../TrainedNarrators/P-NarrationsModels/baselineoutputs_full_rated/bart-large/wr0.21/narrations_outputoe.json','rb'))\n",
    "bart_19= json.load(open('../TrainedNarrators/P-NarrationsModels/baselineoutputs_full_rated/bart-large/wr0.19/narrations_outputoe.json','rb'))"
   ]
  },
  {
   "cell_type": "code",
   "execution_count": 11,
   "id": "collected-coral",
   "metadata": {},
   "outputs": [],
   "source": [
    "bart_ef= json.load(open('../TrainedNarrators/P-NarrationsModels/earlyfusionoutputs_full_rated/bart-base/narrations_outputoe.json','rb'))\n",
    "bart_lef= json.load(open('../TrainedNarrators/P-NarrationsModels/earlyfusionoutputs_full_rated/bart-large/narrations_outputoe.json','rb'))"
   ]
  },
  {
   "cell_type": "code",
   "execution_count": 15,
   "id": "reported-hammer",
   "metadata": {},
   "outputs": [],
   "source": [
    "bart_base_ef= json.load(open('../TrainedNarrators/P-NarrationsModels/earlyfusionoutputs/bart-base/narrations_outputoe.json','rb'))\n",
    "bart_large_ef= json.load(open('../TrainedNarrators/P-NarrationsModels/earlyfusionoutputs/bart-large/narrations_outputoe.json','rb'))"
   ]
  },
  {
   "cell_type": "code",
   "execution_count": 33,
   "id": "wooden-warrant",
   "metadata": {},
   "outputs": [],
   "source": [
    "t\n",
    "t5_base= json.load(open('../TrainedNarrators/P-NarrationsModels/baselineoutputs_new/t5-base/narrations_outputoe.json','rb'))\n"
   ]
  },
  {
   "cell_type": "code",
   "execution_count": 8,
   "id": "greatest-quebec",
   "metadata": {},
   "outputs": [],
   "source": [
    "t5_small_ef= json.load(open('../TrainedNarrators/P-NarrationsModels/earlyfusionoutputs_new/t5-small/43/narrations_outputoe.json','rb'))\n",
    "t5_base_ef= json.load(open('../TrainedNarrators/P-NarrationsModels/earlyfusionoutputs_new/t5-base/43/narrations_outputoe.json','rb'))\n",
    "t5_large_ef= json.load(open('../TrainedNarrators/P-NarrationsModels/earlyfusionoutputs_new/t5-large/43/narrations_outputoe.json','rb'))"
   ]
  },
  {
   "cell_type": "code",
   "execution_count": 9,
   "id": "removed-resident",
   "metadata": {},
   "outputs": [],
   "source": [
    "t5_small_ef_128= json.load(open('../TrainedNarrators/P-NarrationsModels/earlyfusionoutputs_new/t5-small/128/narrations_outputoe.json','rb'))\n",
    "t5_base_ef_128= json.load(open('../TrainedNarrators/P-NarrationsModels/earlyfusionoutputs_new/t5-base/128/narrations_outputoe.json','rb'))\n",
    "t5_large_ef_128= json.load(open('../TrainedNarrators/P-NarrationsModels/earlyfusionoutputs_new/t5-large/128/narrations_outputoe.json','rb'))"
   ]
  },
  {
   "cell_type": "code",
   "execution_count": 10,
   "id": "normal-begin",
   "metadata": {},
   "outputs": [],
   "source": [
    "t5_small_ef_456= json.load(open('../TrainedNarrators/P-NarrationsModels/earlyfusionoutputs_new/t5-small/456/narrations_outputoe.json','rb'))\n",
    "t5_base_ef_456= json.load(open('../TrainedNarrators/P-NarrationsModels/earlyfusionoutputs_new/t5-base/456/narrations_outputoe.json','rb'))\n",
    "t5_large_ef_456= json.load(open('../TrainedNarrators/P-NarrationsModels/earlyfusionoutputs_new/t5-large/456/narrations_outputoe.json','rb'))"
   ]
  },
  {
   "cell_type": "code",
   "execution_count": 57,
   "id": "invisible-blake",
   "metadata": {},
   "outputs": [],
   "source": []
  },
  {
   "cell_type": "code",
   "execution_count": 48,
   "id": "hungry-defensive",
   "metadata": {},
   "outputs": [
    {
     "name": "stdout",
     "output_type": "stream",
     "text": [
      "1 :  {'f1_score': 0.88994, 'recall': 0.89311, 'precision': 0.88679}\n",
      "EarlyFusion\n",
      "2 :  {'f1_score': 0.89202, 'recall': 0.90261, 'precision': 0.88167}\n",
      "EarlyFusion\n",
      "3 :  {'f1_score': 0.89362, 'recall': 0.89786, 'precision': 0.88941}\n",
      "EarlyFusion\n",
      "4 :  {'f1_score': 0.90692, 'recall': 0.90261, 'precision': 0.91127}\n",
      "EarlyFusion\n",
      "5 :  {'f1_score': 0.90562, 'recall': 0.90024, 'precision': 0.91106}\n",
      "EarlyFusion\n",
      "6 :  {'f1_score': 0.90097, 'recall': 0.88599, 'precision': 0.91646}\n",
      "EarlyFusion\n",
      "7 :  {'f1_score': 0.89756, 'recall': 0.87411, 'precision': 0.92231}\n",
      "EarlyFusion\n",
      "8 :  {'f1_score': 0.89806, 'recall': 0.87886, 'precision': 0.91811}\n",
      "EarlyFusion\n",
      "9 :  {'f1_score': 0.8908, 'recall': 0.86223, 'precision': 0.92132}\n",
      "EarlyFusion\n",
      "10 :  {'f1_score': 0.89435, 'recall': 0.86461, 'precision': 0.92621}\n",
      "EarlyFusion\n",
      "1 :  {'f1_score': 0.85645, 'recall': 0.84323, 'precision': 0.8701}\n",
      "2 :  {'f1_score': 0.89417, 'recall': 0.89311, 'precision': 0.89524}\n",
      "3 :  {'f1_score': 0.8918, 'recall': 0.89074, 'precision': 0.89286}\n",
      "4 :  {'f1_score': 0.88249, 'recall': 0.87411, 'precision': 0.89104}\n",
      "5 :  {'f1_score': 0.88704, 'recall': 0.88599, 'precision': 0.8881}\n",
      "6 :  {'f1_score': 0.88172, 'recall': 0.87648, 'precision': 0.88702}\n",
      "7 :  {'f1_score': 0.89286, 'recall': 0.89074, 'precision': 0.89499}\n",
      "8 :  {'f1_score': 0.89102, 'recall': 0.88361, 'precision': 0.89855}\n",
      "9 :  {'f1_score': 0.89952, 'recall': 0.89311, 'precision': 0.90602}\n",
      "10 :  {'f1_score': 0.89049, 'recall': 0.87886, 'precision': 0.90244}\n"
     ]
    }
   ],
   "source": [
    "for k,v in t5_small_128.items():\n",
    "    print(k,': ',metricMentionScore(ref_mentions,v))\n",
    "    print('EarlyFusion')\n",
    "for k,v in t5_small_ef_128.items():\n",
    "    print(k,': ',metricMentionScore(ref_mentions,v))"
   ]
  },
  {
   "cell_type": "code",
   "execution_count": 53,
   "id": "following-islam",
   "metadata": {},
   "outputs": [
    {
     "name": "stdout",
     "output_type": "stream",
     "text": [
      "1 :  {'f1_score': 0.90865, 'recall': 0.89786, 'precision': 0.91971}\n",
      "2 :  {'f1_score': 0.91304, 'recall': 0.89786, 'precision': 0.92875}\n",
      "3 :  {'f1_score': 0.90191, 'recall': 0.89549, 'precision': 0.90843}\n",
      "4 :  {'f1_score': 0.9067, 'recall': 0.90024, 'precision': 0.91325}\n",
      "5 :  {'f1_score': 0.89915, 'recall': 0.87886, 'precision': 0.9204}\n",
      "6 :  {'f1_score': 0.90756, 'recall': 0.89786, 'precision': 0.91748}\n",
      "7 :  {'f1_score': 0.90865, 'recall': 0.89786, 'precision': 0.91971}\n",
      "8 :  {'f1_score': 0.89242, 'recall': 0.86698, 'precision': 0.9194}\n",
      "9 :  {'f1_score': 0.90338, 'recall': 0.88836, 'precision': 0.91892}\n",
      "10 :  {'f1_score': 0.90315, 'recall': 0.88599, 'precision': 0.92099}\n",
      "EarlyFusion\n",
      "1 :  {'f1_score': 0.89679, 'recall': 0.92874, 'precision': 0.86696}\n",
      "2 :  {'f1_score': 0.87515, 'recall': 0.89074, 'precision': 0.86009}\n",
      "3 :  {'f1_score': 0.88208, 'recall': 0.88836, 'precision': 0.87588}\n",
      "4 :  {'f1_score': 0.88095, 'recall': 0.87886, 'precision': 0.88305}\n",
      "5 :  {'f1_score': 0.87186, 'recall': 0.86461, 'precision': 0.87923}\n",
      "6 :  {'f1_score': 0.88782, 'recall': 0.87411, 'precision': 0.90196}\n",
      "7 :  {'f1_score': 0.87485, 'recall': 0.85511, 'precision': 0.89552}\n",
      "8 :  {'f1_score': 0.87425, 'recall': 0.86698, 'precision': 0.88164}\n",
      "9 :  {'f1_score': 0.87365, 'recall': 0.86223, 'precision': 0.88537}\n",
      "10 :  {'f1_score': 0.87981, 'recall': 0.86936, 'precision': 0.89051}\n"
     ]
    }
   ],
   "source": [
    "for k,v in t5_small_456.items():\n",
    "    print(k,': ',metricMentionScore(ref_mentions,v))\n",
    "print('EarlyFusion')\n",
    "for k,v in t5_small_ef_456.items():\n",
    "    print(k,': ',metricMentionScore(ref_mentions,v))"
   ]
  },
  {
   "cell_type": "code",
   "execution_count": 24,
   "id": "copyrighted-fever",
   "metadata": {},
   "outputs": [
    {
     "name": "stdout",
     "output_type": "stream",
     "text": [
      "1 :  {'f1_score': 0.88462, 'recall': 0.87411, 'precision': 0.89538}\n",
      "2 :  {'f1_score': 0.88993, 'recall': 0.90261, 'precision': 0.8776}\n",
      "3 :  {'f1_score': 0.89467, 'recall': 0.89786, 'precision': 0.89151}\n",
      "4 :  {'f1_score': 0.88278, 'recall': 0.87648, 'precision': 0.88916}\n",
      "5 :  {'f1_score': 0.8747, 'recall': 0.86223, 'precision': 0.88753}\n",
      "6 :  {'f1_score': 0.88677, 'recall': 0.88361, 'precision': 0.88995}\n",
      "7 :  {'f1_score': 0.88623, 'recall': 0.87886, 'precision': 0.89372}\n",
      "8 :  {'f1_score': 0.87875, 'recall': 0.86936, 'precision': 0.88835}\n",
      "9 :  {'f1_score': 0.8835, 'recall': 0.86461, 'precision': 0.90323}\n",
      "10 :  {'f1_score': 0.87409, 'recall': 0.85748, 'precision': 0.89136}\n"
     ]
    }
   ],
   "source": [
    "for k,v in t5_small_3087.items():\n",
    "    print(k,': ',metricMentionScore(ref_mentions,v))"
   ]
  },
  {
   "cell_type": "code",
   "execution_count": 28,
   "id": "junior-newark",
   "metadata": {},
   "outputs": [
    {
     "name": "stdout",
     "output_type": "stream",
     "text": [
      "1 :  {'f1_score': 0.87247, 'recall': 0.86936, 'precision': 0.8756}\n",
      "2 :  {'f1_score': 0.88112, 'recall': 0.89786, 'precision': 0.86499}\n",
      "3 :  {'f1_score': 0.89357, 'recall': 0.90736, 'precision': 0.88018}\n",
      "4 :  {'f1_score': 0.8981, 'recall': 0.90024, 'precision': 0.89598}\n",
      "5 :  {'f1_score': 0.89786, 'recall': 0.89786, 'precision': 0.89786}\n",
      "6 :  {'f1_score': 0.90385, 'recall': 0.89311, 'precision': 0.91484}\n",
      "7 :  {'f1_score': 0.89762, 'recall': 0.89549, 'precision': 0.89976}\n",
      "8 :  {'f1_score': 0.88327, 'recall': 0.87173, 'precision': 0.89512}\n",
      "9 :  {'f1_score': 0.88544, 'recall': 0.88124, 'precision': 0.88969}\n",
      "10 :  {'f1_score': 0.89023, 'recall': 0.87648, 'precision': 0.90441}\n"
     ]
    }
   ],
   "source": [
    "for k,v in t5_small_1984.items():\n",
    "    print(k,': ',metricMentionScore(ref_mentions,v))"
   ]
  },
  {
   "cell_type": "code",
   "execution_count": 35,
   "id": "fabulous-concrete",
   "metadata": {},
   "outputs": [
    {
     "name": "stdout",
     "output_type": "stream",
     "text": [
      "1 :  {'f1_score': 0.88076, 'recall': 0.88599, 'precision': 0.87559}\n",
      "2 :  {'f1_score': 0.89357, 'recall': 0.90736, 'precision': 0.88018}\n",
      "3 :  {'f1_score': 0.88968, 'recall': 0.89074, 'precision': 0.88863}\n",
      "4 :  {'f1_score': 0.89209, 'recall': 0.88361, 'precision': 0.90073}\n",
      "5 :  {'f1_score': 0.88782, 'recall': 0.87411, 'precision': 0.90196}\n",
      "6 :  {'f1_score': 0.89076, 'recall': 0.88124, 'precision': 0.90049}\n",
      "7 :  {'f1_score': 0.8854, 'recall': 0.87173, 'precision': 0.89951}\n",
      "8 :  {'f1_score': 0.8854, 'recall': 0.87173, 'precision': 0.89951}\n",
      "9 :  {'f1_score': 0.87545, 'recall': 0.85986, 'precision': 0.89163}\n",
      "10 :  {'f1_score': 0.88321, 'recall': 0.86223, 'precision': 0.90524}\n",
      "EarlyFusion\n",
      "1 :  {'f1_score': 0.88756, 'recall': 0.88124, 'precision': 0.89398}\n",
      "2 :  {'f1_score': 0.88399, 'recall': 0.90499, 'precision': 0.86395}\n",
      "3 :  {'f1_score': 0.89176, 'recall': 0.90024, 'precision': 0.88345}\n",
      "4 :  {'f1_score': 0.8981, 'recall': 0.90024, 'precision': 0.89598}\n",
      "5 :  {'f1_score': 0.90369, 'recall': 0.90261, 'precision': 0.90476}\n",
      "6 :  {'f1_score': 0.89845, 'recall': 0.89311, 'precision': 0.90385}\n",
      "7 :  {'f1_score': 0.90323, 'recall': 0.89786, 'precision': 0.90865}\n",
      "8 :  {'f1_score': 0.90191, 'recall': 0.89549, 'precision': 0.90843}\n",
      "9 :  {'f1_score': 0.89076, 'recall': 0.88124, 'precision': 0.90049}\n",
      "10 :  {'f1_score': 0.89688, 'recall': 0.88836, 'precision': 0.90557}\n"
     ]
    }
   ],
   "source": [
    "for k,v in t5_small.items():\n",
    "    print(k,': ',metricMentionScore(ref_mentions,v))\n",
    "print('EarlyFusion')\n",
    "for k,v in t5_small_ef.items():\n",
    "    print(k,': ',metricMentionScore(ref_mentions,v))"
   ]
  },
  {
   "cell_type": "code",
   "execution_count": null,
   "id": "welcome-orientation",
   "metadata": {},
   "outputs": [],
   "source": []
  },
  {
   "cell_type": "code",
   "execution_count": 40,
   "id": "silver-arthritis",
   "metadata": {},
   "outputs": [
    {
     "name": "stdout",
     "output_type": "stream",
     "text": [
      "1 :  {'f1_score': 0.92182, 'recall': 0.93824, 'precision': 0.90596}\n",
      "2 :  {'f1_score': 0.91924, 'recall': 0.91924, 'precision': 0.91924}\n",
      "3 :  {'f1_score': 0.91795, 'recall': 0.91686, 'precision': 0.91905}\n",
      "4 :  {'f1_score': 0.92654, 'recall': 0.92874, 'precision': 0.92435}\n",
      "5 :  {'f1_score': 0.93128, 'recall': 0.93349, 'precision': 0.92908}\n",
      "6 :  {'f1_score': 0.91442, 'recall': 0.92637, 'precision': 0.90278}\n",
      "7 :  {'f1_score': 0.92, 'recall': 0.92874, 'precision': 0.91142}\n",
      "8 :  {'f1_score': 0.92506, 'recall': 0.93824, 'precision': 0.91224}\n",
      "9 :  {'f1_score': 0.92289, 'recall': 0.92399, 'precision': 0.9218}\n",
      "10 :  {'f1_score': 0.93144, 'recall': 0.93587, 'precision': 0.92706}\n",
      "EarlyFusion\n",
      "1 :  {'f1_score': 0.87485, 'recall': 0.87173, 'precision': 0.87799}\n",
      "2 :  {'f1_score': 0.90803, 'recall': 0.92637, 'precision': 0.89041}\n",
      "3 :  {'f1_score': 0.91059, 'recall': 0.91924, 'precision': 0.9021}\n",
      "4 :  {'f1_score': 0.91355, 'recall': 0.92874, 'precision': 0.89885}\n",
      "5 :  {'f1_score': 0.9316, 'recall': 0.93824, 'precision': 0.92506}\n",
      "6 :  {'f1_score': 0.92523, 'recall': 0.94062, 'precision': 0.91034}\n",
      "7 :  {'f1_score': 0.93083, 'recall': 0.94299, 'precision': 0.91898}\n",
      "8 :  {'f1_score': 0.93458, 'recall': 0.95012, 'precision': 0.91954}\n",
      "9 :  {'f1_score': 0.93083, 'recall': 0.94299, 'precision': 0.91898}\n",
      "10 :  {'f1_score': 0.93787, 'recall': 0.95012, 'precision': 0.92593}\n"
     ]
    }
   ],
   "source": [
    "for k,v in t5_base.items():\n",
    "    print(k,': ',metricMentionScore(ref_mentions,v))\n",
    "print('EarlyFusion')\n",
    "for k,v in t5_base_ef.items():\n",
    "    print(k,': ',metricMentionScore(ref_mentions,v))"
   ]
  },
  {
   "cell_type": "code",
   "execution_count": 61,
   "id": "numerical-aside",
   "metadata": {},
   "outputs": [
    {
     "name": "stdout",
     "output_type": "stream",
     "text": [
      "1 :  {'f1_score': 0.87307, 'recall': 0.87411, 'precision': 0.87204}\n",
      "2 :  {'f1_score': 0.89696, 'recall': 0.90974, 'precision': 0.88453}\n",
      "3 :  {'f1_score': 0.90058, 'recall': 0.91449, 'precision': 0.8871}\n",
      "4 :  {'f1_score': 0.90931, 'recall': 0.91686, 'precision': 0.90187}\n",
      "5 :  {'f1_score': 0.90361, 'recall': 0.89074, 'precision': 0.91687}\n",
      "6 :  {'f1_score': 0.91346, 'recall': 0.90261, 'precision': 0.92457}\n",
      "7 :  {'f1_score': 0.91063, 'recall': 0.89549, 'precision': 0.92629}\n",
      "8 :  {'f1_score': 0.90865, 'recall': 0.89786, 'precision': 0.91971}\n",
      "9 :  {'f1_score': 0.89688, 'recall': 0.88836, 'precision': 0.90557}\n",
      "10 :  {'f1_score': 0.90144, 'recall': 0.89074, 'precision': 0.91241}\n",
      "EarlyFusion\n",
      "1 :  {'f1_score': 0.88409, 'recall': 0.92399, 'precision': 0.84749}\n",
      "2 :  {'f1_score': 0.90596, 'recall': 0.93824, 'precision': 0.87583}\n",
      "3 :  {'f1_score': 0.92841, 'recall': 0.95487, 'precision': 0.90337}\n",
      "4 :  {'f1_score': 0.91628, 'recall': 0.93587, 'precision': 0.89749}\n",
      "5 :  {'f1_score': 0.91911, 'recall': 0.93112, 'precision': 0.90741}\n",
      "6 :  {'f1_score': 0.92974, 'recall': 0.94299, 'precision': 0.91686}\n",
      "7 :  {'f1_score': 0.92558, 'recall': 0.94537, 'precision': 0.90661}\n",
      "8 :  {'f1_score': 0.93706, 'recall': 0.95487, 'precision': 0.91991}\n",
      "9 :  {'f1_score': 0.93128, 'recall': 0.93349, 'precision': 0.92908}\n",
      "10 :  {'f1_score': 0.9395, 'recall': 0.94062, 'precision': 0.93839}\n"
     ]
    }
   ],
   "source": [
    "for k,v in t5_base_128.items():\n",
    "    print(k,': ',metricMentionScore(ref_mentions,v))\n",
    "print('EarlyFusion')\n",
    "for k,v in t5_base_ef_128.items():\n",
    "    print(k,': ',metricMentionScore(ref_mentions,v))"
   ]
  },
  {
   "cell_type": "code",
   "execution_count": 65,
   "id": "confirmed-uniform",
   "metadata": {},
   "outputs": [
    {
     "name": "stdout",
     "output_type": "stream",
     "text": [
      "1 :  {'f1_score': 0.88889, 'recall': 0.89311, 'precision': 0.88471}\n",
      "2 :  {'f1_score': 0.90973, 'recall': 0.92162, 'precision': 0.89815}\n",
      "3 :  {'f1_score': 0.91706, 'recall': 0.91924, 'precision': 0.91489}\n",
      "4 :  {'f1_score': 0.90476, 'recall': 0.90261, 'precision': 0.90692}\n",
      "5 :  {'f1_score': 0.90247, 'recall': 0.91211, 'precision': 0.89302}\n",
      "6 :  {'f1_score': 0.91232, 'recall': 0.91449, 'precision': 0.91017}\n",
      "7 :  {'f1_score': 0.91429, 'recall': 0.91211, 'precision': 0.91647}\n",
      "8 :  {'f1_score': 0.91768, 'recall': 0.90024, 'precision': 0.9358}\n",
      "9 :  {'f1_score': 0.93012, 'recall': 0.91686, 'precision': 0.94377}\n",
      "10 :  {'f1_score': 0.92695, 'recall': 0.91924, 'precision': 0.93478}\n",
      "EarlyFusion\n",
      "1 :  {'f1_score': 0.88759, 'recall': 0.90024, 'precision': 0.87529}\n",
      "2 :  {'f1_score': 0.92471, 'recall': 0.93349, 'precision': 0.91608}\n",
      "3 :  {'f1_score': 0.92729, 'recall': 0.92399, 'precision': 0.93062}\n",
      "4 :  {'f1_score': 0.92695, 'recall': 0.91924, 'precision': 0.93478}\n",
      "5 :  {'f1_score': 0.93018, 'recall': 0.93349, 'precision': 0.92689}\n",
      "6 :  {'f1_score': 0.92127, 'recall': 0.93112, 'precision': 0.91163}\n",
      "7 :  {'f1_score': 0.93853, 'recall': 0.94299, 'precision': 0.93412}\n",
      "8 :  {'f1_score': 0.93853, 'recall': 0.94299, 'precision': 0.93412}\n",
      "9 :  {'f1_score': 0.93317, 'recall': 0.92874, 'precision': 0.93765}\n",
      "10 :  {'f1_score': 0.93795, 'recall': 0.93349, 'precision': 0.94245}\n"
     ]
    }
   ],
   "source": [
    "for k,v in t5_base_456.items():\n",
    "    print(k,': ',metricMentionScore(ref_mentions,v))\n",
    "print('EarlyFusion')\n",
    "for k,v in t5_base_ef_456.items():\n",
    "    print(k,': ',metricMentionScore(ref_mentions,v))"
   ]
  },
  {
   "cell_type": "code",
   "execution_count": 69,
   "id": "experimental-repeat",
   "metadata": {},
   "outputs": [
    {
     "name": "stdout",
     "output_type": "stream",
     "text": [
      "1 :  {'f1_score': 0.89882, 'recall': 0.90736, 'precision': 0.89044}\n",
      "2 :  {'f1_score': 0.92832, 'recall': 0.93824, 'precision': 0.9186}\n",
      "3 :  {'f1_score': 0.92308, 'recall': 0.94062, 'precision': 0.90618}\n",
      "4 :  {'f1_score': 0.93318, 'recall': 0.94537, 'precision': 0.9213}\n",
      "5 :  {'f1_score': 0.92747, 'recall': 0.92637, 'precision': 0.92857}\n",
      "6 :  {'f1_score': 0.91686, 'recall': 0.91686, 'precision': 0.91686}\n",
      "7 :  {'f1_score': 0.92326, 'recall': 0.91449, 'precision': 0.9322}\n",
      "8 :  {'f1_score': 0.92823, 'recall': 0.92162, 'precision': 0.93494}\n",
      "9 :  {'f1_score': 0.93525, 'recall': 0.92637, 'precision': 0.94431}\n",
      "10 :  {'f1_score': 0.93445, 'recall': 0.93112, 'precision': 0.9378}\n",
      "EarlyFusion\n",
      "1 :  {'f1_score': 0.86916, 'recall': 0.88361, 'precision': 0.85517}\n",
      "2 :  {'f1_score': 0.90782, 'recall': 0.92399, 'precision': 0.8922}\n",
      "3 :  {'f1_score': 0.92108, 'recall': 0.92874, 'precision': 0.91355}\n",
      "4 :  {'f1_score': 0.91381, 'recall': 0.91924, 'precision': 0.90845}\n",
      "5 :  {'f1_score': 0.92127, 'recall': 0.93112, 'precision': 0.91163}\n",
      "6 :  {'f1_score': 0.922, 'recall': 0.94062, 'precision': 0.90411}\n",
      "7 :  {'f1_score': 0.92093, 'recall': 0.94062, 'precision': 0.90205}\n",
      "8 :  {'f1_score': 0.922, 'recall': 0.94062, 'precision': 0.90411}\n",
      "9 :  {'f1_score': 0.91249, 'recall': 0.92874, 'precision': 0.89679}\n",
      "10 :  {'f1_score': 0.91121, 'recall': 0.92637, 'precision': 0.89655}\n"
     ]
    }
   ],
   "source": [
    "for k,v in t5_base_3087.items():\n",
    "    print(k,': ',metricMentionScore(ref_mentions,v))\n",
    "print('EarlyFusion')\n",
    "for k,v in t5_base_ef_3087.items():\n",
    "    print(k,': ',metricMentionScore(ref_mentions,v))"
   ]
  },
  {
   "cell_type": "code",
   "execution_count": 44,
   "id": "bridal-luxury",
   "metadata": {},
   "outputs": [
    {
     "name": "stdout",
     "output_type": "stream",
     "text": [
      "EarlyFusion\n",
      "1 :  {'f1_score': 0.89302, 'recall': 0.91211, 'precision': 0.87472}\n",
      "2 :  {'f1_score': 0.90698, 'recall': 0.92637, 'precision': 0.88838}\n",
      "3 :  {'f1_score': 0.92253, 'recall': 0.91924, 'precision': 0.92584}\n",
      "4 :  {'f1_score': 0.92363, 'recall': 0.91924, 'precision': 0.92806}\n",
      "5 :  {'f1_score': 0.92197, 'recall': 0.91211, 'precision': 0.93204}\n",
      "6 :  {'f1_score': 0.92121, 'recall': 0.90261, 'precision': 0.94059}\n",
      "7 :  {'f1_score': 0.92978, 'recall': 0.91211, 'precision': 0.94815}\n",
      "8 :  {'f1_score': 0.93447, 'recall': 0.91449, 'precision': 0.95533}\n",
      "9 :  {'f1_score': 0.93062, 'recall': 0.92399, 'precision': 0.93735}\n",
      "10 :  {'f1_score': 0.92326, 'recall': 0.91449, 'precision': 0.9322}\n"
     ]
    }
   ],
   "source": [
    "print('EarlyFusion')\n",
    "for k,v in t5_large_ef.items():\n",
    "    print(k,': ',metricMentionScore(ref_mentions,v))"
   ]
  },
  {
   "cell_type": "code",
   "execution_count": 55,
   "id": "suspended-fight",
   "metadata": {},
   "outputs": [
    {
     "name": "stdout",
     "output_type": "stream",
     "text": [
      "EarlyFusion\n",
      "1 :  {'f1_score': 0.88889, 'recall': 0.89311, 'precision': 0.88471}\n",
      "2 :  {'f1_score': 0.90931, 'recall': 0.91686, 'precision': 0.90187}\n",
      "3 :  {'f1_score': 0.92362, 'recall': 0.93349, 'precision': 0.91395}\n",
      "4 :  {'f1_score': 0.92217, 'recall': 0.92874, 'precision': 0.91569}\n",
      "5 :  {'f1_score': 0.91232, 'recall': 0.91449, 'precision': 0.91017}\n",
      "6 :  {'f1_score': 0.92917, 'recall': 0.91924, 'precision': 0.93932}\n",
      "7 :  {'f1_score': 0.92866, 'recall': 0.91211, 'precision': 0.94581}\n",
      "8 :  {'f1_score': 0.92642, 'recall': 0.91211, 'precision': 0.94118}\n",
      "9 :  {'f1_score': 0.924, 'recall': 0.90974, 'precision': 0.93873}\n",
      "10 :  {'f1_score': 0.91819, 'recall': 0.89311, 'precision': 0.94472}\n"
     ]
    }
   ],
   "source": [
    "print('EarlyFusion')\n",
    "for k,v in t5_large_ef_128.items():\n",
    "    print(k,': ',metricMentionScore(ref_mentions,v))"
   ]
  },
  {
   "cell_type": "code",
   "execution_count": 56,
   "id": "pursuant-latitude",
   "metadata": {},
   "outputs": [
    {
     "name": "stdout",
     "output_type": "stream",
     "text": [
      "EarlyFusion\n",
      "1 :  {'f1_score': 0.89744, 'recall': 0.91449, 'precision': 0.88101}\n",
      "2 :  {'f1_score': 0.93018, 'recall': 0.93349, 'precision': 0.92689}\n",
      "3 :  {'f1_score': 0.93429, 'recall': 0.92874, 'precision': 0.9399}\n",
      "4 :  {'f1_score': 0.9399, 'recall': 0.92874, 'precision': 0.95134}\n",
      "5 :  {'f1_score': 0.93892, 'recall': 0.93112, 'precision': 0.94686}\n",
      "6 :  {'f1_score': 0.94471, 'recall': 0.93349, 'precision': 0.9562}\n",
      "7 :  {'f1_score': 0.94217, 'recall': 0.92874, 'precision': 0.95599}\n",
      "8 :  {'f1_score': 0.94498, 'recall': 0.93824, 'precision': 0.95181}\n",
      "9 :  {'f1_score': 0.94611, 'recall': 0.93824, 'precision': 0.95411}\n",
      "10 :  {'f1_score': 0.94611, 'recall': 0.93824, 'precision': 0.95411}\n"
     ]
    }
   ],
   "source": [
    "print('EarlyFusion')\n",
    "for k,v in t5_large_ef_456.items():\n",
    "    print(k,': ',metricMentionScore(ref_mentions,v))"
   ]
  },
  {
   "cell_type": "code",
   "execution_count": 4,
   "id": "eight-iraqi",
   "metadata": {},
   "outputs": [
    {
     "name": "stdout",
     "output_type": "stream",
     "text": [
      "1 :  {'f1_score': 0.79695, 'recall': 0.74584, 'precision': 0.85559}\n",
      "2 :  {'f1_score': 0.71866, 'recall': 0.61283, 'precision': 0.86869}\n",
      "3 :  {'f1_score': 0.7517, 'recall': 0.65796, 'precision': 0.87658}\n",
      "4 :  {'f1_score': 0.74145, 'recall': 0.64371, 'precision': 0.87419}\n",
      "5 :  {'f1_score': 0.74553, 'recall': 0.64371, 'precision': 0.88562}\n",
      "6 :  {'f1_score': 0.75339, 'recall': 0.66033, 'precision': 0.87697}\n",
      "7 :  {'f1_score': 0.75815, 'recall': 0.66271, 'precision': 0.88571}\n",
      "8 :  {'f1_score': 0.74425, 'recall': 0.65321, 'precision': 0.86478}\n",
      "9 :  {'f1_score': 0.75374, 'recall': 0.65796, 'precision': 0.88217}\n",
      "10 :  {'f1_score': 0.75034, 'recall': 0.64608, 'precision': 0.89474}\n"
     ]
    }
   ],
   "source": [
    "for k,v in bart_01.items():\n",
    "    print(k,': ',metricMentionScore(ref_mentions,v))"
   ]
  },
  {
   "cell_type": "code",
   "execution_count": 8,
   "id": "revised-coaching",
   "metadata": {},
   "outputs": [
    {
     "name": "stdout",
     "output_type": "stream",
     "text": [
      "1 :  {'f1_score': 0.86391, 'recall': 0.86698, 'precision': 0.86085}\n",
      "2 :  {'f1_score': 0.91727, 'recall': 0.89549, 'precision': 0.94015}\n",
      "3 :  {'f1_score': 0.91799, 'recall': 0.89074, 'precision': 0.94697}\n",
      "4 :  {'f1_score': 0.89084, 'recall': 0.84323, 'precision': 0.94415}\n",
      "5 :  {'f1_score': 0.88724, 'recall': 0.85036, 'precision': 0.92746}\n",
      "6 :  {'f1_score': 0.89139, 'recall': 0.84798, 'precision': 0.93947}\n",
      "7 :  {'f1_score': 0.87879, 'recall': 0.8266, 'precision': 0.93801}\n",
      "8 :  {'f1_score': 0.87829, 'recall': 0.83135, 'precision': 0.93085}\n",
      "9 :  {'f1_score': 0.88206, 'recall': 0.85273, 'precision': 0.91349}\n",
      "10 :  {'f1_score': 0.88286, 'recall': 0.85036, 'precision': 0.91795}\n"
     ]
    }
   ],
   "source": [
    "for k,v in bart_19.items():\n",
    "    print(k,': ',metricMentionScore(ref_mentions,v))"
   ]
  },
  {
   "cell_type": "code",
   "execution_count": 5,
   "id": "raising-return",
   "metadata": {},
   "outputs": [
    {
     "name": "stdout",
     "output_type": "stream",
     "text": [
      "1 :  {'f1_score': 0.88789, 'recall': 0.94062, 'precision': 0.84076}\n",
      "2 :  {'f1_score': 0.93192, 'recall': 0.94299, 'precision': 0.92111}\n",
      "3 :  {'f1_score': 0.88069, 'recall': 0.85036, 'precision': 0.91327}\n",
      "4 :  {'f1_score': 0.84224, 'recall': 0.80523, 'precision': 0.88281}\n",
      "5 :  {'f1_score': 0.86871, 'recall': 0.84086, 'precision': 0.89848}\n",
      "6 :  {'f1_score': 0.86352, 'recall': 0.8266, 'precision': 0.9039}\n",
      "7 :  {'f1_score': 0.87362, 'recall': 0.84561, 'precision': 0.90355}\n",
      "8 :  {'f1_score': 0.87775, 'recall': 0.85273, 'precision': 0.90428}\n",
      "9 :  {'f1_score': 0.88321, 'recall': 0.86223, 'precision': 0.90524}\n",
      "10 :  {'f1_score': 0.87073, 'recall': 0.84798, 'precision': 0.89474}\n"
     ]
    }
   ],
   "source": [
    "for k,v in bart_25.items():\n",
    "    print(k,': ',metricMentionScore(ref_mentions,v))"
   ]
  },
  {
   "cell_type": "code",
   "execution_count": 6,
   "id": "standard-domain",
   "metadata": {},
   "outputs": [
    {
     "name": "stdout",
     "output_type": "stream",
     "text": [
      "1 :  {'f1_score': 0.86761, 'recall': 0.87173, 'precision': 0.86353}\n",
      "2 :  {'f1_score': 0.9134, 'recall': 0.91449, 'precision': 0.91232}\n",
      "3 :  {'f1_score': 0.84746, 'recall': 0.77197, 'precision': 0.93931}\n",
      "4 :  {'f1_score': 0.85237, 'recall': 0.7886, 'precision': 0.92737}\n",
      "5 :  {'f1_score': 0.8665, 'recall': 0.8171, 'precision': 0.92225}\n",
      "6 :  {'f1_score': 0.87829, 'recall': 0.83135, 'precision': 0.93085}\n",
      "7 :  {'f1_score': 0.87173, 'recall': 0.83135, 'precision': 0.91623}\n",
      "8 :  {'f1_score': 0.87871, 'recall': 0.84323, 'precision': 0.91731}\n",
      "9 :  {'f1_score': 0.89377, 'recall': 0.86936, 'precision': 0.9196}\n",
      "10 :  {'f1_score': 0.88889, 'recall': 0.85511, 'precision': 0.92545}\n"
     ]
    }
   ],
   "source": [
    "for k,v in bart_21.items():\n",
    "    print(k,': ',metricMentionScore(ref_mentions,v))"
   ]
  },
  {
   "cell_type": "code",
   "execution_count": 6,
   "id": "broken-coordinate",
   "metadata": {},
   "outputs": [
    {
     "name": "stdout",
     "output_type": "stream",
     "text": [
      "1 :  {'f1_score': 0.91304, 'recall': 0.94774, 'precision': 0.88079}\n",
      "2 :  {'f1_score': 0.96, 'recall': 0.96912, 'precision': 0.95105}\n",
      "3 :  {'f1_score': 0.95858, 'recall': 0.962, 'precision': 0.95519}\n",
      "4 :  {'f1_score': 0.95465, 'recall': 0.95012, 'precision': 0.95923}\n",
      "5 :  {'f1_score': 0.95755, 'recall': 0.96437, 'precision': 0.95082}\n",
      "6 :  {'f1_score': 0.95714, 'recall': 0.95487, 'precision': 0.95943}\n",
      "7 :  {'f1_score': 0.95962, 'recall': 0.95962, 'precision': 0.95962}\n",
      "8 :  {'f1_score': 0.95487, 'recall': 0.95487, 'precision': 0.95487}\n",
      "9 :  {'f1_score': 0.95136, 'recall': 0.95249, 'precision': 0.95024}\n",
      "10 :  {'f1_score': 0.94649, 'recall': 0.94537, 'precision': 0.94762}\n"
     ]
    }
   ],
   "source": [
    "for k,v in bart_ef.items():\n",
    "    print(k,': ',metricMentionScore(ref_mentions,v))"
   ]
  },
  {
   "cell_type": "code",
   "execution_count": 12,
   "id": "unsigned-spanish",
   "metadata": {},
   "outputs": [
    {
     "name": "stdout",
     "output_type": "stream",
     "text": [
      "1 :  {'f1_score': 0.87715, 'recall': 0.90736, 'precision': 0.84889}\n",
      "2 :  {'f1_score': 0.9175, 'recall': 0.87173, 'precision': 0.96834}\n",
      "3 :  {'f1_score': 0.89877, 'recall': 0.86461, 'precision': 0.93573}\n",
      "4 :  {'f1_score': 0.89873, 'recall': 0.84323, 'precision': 0.96206}\n",
      "5 :  {'f1_score': 0.90355, 'recall': 0.84561, 'precision': 0.97003}\n",
      "6 :  {'f1_score': 0.89811, 'recall': 0.84798, 'precision': 0.95455}\n",
      "7 :  {'f1_score': 0.91158, 'recall': 0.86936, 'precision': 0.95812}\n",
      "8 :  {'f1_score': 0.91022, 'recall': 0.86698, 'precision': 0.95801}\n",
      "9 :  {'f1_score': 0.91584, 'recall': 0.87886, 'precision': 0.95607}\n",
      "10 :  {'f1_score': 0.91067, 'recall': 0.87173, 'precision': 0.95325}\n"
     ]
    }
   ],
   "source": [
    "for k,v in bart_lef.items():\n",
    "    print(k,': ',metricMentionScore(ref_mentions,v))"
   ]
  },
  {
   "cell_type": "code",
   "execution_count": 16,
   "id": "moral-spider",
   "metadata": {},
   "outputs": [
    {
     "name": "stdout",
     "output_type": "stream",
     "text": [
      "1 :  {'f1_score': 0.90173, 'recall': 0.92637, 'precision': 0.87838}\n",
      "2 :  {'f1_score': 0.92509, 'recall': 0.92399, 'precision': 0.92619}\n",
      "3 :  {'f1_score': 0.9346, 'recall': 0.93349, 'precision': 0.93571}\n",
      "4 :  {'f1_score': 0.93381, 'recall': 0.93824, 'precision': 0.92941}\n",
      "5 :  {'f1_score': 0.93491, 'recall': 0.93824, 'precision': 0.9316}\n",
      "6 :  {'f1_score': 0.9327, 'recall': 0.93824, 'precision': 0.92723}\n",
      "7 :  {'f1_score': 0.9327, 'recall': 0.93824, 'precision': 0.92723}\n",
      "8 :  {'f1_score': 0.93662, 'recall': 0.94774, 'precision': 0.92575}\n",
      "9 :  {'f1_score': 0.94118, 'recall': 0.95012, 'precision': 0.9324}\n",
      "10 :  {'f1_score': 0.9434, 'recall': 0.95012, 'precision': 0.93677}\n"
     ]
    }
   ],
   "source": [
    "for k,v in bart_base_ef.items():\n",
    "    print(k,': ',metricMentionScore(ref_mentions,v))"
   ]
  },
  {
   "cell_type": "code",
   "execution_count": 17,
   "id": "hollywood-administrator",
   "metadata": {},
   "outputs": [
    {
     "name": "stdout",
     "output_type": "stream",
     "text": [
      "1 :  {'f1_score': 0.82998, 'recall': 0.88124, 'precision': 0.78436}\n",
      "2 :  {'f1_score': 0.891, 'recall': 0.89311, 'precision': 0.88889}\n",
      "3 :  {'f1_score': 0.89655, 'recall': 0.89549, 'precision': 0.89762}\n",
      "4 :  {'f1_score': 0.91429, 'recall': 0.91211, 'precision': 0.91647}\n",
      "5 :  {'f1_score': 0.908, 'recall': 0.90261, 'precision': 0.91346}\n",
      "6 :  {'f1_score': 0.9006, 'recall': 0.89311, 'precision': 0.90821}\n",
      "7 :  {'f1_score': 0.89964, 'recall': 0.88361, 'precision': 0.91626}\n",
      "8 :  {'f1_score': 0.89631, 'recall': 0.89311, 'precision': 0.89952}\n",
      "9 :  {'f1_score': 0.89474, 'recall': 0.88836, 'precision': 0.9012}\n",
      "10 :  {'f1_score': 0.89423, 'recall': 0.88361, 'precision': 0.90511}\n"
     ]
    }
   ],
   "source": [
    "for k,v in bart_large_ef.items():\n",
    "    print(k,': ',metricMentionScore(ref_mentions,v))"
   ]
  },
  {
   "cell_type": "code",
   "execution_count": 7,
   "id": "suspected-eleven",
   "metadata": {},
   "outputs": [
    {
     "name": "stdout",
     "output_type": "stream",
     "text": [
      "1 :  {'f1_score': 0.80197, 'recall': 0.77435, 'precision': 0.83163}\n",
      "2 :  {'f1_score': 0.60976, 'recall': 0.47506, 'precision': 0.85106}\n",
      "3 :  {'f1_score': 0.59729, 'recall': 0.47031, 'precision': 0.81818}\n",
      "4 :  {'f1_score': 0.58182, 'recall': 0.45606, 'precision': 0.80335}\n",
      "5 :  {'f1_score': 0.61012, 'recall': 0.48694, 'precision': 0.81673}\n",
      "6 :  {'f1_score': 0.61652, 'recall': 0.49644, 'precision': 0.81323}\n",
      "7 :  {'f1_score': 0.66667, 'recall': 0.55344, 'precision': 0.83813}\n",
      "8 :  {'f1_score': 0.66952, 'recall': 0.55819, 'precision': 0.8363}\n",
      "9 :  {'f1_score': 0.67425, 'recall': 0.56295, 'precision': 0.84043}\n",
      "10 :  {'f1_score': 0.69198, 'recall': 0.58432, 'precision': 0.84828}\n"
     ]
    }
   ],
   "source": [
    "for k,v in bart_3.items():\n",
    "    print(k,': ',metricMentionScore(ref_mentions,v))"
   ]
  },
  {
   "cell_type": "code",
   "execution_count": 154,
   "id": "noted-dominant",
   "metadata": {},
   "outputs": [
    {
     "name": "stderr",
     "output_type": "stream",
     "text": [
      "[nltk_data] Downloading package wordnet to /home/essel/nltk_data...\n",
      "[nltk_data]   Package wordnet is already up-to-date!\n"
     ]
    }
   ],
   "source": [
    "from datasets  import load_metric\n",
    "\n",
    "metric_bert = load_metric('bertscore')\n",
    "metric_sbleu = load_metric('sacrebleu')\n",
    "metric_meteor = load_metric('meteor')\n",
    "#metric_bleurt = load_metric('bleurt', 'bleurt-large-512')\n",
    "metric_rouge = load_metric('rouge')\n",
    "metric_wer = load_metric('google_bleu')"
   ]
  },
  {
   "cell_type": "code",
   "execution_count": 155,
   "id": "voluntary-receipt",
   "metadata": {},
   "outputs": [],
   "source": []
  },
  {
   "cell_type": "code",
   "execution_count": 156,
   "id": "strategic-hundred",
   "metadata": {},
   "outputs": [],
   "source": []
  },
  {
   "cell_type": "code",
   "execution_count": 26,
   "id": "aging-course",
   "metadata": {},
   "outputs": [
    {
     "data": {
      "text/plain": [
       "{'1': [37.787270823087105, 0.4181617310931137],\n",
       " '2': [41.9196574162291, 0.4219962876887866],\n",
       " '3': [41.12914693270646, 0.42054374808887074],\n",
       " '4': [40.8303254953119, 0.41872540696827204],\n",
       " '5': [39.4789757214327, 0.40984804724599905],\n",
       " '6': [38.843130613613816, 0.40463688152970806],\n",
       " '7': [38.322839018281186, 0.4003074792746868],\n",
       " '8': [37.83499039382401, 0.39464666985022245],\n",
       " '9': [37.48091542966693, 0.39330027661660794],\n",
       " '10': [37.286661322376304, 0.39093824552525896]}"
      ]
     },
     "execution_count": 26,
     "metadata": {},
     "output_type": "execute_result"
    }
   ],
   "source": [
    "t5_small_res = computeSeedExpMeanScore(t5_small)\n",
    "t5_small_mres = computeSeedExpMeanScore(t5_small,computeMeteor)\n",
    "{k:[np.mean(v),np.mean(t5_small_mres[k])] for k,v in t5_small_res.items()}"
   ]
  },
  {
   "cell_type": "code",
   "execution_count": 27,
   "id": "parallel-playing",
   "metadata": {},
   "outputs": [
    {
     "data": {
      "text/plain": [
       "{'1': [36.836045446008384, 0.4311472596862701],\n",
       " '2': [42.32043472504351, 0.4407862548545368],\n",
       " '3': [41.322592359591, 0.44053813130086905],\n",
       " '4': [41.73216305667963, 0.4418162249122739],\n",
       " '5': [41.00872507615117, 0.43904082737512873],\n",
       " '6': [41.19275578251519, 0.43816437552679377],\n",
       " '7': [40.885679497142725, 0.43674510361955815],\n",
       " '8': [40.57733052202082, 0.4340056952532363],\n",
       " '9': [40.563345553371825, 0.43220637119575944],\n",
       " '10': [39.93902829367992, 0.4288769276632177]}"
      ]
     },
     "execution_count": 27,
     "metadata": {},
     "output_type": "execute_result"
    }
   ],
   "source": [
    "t5_small_ef_res = computeSeedExpMeanScore(t5_small_ef)\n",
    "t5_small_ef_mres = computeSeedExpMeanScore(t5_small_ef,computeMeteor)\n",
    "{k:[np.mean(v),np.mean(t5_small_ef_mres[k])] for k,v in t5_small_ef_res.items()}"
   ]
  },
  {
   "cell_type": "code",
   "execution_count": 28,
   "id": "polish-agriculture",
   "metadata": {},
   "outputs": [
    {
     "data": {
      "text/plain": [
       "{'1': [45.704779504739136, 0.45159705437704745],\n",
       " '2': [48.264974377963725, 0.4756633481675824],\n",
       " '3': [48.186084085653235, 0.47860241596196185],\n",
       " '4': [47.81400127590847, 0.4784043162726717],\n",
       " '5': [47.5054120761302, 0.4767429560233536],\n",
       " '6': [46.88899896518804, 0.4743238876556509],\n",
       " '7': [46.72452165939688, 0.473300624170924],\n",
       " '8': [46.305576394625874, 0.47451796627600595],\n",
       " '9': [46.224098732872136, 0.47333302453252496],\n",
       " '10': [46.271640864283896, 0.47187901204037636]}"
      ]
     },
     "execution_count": 28,
     "metadata": {},
     "output_type": "execute_result"
    }
   ],
   "source": [
    "t5_base_res = computeSeedExpMeanScore(t5_base)\n",
    "t5_base_mres = computeSeedExpMeanScore(t5_base,computeMeteor)\n",
    "{k:[np.mean(v),np.mean(t5_base_mres[k])]  for k,v in t5_base_res.items()}"
   ]
  },
  {
   "cell_type": "code",
   "execution_count": 29,
   "id": "earned-brazilian",
   "metadata": {},
   "outputs": [
    {
     "data": {
      "text/plain": [
       "{'1': [44.74994291332346, 0.4563329145450895],\n",
       " '2': [47.98097159538177, 0.47766710732266526],\n",
       " '3': [47.42763743679627, 0.47949491908062536],\n",
       " '4': [47.30221873216603, 0.47669366498398597],\n",
       " '5': [46.9589173193296, 0.47731665930946876],\n",
       " '6': [46.54185982747161, 0.476861676362401],\n",
       " '7': [45.773708374007434, 0.4771031481365607],\n",
       " '8': [45.457930430656, 0.4775205184684225],\n",
       " '9': [45.468813431269375, 0.47593311664204413],\n",
       " '10': [45.26427982271601, 0.4758621763240061]}"
      ]
     },
     "execution_count": 29,
     "metadata": {},
     "output_type": "execute_result"
    }
   ],
   "source": [
    "t5_base_ef_res = computeSeedExpMeanScore(t5_base_ef)\n",
    "t5_base_ef_mres = computeSeedExpMeanScore(t5_base_ef,computeMeteor)\n",
    "{k:[np.mean(v),np.mean(t5_base_ef_mres[k])] for k,v in t5_base_ef_res.items()}"
   ]
  },
  {
   "cell_type": "code",
   "execution_count": 31,
   "id": "dental-player",
   "metadata": {},
   "outputs": [
    {
     "data": {
      "text/plain": [
       "{'1': [45.113750159446575, 0.4592316505863835],\n",
       " '2': [47.962106026837986, 0.47816007973919705],\n",
       " '3': [47.279720737737954, 0.47995792858162056],\n",
       " '4': [46.943931431107295, 0.47499044367695414],\n",
       " '5': [46.2705295695038, 0.47495419845986914],\n",
       " '6': [46.14740483842645, 0.47274932608378606],\n",
       " '7': [45.81513817444305, 0.47213273417073687],\n",
       " '8': [45.70102176274635, 0.4711421681503355],\n",
       " '9': [45.77849551221685, 0.4715064849015428],\n",
       " '10': [46.02218823657531, 0.4710452207645567]}"
      ]
     },
     "execution_count": 31,
     "metadata": {},
     "output_type": "execute_result"
    }
   ],
   "source": [
    "t5_large_res = computeSeedExpMeanScore(t5_large)\n",
    "t5_large_mres = computeSeedExpMeanScore(t5_large,computeMeteor)\n",
    "{k:[np.mean(v),np.mean(t5_large_mres[k])] for k,v in t5_large_res.items()}"
   ]
  },
  {
   "cell_type": "code",
   "execution_count": 32,
   "id": "southern-advice",
   "metadata": {},
   "outputs": [
    {
     "data": {
      "text/plain": [
       "{'1': [45.04777649962929, 0.45744462334127733],\n",
       " '2': [46.6881343061911, 0.4752944005875152],\n",
       " '3': [47.08971626640137, 0.4747656299768675],\n",
       " '4': [46.93227050847213, 0.47629319853731983],\n",
       " '5': [46.334364125923535, 0.475882058151546],\n",
       " '6': [46.04518948379549, 0.4765559365240173],\n",
       " '7': [46.50955532322176, 0.4748576060834682],\n",
       " '8': [46.0307056496799, 0.4752666464749858],\n",
       " '9': [45.50263709468099, 0.4729571417177505],\n",
       " '10': [45.32061577509971, 0.4721082027302185]}"
      ]
     },
     "execution_count": 32,
     "metadata": {},
     "output_type": "execute_result"
    }
   ],
   "source": [
    "t5_large_ef_res = computeSeedExpMeanScore(t5_large_ef)\n",
    "t5_large_ef_mres = computeSeedExpMeanScore(t5_large_ef,computeMeteor)\n",
    "{k:[np.mean(v),np.mean(t5_large_ef_mres[k])] for k,v in t5_large_ef_res.items()}"
   ]
  },
  {
   "cell_type": "code",
   "execution_count": 136,
   "id": "comparative-spank",
   "metadata": {},
   "outputs": [
    {
     "data": {
      "text/plain": [
       "([47.47965216701975,\n",
       "  45.84323662511945,\n",
       "  46.49109852274593,\n",
       "  45.778635422493274,\n",
       "  47.116676399979646],\n",
       " [46.9113430642969,\n",
       "  46.38285503025119,\n",
       "  45.228276049584494,\n",
       "  48.99955355806562,\n",
       "  46.92296712374196])"
      ]
     },
     "execution_count": 136,
     "metadata": {},
     "output_type": "execute_result"
    }
   ],
   "source": [
    "t5_base_ef_res['6'],t5_base_res['6']"
   ]
  },
  {
   "cell_type": "code",
   "execution_count": 138,
   "id": "binary-colon",
   "metadata": {},
   "outputs": [
    {
     "data": {
      "text/plain": [
       "([0.47616487229565346,\n",
       "  0.4756391912581293,\n",
       "  0.4795819436628369,\n",
       "  0.4772317524218621,\n",
       "  0.4756906221735231],\n",
       " [0.47763787890403797,\n",
       "  0.46543580343776253,\n",
       "  0.4776333391056651,\n",
       "  0.4793407023818341,\n",
       "  0.4715717144489548])"
      ]
     },
     "execution_count": 138,
     "metadata": {},
     "output_type": "execute_result"
    }
   ],
   "source": [
    "t5_base_ef_mres['6'],t5_base_mres['6']"
   ]
  },
  {
   "cell_type": "code",
   "execution_count": 140,
   "id": "legal-toddler",
   "metadata": {},
   "outputs": [
    {
     "data": {
      "text/plain": [
       "([46.10013305896128,\n",
       "  47.41468912954429,\n",
       "  45.55520402995126,\n",
       "  47.78184867129124,\n",
       "  43.37407252922939],\n",
       " [46.72639502654119,\n",
       "  46.4157085968372,\n",
       "  45.619720898744,\n",
       "  45.076500103373796,\n",
       "  46.89869956663605])"
      ]
     },
     "execution_count": 140,
     "metadata": {},
     "output_type": "execute_result"
    }
   ],
   "source": [
    "t5_large_ef_res['6'],t5_large_res['6']"
   ]
  },
  {
   "cell_type": "code",
   "execution_count": 139,
   "id": "balanced-insert",
   "metadata": {},
   "outputs": [
    {
     "data": {
      "text/plain": [
       "([0.47941216431856415,\n",
       "  0.4743005540937595,\n",
       "  0.48023469999142765,\n",
       "  0.4756075416170831,\n",
       "  0.47322472259925213],\n",
       " [0.47122485260382824,\n",
       "  0.47121986958560763,\n",
       "  0.47388311031854696,\n",
       "  0.472988120831701,\n",
       "  0.4744306770792464])"
      ]
     },
     "execution_count": 139,
     "metadata": {},
     "output_type": "execute_result"
    }
   ],
   "source": [
    "t5_large_ef_mres['6'],t5_large_mres['6']"
   ]
  },
  {
   "cell_type": "code",
   "execution_count": 33,
   "id": "sporting-darwin",
   "metadata": {},
   "outputs": [
    {
     "data": {
      "text/plain": [
       "{'1': [34.92766494010319, 0.45857370114567686],\n",
       " '2': [47.61669463928174, 0.4764702184516613],\n",
       " '3': [46.90177016526352, 0.4778233575816017],\n",
       " '4': [46.75907144703586, 0.4809663216698163],\n",
       " '5': [46.72436892778949, 0.4804706873150867],\n",
       " '6': [46.11595141753286, 0.4771366816050078],\n",
       " '7': [45.9595659703702, 0.478332172442102],\n",
       " '8': [45.5510772047795, 0.4779373873489307],\n",
       " '9': [45.57915750602132, 0.4759796696743943],\n",
       " '10': [45.04816383013771, 0.47489912096483333]}"
      ]
     },
     "execution_count": 33,
     "metadata": {},
     "output_type": "execute_result"
    }
   ],
   "source": [
    "bart_base_res = computeSeedExpMeanScore(bart_base)\n",
    "bart_base_mres = computeSeedExpMeanScore(bart_base,computeMeteor)\n",
    "{k:[np.mean(v),np.mean(bart_base_mres[k])] for k,v in bart_base_res.items()}"
   ]
  },
  {
   "cell_type": "code",
   "execution_count": 34,
   "id": "boxed-ukraine",
   "metadata": {},
   "outputs": [
    {
     "data": {
      "text/plain": [
       "{'1': [34.751170432837455, 0.46253303870977414],\n",
       " '2': [47.482251558087924, 0.47959613073119983],\n",
       " '3': [47.26986917002272, 0.4786920142128217],\n",
       " '4': [46.7089808452792, 0.4766621468929351],\n",
       " '5': [46.13618827684159, 0.4777024307092164],\n",
       " '6': [45.787923865930956, 0.4801122082752848],\n",
       " '7': [45.70039916487681, 0.4815684933011899],\n",
       " '8': [45.60291058591729, 0.4779942697992082],\n",
       " '9': [45.382093730073805, 0.4789135804239593],\n",
       " '10': [45.11253658380065, 0.47914824317769283]}"
      ]
     },
     "execution_count": 34,
     "metadata": {},
     "output_type": "execute_result"
    }
   ],
   "source": [
    "bart_base_ef_res = computeSeedExpMeanScore(bart_base_ef)\n",
    "bart_base_ef_mres = computeSeedExpMeanScore(bart_base_ef,computeMeteor)\n",
    "{k:[np.mean(v),np.mean(bart_base_ef_mres[k])] for k,v in bart_base_ef_res.items()}"
   ]
  },
  {
   "cell_type": "code",
   "execution_count": 157,
   "id": "inner-classics",
   "metadata": {},
   "outputs": [],
   "source": []
  },
  {
   "cell_type": "code",
   "execution_count": 164,
   "id": "collectible-small",
   "metadata": {},
   "outputs": [],
   "source": [
    "#bart_kk['6']"
   ]
  },
  {
   "cell_type": "code",
   "execution_count": 159,
   "id": "chemical-saskatchewan",
   "metadata": {},
   "outputs": [
    {
     "data": {
      "text/plain": [
       "{'1': [43.92751681501434, 0.47684587247390525],\n",
       " '2': [47.51285325022143, 0.47822631443173724],\n",
       " '3': [47.52287522233005, 0.48370107959026765],\n",
       " '4': [47.23601037123912, 0.478491156077951],\n",
       " '5': [47.7901998534935, 0.4823083912238695],\n",
       " '6': [47.446786095110575, 0.4787907384665207],\n",
       " '7': [48.49601649949823, 0.4768235743178142],\n",
       " '8': [48.81124129011518, 0.4779673035958327],\n",
       " '9': [48.48188459587164, 0.47741621341354623],\n",
       " '10': [48.69329796219358, 0.482763775582496]}"
      ]
     },
     "execution_count": 159,
     "metadata": {},
     "output_type": "execute_result"
    }
   ],
   "source": [
    "computeAllScores([bart_kk])"
   ]
  },
  {
   "cell_type": "code",
   "execution_count": 163,
   "id": "corporate-camel",
   "metadata": {},
   "outputs": [
    {
     "data": {
      "text/plain": [
       "{'1': [34.4080929953031, 0.46015486918324133],\n",
       " '2': [47.78336112664421, 0.47598215609668565],\n",
       " '3': [47.613859339716825, 0.4818339741253827],\n",
       " '4': [47.90740070291527, 0.48051200531249105],\n",
       " '5': [48.22205022073503, 0.48030814812122924],\n",
       " '6': [47.44231283400534, 0.47962497976622115],\n",
       " '7': [47.70149190883472, 0.4807224471632546],\n",
       " '8': [47.64379729639866, 0.4792086674394189],\n",
       " '9': [47.091277571625874, 0.47479905405046285],\n",
       " '10': [45.97478989108914, 0.4745262494910657]}"
      ]
     },
     "execution_count": 163,
     "metadata": {},
     "output_type": "execute_result"
    }
   ],
   "source": [
    "computeAllScores(bart_base[:1])"
   ]
  },
  {
   "cell_type": "code",
   "execution_count": 162,
   "id": "radical-energy",
   "metadata": {},
   "outputs": [],
   "source": [
    "#bart_base_res"
   ]
  },
  {
   "cell_type": "code",
   "execution_count": 41,
   "id": "blind-recommendation",
   "metadata": {},
   "outputs": [
    {
     "data": {
      "text/plain": [
       "{'1': [25.396754520407306, 0.40924804750058275],\n",
       " '2': [35.24168114955427, 0.407754674892182],\n",
       " '3': [36.72747931791905, 0.41207302304169263],\n",
       " '4': [37.37073647712226, 0.41863952073289495],\n",
       " '5': [37.14107331960455, 0.41735663428993935],\n",
       " '6': [36.68708060873887, 0.4169999820057126],\n",
       " '7': [36.38039040997796, 0.4169235535946079],\n",
       " '8': [36.821426136224964, 0.41823647651846035],\n",
       " '9': [36.8332338500853, 0.4200580626909157],\n",
       " '10': [36.402703372331175, 0.41696779930190414]}"
      ]
     },
     "execution_count": 41,
     "metadata": {},
     "output_type": "execute_result"
    }
   ],
   "source": [
    "computeAllScores(bart_large[:])"
   ]
  },
  {
   "cell_type": "code",
   "execution_count": 40,
   "id": "given-champagne",
   "metadata": {},
   "outputs": [
    {
     "data": {
      "text/plain": [
       "{'1': [32.562122278399805, 0.4420277213427095],\n",
       " '2': [48.28866193310757, 0.459209631702282],\n",
       " '3': [47.97097759170158, 0.4537281284290561],\n",
       " '4': [46.92025184779691, 0.44981211690885126],\n",
       " '5': [46.54742318207576, 0.452161018441152],\n",
       " '6': [46.252771060525156, 0.4525437065839557],\n",
       " '7': [46.45541524330387, 0.45527858940540955],\n",
       " '8': [46.657573799586, 0.45619253443609953],\n",
       " '9': [46.845658983620034, 0.4577083431224095],\n",
       " '10': [46.873320085107196, 0.4581275894109206]}"
      ]
     },
     "execution_count": 40,
     "metadata": {},
     "output_type": "execute_result"
    }
   ],
   "source": [
    "computeAllScores(bart_large_ef[:])"
   ]
  },
  {
   "cell_type": "code",
   "execution_count": 108,
   "id": "immune-procurement",
   "metadata": {},
   "outputs": [],
   "source": [
    "from distinct_n import distinct_n_corpus_level"
   ]
  },
  {
   "cell_type": "code",
   "execution_count": 113,
   "id": "simple-wrong",
   "metadata": {},
   "outputs": [],
   "source": [
    "def computeSeedExpMeanScoreDN(seed_set,func=distinct_n_corpus_level,n=2):\n",
    "    results = {f'{idx+1}':[] for idx in range(10)}\n",
    "    for pc in seed_set:\n",
    "        res= {K:func(j,n=n) for K,j in pc.items()}\n",
    "        for k,v in res.items():\n",
    "            results[k].append(v)\n",
    "    return results"
   ]
  },
  {
   "cell_type": "code",
   "execution_count": 117,
   "id": "organized-relationship",
   "metadata": {},
   "outputs": [
    {
     "data": {
      "text/plain": [
       "{'1': 0.39495282061879566,\n",
       " '2': 0.3924337136584529,\n",
       " '3': 0.3899257418613278,\n",
       " '4': 0.3918011149157718,\n",
       " '5': 0.3934273427012188,\n",
       " '6': 0.3948268447321584,\n",
       " '7': 0.39531554983590744,\n",
       " '8': 0.3969601645143874,\n",
       " '9': 0.39735182682469383,\n",
       " '10': 0.3976002759945745}"
      ]
     },
     "execution_count": 117,
     "metadata": {},
     "output_type": "execute_result"
    }
   ],
   "source": [
    "ef_base_dis=computeSeedExpMeanScoreDN(t5_small_ef,n=2)\n",
    "{k:np.mean(v) for k,v in ef_base_dis.items()}"
   ]
  },
  {
   "cell_type": "code",
   "execution_count": 118,
   "id": "documentary-verse",
   "metadata": {},
   "outputs": [
    {
     "data": {
      "text/plain": [
       "{'1': 0.3992956206838404,\n",
       " '2': 0.40158080621524483,\n",
       " '3': 0.4040416185796939,\n",
       " '4': 0.4045249580960902,\n",
       " '5': 0.4095876272693434,\n",
       " '6': 0.4111036755710155,\n",
       " '7': 0.41342505161599696,\n",
       " '8': 0.41568959566206615,\n",
       " '9': 0.41606265841044987,\n",
       " '10': 0.4170700335310239}"
      ]
     },
     "execution_count": 118,
     "metadata": {},
     "output_type": "execute_result"
    }
   ],
   "source": [
    "base_dis=computeSeedExpMeanScoreDN(t5_small,n=2)\n",
    "{k:np.mean(v) for k,v in base_dis.items()}"
   ]
  },
  {
   "cell_type": "code",
   "execution_count": 78,
   "id": "tropical-convergence",
   "metadata": {},
   "outputs": [],
   "source": [
    "import sacrebleu\n",
    "\n",
    "def computeSelfBlue(generated,summarized=True):\n",
    "    score_list = []\n",
    "    num = len(generated) #number of sentences\n",
    "    for i in range(num):\n",
    "        refs = [[generated[j].replace('\\n', '').replace(' ','　')] for j in range(num) if j!=i]\n",
    "        sys = [generated[i].replace('\\n', '').replace(' ','　')]  \n",
    "        blue = sacrebleu.corpus_bleu(sys, refs) #calcuate score\n",
    "        score_list.append(blue.score) #save the score\n",
    "    if summarized:\n",
    "        return np.mean(score_list)\n",
    "    else:\n",
    "        return score_list\n",
    "    \n",
    "def computeSB(data):\n",
    "    results={}\n",
    "    for k in data.keys():\n",
    "        gen= [normalize_text(t) for t in data[k]]\n",
    "        score= computeSelfBlue(gen)\n",
    "        results[k] = score\n",
    "    return results"
   ]
  },
  {
   "cell_type": "code",
   "execution_count": null,
   "id": "built-cradle",
   "metadata": {},
   "outputs": [],
   "source": []
  },
  {
   "cell_type": "code",
   "execution_count": 132,
   "id": "muslim-ballot",
   "metadata": {},
   "outputs": [
    {
     "data": {
      "text/plain": [
       "63.264525529273506"
      ]
     },
     "execution_count": 132,
     "metadata": {},
     "output_type": "execute_result"
    }
   ],
   "source": [
    "computeSelfBlue(refs[0])"
   ]
  },
  {
   "cell_type": "code",
   "execution_count": 79,
   "id": "czech-medicine",
   "metadata": {},
   "outputs": [
    {
     "data": {
      "text/plain": [
       "{'1': 68.65892195518131,\n",
       " '2': 72.33246947310926,\n",
       " '3': 73.78582626340791,\n",
       " '4': 73.60500690534259,\n",
       " '5': 74.2881587104165,\n",
       " '6': 73.8036995712599,\n",
       " '7': 76.35169469815034,\n",
       " '8': 76.00387303306785,\n",
       " '9': 75.20336039155463,\n",
       " '10': 75.99069963829012}"
      ]
     },
     "execution_count": 79,
     "metadata": {},
     "output_type": "execute_result"
    }
   ],
   "source": [
    "small_sb=computeSeedExpMeanScore(t5_small,computeSB)\n",
    "{k:np.mean(v) for k,v in small_sb.items()}"
   ]
  },
  {
   "cell_type": "code",
   "execution_count": 119,
   "id": "judicial-stand",
   "metadata": {},
   "outputs": [
    {
     "data": {
      "text/plain": [
       "{'1': 77.26468383937603,\n",
       " '2': 83.81085681985743,\n",
       " '3': 85.49354986480652,\n",
       " '4': 86.01580577926786,\n",
       " '5': 86.19365076260644,\n",
       " '6': 86.15954332293221,\n",
       " '7': 86.68518676270502,\n",
       " '8': 86.62657958955032,\n",
       " '9': 86.6551007290254,\n",
       " '10': 86.64194238318744}"
      ]
     },
     "execution_count": 119,
     "metadata": {},
     "output_type": "execute_result"
    }
   ],
   "source": [
    "ef_base_sb=computeSeedExpMeanScore(t5_small_ef,computeSB)\n",
    "{k:np.mean(v) for k,v in ef_base_sb.items()}"
   ]
  },
  {
   "cell_type": "code",
   "execution_count": 124,
   "id": "elementary-steam",
   "metadata": {},
   "outputs": [],
   "source": [
    "from datasets import list_metrics"
   ]
  },
  {
   "cell_type": "code",
   "execution_count": 126,
   "id": "stupid-drawing",
   "metadata": {},
   "outputs": [
    {
     "data": {
      "text/plain": [
       "['accuracy',\n",
       " 'bertscore',\n",
       " 'bleu',\n",
       " 'bleurt',\n",
       " 'cer',\n",
       " 'chrf',\n",
       " 'code_eval',\n",
       " 'comet',\n",
       " 'competition_math',\n",
       " 'coval',\n",
       " 'cuad',\n",
       " 'f1',\n",
       " 'gleu',\n",
       " 'glue',\n",
       " 'google_bleu',\n",
       " 'indic_glue',\n",
       " 'matthews_correlation',\n",
       " 'meteor',\n",
       " 'pearsonr',\n",
       " 'precision',\n",
       " 'recall',\n",
       " 'rouge',\n",
       " 'sacrebleu',\n",
       " 'sari',\n",
       " 'seqeval',\n",
       " 'spearmanr',\n",
       " 'squad',\n",
       " 'squad_v2',\n",
       " 'super_glue',\n",
       " 'ter',\n",
       " 'wer',\n",
       " 'wiki_split',\n",
       " 'xnli']"
      ]
     },
     "execution_count": 126,
     "metadata": {},
     "output_type": "execute_result"
    }
   ],
   "source": [
    "list_metrics()"
   ]
  },
  {
   "cell_type": "code",
   "execution_count": 83,
   "id": "split-market",
   "metadata": {},
   "outputs": [],
   "source": [
    "from fast_bleu import BLEU, SelfBLEU"
   ]
  },
  {
   "cell_type": "code",
   "execution_count": null,
   "id": "ideal-train",
   "metadata": {},
   "outputs": [],
   "source": [
    "bleu = "
   ]
  },
  {
   "cell_type": "code",
   "execution_count": 120,
   "id": "annoying-equity",
   "metadata": {},
   "outputs": [],
   "source": [
    "self_bleu = SelfBLEU([t for t in t5_base[0]['1']],weights = {'bigram': (1/2., 1/2.), 'trigram': (1/3., 1/3., 1/3.)}, verbose=True)"
   ]
  },
  {
   "cell_type": "code",
   "execution_count": 121,
   "id": "satisfied-wichita",
   "metadata": {},
   "outputs": [],
   "source": [
    "pp= self_bleu.get_score()"
   ]
  },
  {
   "cell_type": "code",
   "execution_count": 122,
   "id": "nonprofit-salmon",
   "metadata": {},
   "outputs": [
    {
     "data": {
      "text/plain": [
       "dict_keys(['bigram', 'trigram'])"
      ]
     },
     "execution_count": 122,
     "metadata": {},
     "output_type": "execute_result"
    }
   ],
   "source": [
    "pp.keys()"
   ]
  },
  {
   "cell_type": "code",
   "execution_count": 123,
   "id": "illegal-scratch",
   "metadata": {},
   "outputs": [
    {
     "data": {
      "text/plain": [
       "(0.9935076436571327, 0.9881759432609282)"
      ]
     },
     "execution_count": 123,
     "metadata": {},
     "output_type": "execute_result"
    }
   ],
   "source": [
    "np.mean(pp['bigram']),np.mean(pp['trigram'])"
   ]
  },
  {
   "cell_type": "code",
   "execution_count": 53,
   "id": "aggregate-appendix",
   "metadata": {
    "scrolled": true
   },
   "outputs": [],
   "source": [
    "score_list = []\n",
    "num = len(sen_list) #number of sentences\n",
    "for i in range(num):\n",
    "    refs = [[sen_list[j].replace('\\n', '').replace(' ','　')] for j in range(num) if j!=i]\n",
    "    sys = [sen_list[i].replace('\\n', '').replace(' ','　')]  \n",
    "    blue = sacrebleu.corpus_bleu(sys, refs) #calcuate score\n",
    "    score_list.append(blue.score) #save the score\n",
    "    #show each score (Comment out if not needed)\n",
    "    #print(num, sum(score_list) / num)"
   ]
  },
  {
   "cell_type": "code",
   "execution_count": 54,
   "id": "fourth-opinion",
   "metadata": {},
   "outputs": [
    {
     "name": "stdout",
     "output_type": "stream",
     "text": [
      "79.90957594848246\n"
     ]
    }
   ],
   "source": [
    "print(sum(score_list) / num)"
   ]
  },
  {
   "cell_type": "code",
   "execution_count": null,
   "id": "suitable-being",
   "metadata": {},
   "outputs": [],
   "source": []
  },
  {
   "cell_type": "code",
   "execution_count": null,
   "id": "brutal-builder",
   "metadata": {},
   "outputs": [],
   "source": []
  },
  {
   "cell_type": "code",
   "execution_count": null,
   "id": "amazing-drinking",
   "metadata": {},
   "outputs": [],
   "source": []
  },
  {
   "cell_type": "code",
   "execution_count": 36,
   "id": "guided-relationship",
   "metadata": {},
   "outputs": [
    {
     "data": {
      "text/plain": [
       "({'1': 37.43499767878873,\n",
       "  '2': 41.58253768398589,\n",
       "  '3': 39.69232064445176,\n",
       "  '4': 38.191713088134776,\n",
       "  '5': 36.84223597839737,\n",
       "  '6': 36.336714364196794,\n",
       "  '7': 35.12545795054349,\n",
       "  '8': 35.26647731290889,\n",
       "  '9': 34.430103190176006,\n",
       "  '10': 33.66930079025249},\n",
       " {'1': 37.72501410968611,\n",
       "  '2': 41.73073097846633,\n",
       "  '3': 41.46636767952953,\n",
       "  '4': 43.07776750828115,\n",
       "  '5': 43.471867019266575,\n",
       "  '6': 43.735204046311864,\n",
       "  '7': 41.99533283223382,\n",
       "  '8': 41.59990182431976,\n",
       "  '9': 40.786635595442924,\n",
       "  '10': 41.35587304602563})"
      ]
     },
     "execution_count": 36,
     "metadata": {},
     "output_type": "execute_result"
    }
   ],
   "source": [
    "computeBleu(t5_small),computeBleu(t5_small_ef)"
   ]
  },
  {
   "cell_type": "code",
   "execution_count": 57,
   "id": "frozen-satellite",
   "metadata": {},
   "outputs": [
    {
     "data": {
      "text/plain": [
       "({'1': 36.79289428713274,\n",
       "  '2': 42.18647514584523,\n",
       "  '3': 41.84484699436753,\n",
       "  '4': 42.69050659111632,\n",
       "  '5': 40.05016939482431,\n",
       "  '6': 38.10900510398527,\n",
       "  '7': 37.67290633190948,\n",
       "  '8': 35.95402482583098,\n",
       "  '9': 35.56806028974165,\n",
       "  '10': 36.05526369235671},\n",
       " {'1': 37.250681941291134,\n",
       "  '2': 43.46480204388614,\n",
       "  '3': 42.35655599370531,\n",
       "  '4': 42.274901848376615,\n",
       "  '5': 41.60994188301808,\n",
       "  '6': 41.81527788203952,\n",
       "  '7': 42.080198533353126,\n",
       "  '8': 41.73134025971497,\n",
       "  '9': 41.72457443159551,\n",
       "  '10': 39.93019515789692})"
      ]
     },
     "execution_count": 57,
     "metadata": {},
     "output_type": "execute_result"
    }
   ],
   "source": [
    "computeBleu(t5_small_128),computeBleu(t5_small_ef_128)"
   ]
  },
  {
   "cell_type": "code",
   "execution_count": null,
   "id": "marine-chrome",
   "metadata": {},
   "outputs": [],
   "source": []
  },
  {
   "cell_type": "code",
   "execution_count": 58,
   "id": "wicked-apartment",
   "metadata": {},
   "outputs": [
    {
     "data": {
      "text/plain": [
       "({'1': 37.644874382484105,\n",
       "  '2': 41.668702985941316,\n",
       "  '3': 39.76362126488329,\n",
       "  '4': 40.569839897796896,\n",
       "  '5': 39.165551366848234,\n",
       "  '6': 38.203745518142696,\n",
       "  '7': 38.39872269336537,\n",
       "  '8': 37.31976040535875,\n",
       "  '9': 38.15442909864358,\n",
       "  '10': 38.431806020569866},\n",
       " {'1': 37.97001462799759,\n",
       "  '2': 43.516060323658316,\n",
       "  '3': 42.36374645448917,\n",
       "  '4': 43.94412214104619,\n",
       "  '5': 40.83063180818093,\n",
       "  '6': 41.41746134369856,\n",
       "  '7': 41.73211485554314,\n",
       "  '8': 43.042162131341236,\n",
       "  '9': 43.82964111875718,\n",
       "  '10': 42.602262466748364})"
      ]
     },
     "execution_count": 58,
     "metadata": {},
     "output_type": "execute_result"
    }
   ],
   "source": [
    "computeBleu(t5_small_456),computeBleu(t5_small_ef_456)"
   ]
  },
  {
   "cell_type": "code",
   "execution_count": 25,
   "id": "resident-essay",
   "metadata": {},
   "outputs": [
    {
     "data": {
      "text/plain": [
       "{'1': 38.93754307235631,\n",
       " '2': 42.852780193108835,\n",
       " '3': 43.40630633516363,\n",
       " '4': 42.809399183284704,\n",
       " '5': 42.4571139305661,\n",
       " '6': 42.11643289128669,\n",
       " '7': 41.68148720354089,\n",
       " '8': 41.44359432428954,\n",
       " '9': 40.72382234166161,\n",
       " '10': 40.01248856580271}"
      ]
     },
     "execution_count": 25,
     "metadata": {},
     "output_type": "execute_result"
    }
   ],
   "source": [
    "computeBleu(t5_small_3087)"
   ]
  },
  {
   "cell_type": "code",
   "execution_count": 31,
   "id": "described-exemption",
   "metadata": {},
   "outputs": [
    {
     "data": {
      "text/plain": [
       "{'1': 38.14810802687952,\n",
       " '2': 41.38613928526191,\n",
       " '3': 40.9975736647336,\n",
       " '4': 39.948269135632444,\n",
       " '5': 38.93441409209754,\n",
       " '6': 39.49422723027739,\n",
       " '7': 38.78578385462552,\n",
       " '8': 39.231821529617825,\n",
       " '9': 38.589059477954066,\n",
       " '10': 38.315004981253466}"
      ]
     },
     "execution_count": 31,
     "metadata": {},
     "output_type": "execute_result"
    }
   ],
   "source": [
    "computeBleu(t5_small_1984)"
   ]
  },
  {
   "cell_type": "code",
   "execution_count": 41,
   "id": "defined-address",
   "metadata": {},
   "outputs": [
    {
     "data": {
      "text/plain": [
       "({'1': 47.37230239870869,\n",
       "  '2': 48.692712052500134,\n",
       "  '3': 48.70463244359287,\n",
       "  '4': 48.12191081814357,\n",
       "  '5': 48.01949875517641,\n",
       "  '6': 46.91572085684672,\n",
       "  '7': 46.44177909307033,\n",
       "  '8': 45.55955150092594,\n",
       "  '9': 46.21561955470097,\n",
       "  '10': 47.091722344231314},\n",
       " {'1': 45.956553046297024,\n",
       "  '2': 47.98610373661832,\n",
       "  '3': 47.98708970420727,\n",
       "  '4': 47.71634307924454,\n",
       "  '5': 46.78561184373246,\n",
       "  '6': 47.481956284636,\n",
       "  '7': 46.15430702241513,\n",
       "  '8': 44.70735119437065,\n",
       "  '9': 45.063513251245176,\n",
       "  '10': 44.852629328116834})"
      ]
     },
     "execution_count": 41,
     "metadata": {},
     "output_type": "execute_result"
    }
   ],
   "source": [
    "computeBleu(t5_base),computeBleu(t5_base_ef)"
   ]
  },
  {
   "cell_type": "code",
   "execution_count": 62,
   "id": "opening-breakfast",
   "metadata": {},
   "outputs": [
    {
     "data": {
      "text/plain": [
       "({'1': 45.684162723171376,\n",
       "  '2': 48.219275544884155,\n",
       "  '3': 47.917927934266,\n",
       "  '4': 47.82772461015846,\n",
       "  '5': 47.05079993528313,\n",
       "  '6': 46.37969662787346,\n",
       "  '7': 46.413180028476845,\n",
       "  '8': 46.26350226936771,\n",
       "  '9': 45.71391486791075,\n",
       "  '10': 45.94908918801773},\n",
       " {'1': 45.302223476371395,\n",
       "  '2': 47.35107568833508,\n",
       "  '3': 46.871436511053986,\n",
       "  '4': 46.925420523704815,\n",
       "  '5': 46.44476976008527,\n",
       "  '6': 45.84805171423185,\n",
       "  '7': 45.48345442490215,\n",
       "  '8': 44.71613939880901,\n",
       "  '9': 44.22511983686531,\n",
       "  '10': 44.07772218923844})"
      ]
     },
     "execution_count": 62,
     "metadata": {},
     "output_type": "execute_result"
    }
   ],
   "source": [
    "computeBleu(t5_base_128),computeBleu(t5_base_ef_128)"
   ]
  },
  {
   "cell_type": "code",
   "execution_count": 66,
   "id": "greatest-freedom",
   "metadata": {},
   "outputs": [
    {
     "data": {
      "text/plain": [
       "({'1': 45.25637067377542,\n",
       "  '2': 47.322239465594016,\n",
       "  '3': 47.43037614186565,\n",
       "  '4': 47.0231734693407,\n",
       "  '5': 47.01224294593807,\n",
       "  '6': 45.21835961433512,\n",
       "  '7': 44.98326453413183,\n",
       "  '8': 45.51643897172242,\n",
       "  '9': 44.91343927360247,\n",
       "  '10': 44.51720077226883},\n",
       " {'1': 44.27127832957424,\n",
       "  '2': 48.10547999516007,\n",
       "  '3': 46.92802789037182,\n",
       "  '4': 46.97905173815746,\n",
       "  '5': 46.13475361303621,\n",
       "  '6': 46.4841745644247,\n",
       "  '7': 46.239576619185684,\n",
       "  '8': 46.09299829068327,\n",
       "  '9': 46.91900881267553,\n",
       "  '10': 46.89093945858569})"
      ]
     },
     "execution_count": 66,
     "metadata": {},
     "output_type": "execute_result"
    }
   ],
   "source": [
    "computeBleu(t5_base_456),computeBleu(t5_base_ef_456)"
   ]
  },
  {
   "cell_type": "code",
   "execution_count": 70,
   "id": "assisted-sapphire",
   "metadata": {},
   "outputs": [
    {
     "data": {
      "text/plain": [
       "({'1': 45.20013708170354,\n",
       "  '2': 48.89827478592744,\n",
       "  '3': 48.56695273735578,\n",
       "  '4': 48.38532297150993,\n",
       "  '5': 47.52689710124718,\n",
       "  '6': 49.004684221123775,\n",
       "  '7': 48.71897197453426,\n",
       "  '8': 47.93068512038431,\n",
       "  '9': 47.968220394077946,\n",
       "  '10': 48.035213101309004},\n",
       " {'1': 43.8605947988224,\n",
       "  '2': 48.228007689739705,\n",
       "  '3': 47.06100351344001,\n",
       "  '4': 46.956692849414466,\n",
       "  '5': 47.447126081039805,\n",
       "  '6': 45.778635422493274,\n",
       "  '7': 45.03534644158958,\n",
       "  '8': 45.949407055914826,\n",
       "  '9': 45.063220808473694,\n",
       "  '10': 45.001820901796364})"
      ]
     },
     "execution_count": 70,
     "metadata": {},
     "output_type": "execute_result"
    }
   ],
   "source": [
    "computeBleu(t5_base_3087),computeBleu(t5_base_ef_3087)"
   ]
  },
  {
   "cell_type": "code",
   "execution_count": 45,
   "id": "impaired-winter",
   "metadata": {},
   "outputs": [
    {
     "data": {
      "text/plain": [
       "{'1': 45.25807628521438,\n",
       " '2': 46.35073706297632,\n",
       " '3': 46.47543666745157,\n",
       " '4': 46.759742247235685,\n",
       " '5': 46.22630387757231,\n",
       " '6': 46.108888488731736,\n",
       " '7': 46.398293769070754,\n",
       " '8': 46.69978575408749,\n",
       " '9': 46.44324509558647,\n",
       " '10': 46.290675493700334}"
      ]
     },
     "execution_count": 45,
     "metadata": {},
     "output_type": "execute_result"
    }
   ],
   "source": [
    "computeBleu(t5_large_ef)"
   ]
  },
  {
   "cell_type": "code",
   "execution_count": 12,
   "id": "proper-greek",
   "metadata": {},
   "outputs": [
    {
     "data": {
      "text/plain": [
       "{'1': 47.37230239870869,\n",
       " '2': 48.692712052500134,\n",
       " '3': 48.70463244359287,\n",
       " '4': 48.12191081814357,\n",
       " '5': 48.01949875517641,\n",
       " '6': 46.91572085684672,\n",
       " '7': 46.44177909307033,\n",
       " '8': 45.55955150092594,\n",
       " '9': 46.21561955470097,\n",
       " '10': 47.091722344231314}"
      ]
     },
     "execution_count": 12,
     "metadata": {},
     "output_type": "execute_result"
    }
   ],
   "source": []
  },
  {
   "cell_type": "code",
   "execution_count": 9,
   "id": "international-forth",
   "metadata": {},
   "outputs": [
    {
     "data": {
      "text/plain": [
       "{'1': 33.54266808258084,\n",
       " '2': 37.84551036593377,\n",
       " '3': 38.35086586463152,\n",
       " '4': 38.934416891867265,\n",
       " '5': 38.7661177523196,\n",
       " '6': 37.7933242696743,\n",
       " '7': 39.03116755206731,\n",
       " '8': 38.20323539648423,\n",
       " '9': 39.075134589863886,\n",
       " '10': 38.86034837608316}"
      ]
     },
     "execution_count": 9,
     "metadata": {},
     "output_type": "execute_result"
    }
   ],
   "source": [
    "computeBleu(bart_01)"
   ]
  },
  {
   "cell_type": "code",
   "execution_count": 11,
   "id": "comparable-clerk",
   "metadata": {},
   "outputs": [
    {
     "data": {
      "text/plain": [
       "{'1': 25.164286605085945,\n",
       " '2': 45.22538253874352,\n",
       " '3': 40.6956353668481,\n",
       " '4': 39.75074664799496,\n",
       " '5': 39.657407172936,\n",
       " '6': 39.75486638417042,\n",
       " '7': 40.00851700456552,\n",
       " '8': 39.308238699275044,\n",
       " '9': 39.042569845009105,\n",
       " '10': 38.61566746111052}"
      ]
     },
     "execution_count": 11,
     "metadata": {},
     "output_type": "execute_result"
    }
   ],
   "source": [
    "computeBleu(bart_19)"
   ]
  },
  {
   "cell_type": "code",
   "execution_count": 10,
   "id": "operating-toolbox",
   "metadata": {},
   "outputs": [
    {
     "data": {
      "text/plain": [
       "{'1': 22.781705334422007,\n",
       " '2': 43.3500054808175,\n",
       " '3': 42.26391062262585,\n",
       " '4': 42.13353363980824,\n",
       " '5': 43.39980202656584,\n",
       " '6': 43.751961238191726,\n",
       " '7': 43.033109148226686,\n",
       " '8': 42.53099375995223,\n",
       " '9': 42.28159428282419,\n",
       " '10': 42.721034348940876}"
      ]
     },
     "execution_count": 10,
     "metadata": {},
     "output_type": "execute_result"
    }
   ],
   "source": [
    "computeBleu(bart_21)"
   ]
  },
  {
   "cell_type": "code",
   "execution_count": 20,
   "id": "lightweight-basis",
   "metadata": {},
   "outputs": [
    {
     "data": {
      "text/plain": [
       "({'1': 21.405600369867294,\n",
       "  '2': 44.27378874057828,\n",
       "  '3': 45.560809625631514,\n",
       "  '4': 43.020792807377674,\n",
       "  '5': 43.55842775398116,\n",
       "  '6': 43.919601029467565,\n",
       "  '7': 45.75435376323683,\n",
       "  '8': 46.44552111855133,\n",
       "  '9': 45.80431687069459,\n",
       "  '10': 45.90907159556657},\n",
       " {'1': 17.90337730011284,\n",
       "  '2': 29.7780372765736,\n",
       "  '3': 28.6446888996987,\n",
       "  '4': 29.050454609149543,\n",
       "  '5': 32.05099812258656,\n",
       "  '6': 32.05186451718687,\n",
       "  '7': 31.529691585412756,\n",
       "  '8': 30.833659233734668,\n",
       "  '9': 31.051357516998102,\n",
       "  '10': 31.70763004845092})"
      ]
     },
     "execution_count": 20,
     "metadata": {},
     "output_type": "execute_result"
    }
   ],
   "source": [
    "computeBleu(bart_lef),computeBleu(bart_large_ef)"
   ]
  },
  {
   "cell_type": "code",
   "execution_count": 19,
   "id": "integral-halloween",
   "metadata": {},
   "outputs": [
    {
     "data": {
      "text/plain": [
       "({'1': 28.310299944435915,\n",
       "  '2': 41.6231671769375,\n",
       "  '3': 40.22958288554867,\n",
       "  '4': 40.02656898623169,\n",
       "  '5': 40.10981349708663,\n",
       "  '6': 40.40275900262566,\n",
       "  '7': 39.04304415235147,\n",
       "  '8': 38.72556201595691,\n",
       "  '9': 37.919202029912505,\n",
       "  '10': 39.60269867714001},\n",
       " {'1': 31.50324479592081,\n",
       "  '2': 46.754388729882166,\n",
       "  '3': 45.65333803553223,\n",
       "  '4': 45.808308551380065,\n",
       "  '5': 44.68548502820139,\n",
       "  '6': 44.058366114407015,\n",
       "  '7': 44.298834346297376,\n",
       "  '8': 43.10746581019097,\n",
       "  '9': 43.108437326902234,\n",
       "  '10': 43.054425180383944})"
      ]
     },
     "execution_count": 19,
     "metadata": {},
     "output_type": "execute_result"
    }
   ],
   "source": [
    "computeBleu(bart_ef),computeBleu(bart_base_ef)"
   ]
  },
  {
   "cell_type": "code",
   "execution_count": null,
   "id": "adverse-recipient",
   "metadata": {},
   "outputs": [],
   "source": []
  },
  {
   "cell_type": "code",
   "execution_count": 10,
   "id": "assured-projector",
   "metadata": {},
   "outputs": [
    {
     "data": {
      "text/plain": [
       "{'1': 20.739927836391736,\n",
       " '2': 40.4490465114685,\n",
       " '3': 40.26106778739595,\n",
       " '4': 40.77571556640552,\n",
       " '5': 41.28241421243512,\n",
       " '6': 41.35040911993171,\n",
       " '7': 41.54126475976823,\n",
       " '8': 41.66544220613984,\n",
       " '9': 41.697005651022934,\n",
       " '10': 41.97853298268071}"
      ]
     },
     "execution_count": 10,
     "metadata": {},
     "output_type": "execute_result"
    }
   ],
   "source": [
    "computeBleu(bart_25)"
   ]
  },
  {
   "cell_type": "code",
   "execution_count": 14,
   "id": "labeled-india",
   "metadata": {},
   "outputs": [
    {
     "data": {
      "text/plain": [
       "{'1': 21.3811784861731,\n",
       " '2': 31.631607415376514,\n",
       " '3': 31.564183462358482,\n",
       " '4': 30.259685486632755,\n",
       " '5': 31.267024449815047,\n",
       " '6': 30.503572158424316,\n",
       " '7': 31.425153573269625,\n",
       " '8': 32.30339292776871,\n",
       " '9': 33.4787782669237,\n",
       " '10': 33.677283248216995}"
      ]
     },
     "execution_count": 14,
     "metadata": {},
     "output_type": "execute_result"
    }
   ],
   "source": [
    "computeBleu(bart_3)"
   ]
  },
  {
   "cell_type": "code",
   "execution_count": 19,
   "id": "manual-indiana",
   "metadata": {},
   "outputs": [],
   "source": []
  },
  {
   "cell_type": "code",
   "execution_count": 37,
   "id": "parliamentary-finger",
   "metadata": {},
   "outputs": [
    {
     "data": {
      "text/plain": [
       "({'1': 0.4158367826620851,\n",
       "  '2': 0.4289623617802188,\n",
       "  '3': 0.4115719530166944,\n",
       "  '4': 0.40340509382841516,\n",
       "  '5': 0.39956863088284084,\n",
       "  '6': 0.4006860199265109,\n",
       "  '7': 0.3898454305934981,\n",
       "  '8': 0.3885258975394009,\n",
       "  '9': 0.385110940182984,\n",
       "  '10': 0.3843640314773147},\n",
       " {'1': 0.4155571882137243,\n",
       "  '2': 0.4473766576966584,\n",
       "  '3': 0.44822640580951795,\n",
       "  '4': 0.4522678324660847,\n",
       "  '5': 0.4539534501807817,\n",
       "  '6': 0.4498450330286066,\n",
       "  '7': 0.4399237124118636,\n",
       "  '8': 0.4366896429375892,\n",
       "  '9': 0.4303464502884523,\n",
       "  '10': 0.4248418597423326})"
      ]
     },
     "execution_count": 37,
     "metadata": {},
     "output_type": "execute_result"
    }
   ],
   "source": [
    "computeMeteor(t5_small),computeMeteor(t5_small_ef)"
   ]
  },
  {
   "cell_type": "code",
   "execution_count": 42,
   "id": "encouraging-interface",
   "metadata": {},
   "outputs": [
    {
     "data": {
      "text/plain": [
       "({'1': 0.4561788741446301,\n",
       "  '2': 0.48270209658804575,\n",
       "  '3': 0.4795722727491012,\n",
       "  '4': 0.4811336122204625,\n",
       "  '5': 0.48112552729231817,\n",
       "  '6': 0.47795143563428666,\n",
       "  '7': 0.4759616900083795,\n",
       "  '8': 0.48038026122337285,\n",
       "  '9': 0.4734063238690257,\n",
       "  '10': 0.4785594683919481},\n",
       " {'1': 0.4537207348240482,\n",
       "  '2': 0.4775393036677258,\n",
       "  '3': 0.47602157851592575,\n",
       "  '4': 0.4761315402435196,\n",
       "  '5': 0.4751251793136544,\n",
       "  '6': 0.4762118895737938,\n",
       "  '7': 0.47013119790097285,\n",
       "  '8': 0.4719293001795294,\n",
       "  '9': 0.4775421604063849,\n",
       "  '10': 0.4757842499929404})"
      ]
     },
     "execution_count": 42,
     "metadata": {},
     "output_type": "execute_result"
    }
   ],
   "source": [
    "computeMeteor(t5_base),computeMeteor(t5_base_ef)"
   ]
  },
  {
   "cell_type": "code",
   "execution_count": 63,
   "id": "exciting-software",
   "metadata": {},
   "outputs": [
    {
     "data": {
      "text/plain": [
       "({'1': 0.4464970094102631,\n",
       "  '2': 0.4627618893029511,\n",
       "  '3': 0.4702131763533367,\n",
       "  '4': 0.4731563017694327,\n",
       "  '5': 0.4683617938675425,\n",
       "  '6': 0.46548195320674435,\n",
       "  '7': 0.4686500993148769,\n",
       "  '8': 0.4704647252780611,\n",
       "  '9': 0.46835531808246084,\n",
       "  '10': 0.4652566330272726},\n",
       " {'1': 0.45837607276643344,\n",
       "  '2': 0.47823074394788656,\n",
       "  '3': 0.4800425657714468,\n",
       "  '4': 0.4798600683226262,\n",
       "  '5': 0.4787313002338942,\n",
       "  '6': 0.475686076898327,\n",
       "  '7': 0.4756577906919378,\n",
       "  '8': 0.475982698097176,\n",
       "  '9': 0.47118384312308376,\n",
       "  '10': 0.4723869772280766})"
      ]
     },
     "execution_count": 63,
     "metadata": {},
     "output_type": "execute_result"
    }
   ],
   "source": [
    "computeMeteor(t5_base_128),computeMeteor(t5_base_ef_128)"
   ]
  },
  {
   "cell_type": "code",
   "execution_count": 71,
   "id": "registered-greensboro",
   "metadata": {},
   "outputs": [
    {
     "data": {
      "text/plain": [
       "({'1': 0.4492199945217994,\n",
       "  '2': 0.4751225207006442,\n",
       "  '3': 0.47840993460312015,\n",
       "  '4': 0.47727679930079164,\n",
       "  '5': 0.47739791562026246,\n",
       "  '6': 0.4793881843185196,\n",
       "  '7': 0.47724933241354484,\n",
       "  '8': 0.47240689229126953,\n",
       "  '9': 0.47716001324206153,\n",
       "  '10': 0.47491579289823516},\n",
       " {'1': 0.45684168141193077,\n",
       "  '2': 0.48032416428940733,\n",
       "  '3': 0.4790794932555153,\n",
       "  '4': 0.47577365469434313,\n",
       "  '5': 0.47969908650851345,\n",
       "  '6': 0.4772785826998049,\n",
       "  '7': 0.4770136922182906,\n",
       "  '8': 0.48111530371085076,\n",
       "  '9': 0.47737267061353544,\n",
       "  '10': 0.4759366291685629})"
      ]
     },
     "execution_count": 71,
     "metadata": {},
     "output_type": "execute_result"
    }
   ],
   "source": [
    "computeMeteor(t5_base_3087),computeMeteor(t5_base_ef_3087)"
   ]
  },
  {
   "cell_type": "code",
   "execution_count": 46,
   "id": "stupid-handbook",
   "metadata": {},
   "outputs": [
    {
     "data": {
      "text/plain": [
       "{'1': 0.45978464094437727,\n",
       " '2': 0.46786658381066454,\n",
       " '3': 0.4697700531795291,\n",
       " '4': 0.47594080658510735,\n",
       " '5': 0.47555353643090487,\n",
       " '6': 0.47945943637280597,\n",
       " '7': 0.47356531205723207,\n",
       " '8': 0.4698184609794336,\n",
       " '9': 0.4710890694161121,\n",
       " '10': 0.46913835849651}"
      ]
     },
     "execution_count": 46,
     "metadata": {},
     "output_type": "execute_result"
    }
   ],
   "source": [
    "computeMeteor(t5_large_ef)"
   ]
  },
  {
   "cell_type": "code",
   "execution_count": 21,
   "id": "presidential-ticket",
   "metadata": {},
   "outputs": [
    {
     "data": {
      "text/plain": [
       "{'1': 0.42841375281239547,\n",
       " '2': 0.41475844542170864,\n",
       " '3': 0.4195645351850766,\n",
       " '4': 0.42072838295199333,\n",
       " '5': 0.4047406598855657,\n",
       " '6': 0.38823603969058584,\n",
       " '7': 0.38214742597536916,\n",
       " '8': 0.375702683166157,\n",
       " '9': 0.3685507515520163,\n",
       " '10': 0.3694632276006107}"
      ]
     },
     "execution_count": 21,
     "metadata": {},
     "output_type": "execute_result"
    }
   ],
   "source": [
    "computeMeteor(t5_small_128)"
   ]
  },
  {
   "cell_type": "code",
   "execution_count": 22,
   "id": "palestinian-identity",
   "metadata": {},
   "outputs": [
    {
     "data": {
      "text/plain": [
       "{'1': 0.40844935471375754,\n",
       " '2': 0.400580471554704,\n",
       " '3': 0.3952482936290412,\n",
       " '4': 0.39822577281905513,\n",
       " '5': 0.39170762028723,\n",
       " '6': 0.3850101176847046,\n",
       " '7': 0.38662113082770394,\n",
       " '8': 0.3767194113745386,\n",
       " '9': 0.3809544588670311,\n",
       " '10': 0.38586644529584224}"
      ]
     },
     "execution_count": 22,
     "metadata": {},
     "output_type": "execute_result"
    }
   ],
   "source": [
    "computeMeteor(t5_small_456)"
   ]
  },
  {
   "cell_type": "code",
   "execution_count": 26,
   "id": "generic-transmission",
   "metadata": {},
   "outputs": [
    {
     "data": {
      "text/plain": [
       "{'1': 0.4269233908453666,\n",
       " '2': 0.4367761562492076,\n",
       " '3': 0.4411447500951767,\n",
       " '4': 0.43855194060638536,\n",
       " '5': 0.4264228029481627,\n",
       " '6': 0.42516724993961624,\n",
       " '7': 0.4181536423015788,\n",
       " '8': 0.41300782223973925,\n",
       " '9': 0.41048227066684023,\n",
       " '10': 0.4026929321350897}"
      ]
     },
     "execution_count": 26,
     "metadata": {},
     "output_type": "execute_result"
    }
   ],
   "source": [
    "computeMeteor(t5_small_3087)"
   ]
  },
  {
   "cell_type": "code",
   "execution_count": null,
   "id": "disturbed-allowance",
   "metadata": {},
   "outputs": [],
   "source": []
  },
  {
   "cell_type": "code",
   "execution_count": 13,
   "id": "spoken-depth",
   "metadata": {},
   "outputs": [
    {
     "data": {
      "text/plain": [
       "{'1': 0.41694959633736867,\n",
       " '2': 0.35957021401314043,\n",
       " '3': 0.37595867675048295,\n",
       " '4': 0.36616998867447376,\n",
       " '5': 0.37330038892393647,\n",
       " '6': 0.37268596811211013,\n",
       " '7': 0.3772889022375909,\n",
       " '8': 0.38366535799871726,\n",
       " '9': 0.385369282562492,\n",
       " '10': 0.3879160513044308}"
      ]
     },
     "execution_count": 13,
     "metadata": {},
     "output_type": "execute_result"
    }
   ],
   "source": [
    "computeMeteor(bart_3)"
   ]
  },
  {
   "cell_type": "code",
   "execution_count": 17,
   "id": "devoted-wright",
   "metadata": {},
   "outputs": [
    {
     "data": {
      "text/plain": [
       "{'1': 0.43366265968733975,\n",
       " '2': 0.45500085466670837,\n",
       " '3': 0.4222916275382415,\n",
       " '4': 0.42071982267271185,\n",
       " '5': 0.4238979176814206,\n",
       " '6': 0.4373521928731801,\n",
       " '7': 0.44080157446612966,\n",
       " '8': 0.44048003754885645,\n",
       " '9': 0.44457972444734406,\n",
       " '10': 0.4412237441625087}"
      ]
     },
     "execution_count": 17,
     "metadata": {},
     "output_type": "execute_result"
    }
   ],
   "source": [
    "computeMeteor(bart_21)"
   ]
  },
  {
   "cell_type": "code",
   "execution_count": 11,
   "id": "physical-projection",
   "metadata": {},
   "outputs": [
    {
     "name": "stderr",
     "output_type": "stream",
     "text": [
      "Downloading: 100%|██████████| 631k/631k [00:00<00:00, 1.01MB/s]\n",
      "Downloading: 100%|██████████| 475k/475k [00:00<00:00, 914kB/s]  \n",
      "Downloading: 100%|██████████| 65.0/65.0 [00:00<00:00, 98.0kB/s]\n",
      "Downloading: 100%|██████████| 840/840 [00:00<00:00, 1.17MB/s]\n",
      "Downloading: 100%|██████████| 2.49G/2.49G [06:49<00:00, 6.51MB/s] \n",
      "Some weights of XLMWithLMHeadModel were not initialized from the model checkpoint at xlm-mlm-en-2048 and are newly initialized: ['transformer.position_ids']\n",
      "You should probably TRAIN this model on a down-stream task to be able to use it for predictions and inference.\n"
     ]
    }
   ],
   "source": [
    ">>> import torch\n",
    ">>> from transformers import XLMTokenizer, XLMWithLMHeadModel\n",
    "\n",
    ">>> tokenizer = XLMTokenizer.from_pretrained('xlm-mlm-en-2048')\n",
    ">>> model = XLMWithLMHeadModel.from_pretrained('xlm-mlm-en-2048')\n",
    "\n",
    ">>> inputs = tokenizer(\"Hello, my dog is cute\", return_tensors=\"pt\")\n",
    ">>> outputs = model(**inputs, labels=inputs[\"input_ids\"])\n",
    ">>> loss, logits = outputs[:2]\n",
    "\n"
   ]
  },
  {
   "cell_type": "code",
   "execution_count": 16,
   "id": "separate-separation",
   "metadata": {},
   "outputs": [
    {
     "ename": "AttributeError",
     "evalue": "",
     "output_type": "error",
     "traceback": [
      "\u001b[0;31m---------------------------------------------------------------------------\u001b[0m",
      "\u001b[0;31mKeyError\u001b[0m                                  Traceback (most recent call last)",
      "\u001b[0;32m~/anaconda3/envs/annotation/lib/python3.8/site-packages/transformers/tokenization_utils_base.py\u001b[0m in \u001b[0;36m__getattr__\u001b[0;34m(self, item)\u001b[0m\n\u001b[1;32m    247\u001b[0m         \u001b[0;32mtry\u001b[0m\u001b[0;34m:\u001b[0m\u001b[0;34m\u001b[0m\u001b[0;34m\u001b[0m\u001b[0m\n\u001b[0;32m--> 248\u001b[0;31m             \u001b[0;32mreturn\u001b[0m \u001b[0mself\u001b[0m\u001b[0;34m.\u001b[0m\u001b[0mdata\u001b[0m\u001b[0;34m[\u001b[0m\u001b[0mitem\u001b[0m\u001b[0;34m]\u001b[0m\u001b[0;34m\u001b[0m\u001b[0;34m\u001b[0m\u001b[0m\n\u001b[0m\u001b[1;32m    249\u001b[0m         \u001b[0;32mexcept\u001b[0m \u001b[0mKeyError\u001b[0m\u001b[0;34m:\u001b[0m\u001b[0;34m\u001b[0m\u001b[0;34m\u001b[0m\u001b[0m\n",
      "\u001b[0;31mKeyError\u001b[0m: 'new_ones'",
      "\nDuring handling of the above exception, another exception occurred:\n",
      "\u001b[0;31mAttributeError\u001b[0m                            Traceback (most recent call last)",
      "\u001b[0;32m<ipython-input-16-ff29e5d4d71d>\u001b[0m in \u001b[0;36m<module>\u001b[0;34m\u001b[0m\n\u001b[0;32m----> 1\u001b[0;31m \u001b[0mgenerated\u001b[0m \u001b[0;34m=\u001b[0m \u001b[0mmodel\u001b[0m\u001b[0;34m.\u001b[0m\u001b[0mgenerate\u001b[0m\u001b[0;34m(\u001b[0m\u001b[0minputs\u001b[0m\u001b[0;34m,\u001b[0m\u001b[0;34m)\u001b[0m\u001b[0;34m\u001b[0m\u001b[0;34m\u001b[0m\u001b[0m\n\u001b[0m",
      "\u001b[0;32m~/anaconda3/envs/annotation/lib/python3.8/site-packages/torch/autograd/grad_mode.py\u001b[0m in \u001b[0;36mdecorate_context\u001b[0;34m(*args, **kwargs)\u001b[0m\n\u001b[1;32m     26\u001b[0m         \u001b[0;32mdef\u001b[0m \u001b[0mdecorate_context\u001b[0m\u001b[0;34m(\u001b[0m\u001b[0;34m*\u001b[0m\u001b[0margs\u001b[0m\u001b[0;34m,\u001b[0m \u001b[0;34m**\u001b[0m\u001b[0mkwargs\u001b[0m\u001b[0;34m)\u001b[0m\u001b[0;34m:\u001b[0m\u001b[0;34m\u001b[0m\u001b[0;34m\u001b[0m\u001b[0m\n\u001b[1;32m     27\u001b[0m             \u001b[0;32mwith\u001b[0m \u001b[0mself\u001b[0m\u001b[0;34m.\u001b[0m\u001b[0m__class__\u001b[0m\u001b[0;34m(\u001b[0m\u001b[0;34m)\u001b[0m\u001b[0;34m:\u001b[0m\u001b[0;34m\u001b[0m\u001b[0;34m\u001b[0m\u001b[0m\n\u001b[0;32m---> 28\u001b[0;31m                 \u001b[0;32mreturn\u001b[0m \u001b[0mfunc\u001b[0m\u001b[0;34m(\u001b[0m\u001b[0;34m*\u001b[0m\u001b[0margs\u001b[0m\u001b[0;34m,\u001b[0m \u001b[0;34m**\u001b[0m\u001b[0mkwargs\u001b[0m\u001b[0;34m)\u001b[0m\u001b[0;34m\u001b[0m\u001b[0;34m\u001b[0m\u001b[0m\n\u001b[0m\u001b[1;32m     29\u001b[0m         \u001b[0;32mreturn\u001b[0m \u001b[0mcast\u001b[0m\u001b[0;34m(\u001b[0m\u001b[0mF\u001b[0m\u001b[0;34m,\u001b[0m \u001b[0mdecorate_context\u001b[0m\u001b[0;34m)\u001b[0m\u001b[0;34m\u001b[0m\u001b[0;34m\u001b[0m\u001b[0m\n\u001b[1;32m     30\u001b[0m \u001b[0;34m\u001b[0m\u001b[0m\n",
      "\u001b[0;32m~/anaconda3/envs/annotation/lib/python3.8/site-packages/transformers/generation_utils.py\u001b[0m in \u001b[0;36mgenerate\u001b[0;34m(self, input_ids, max_length, min_length, do_sample, early_stopping, num_beams, temperature, top_k, top_p, repetition_penalty, bad_words_ids, bos_token_id, pad_token_id, eos_token_id, length_penalty, no_repeat_ngram_size, encoder_no_repeat_ngram_size, num_return_sequences, max_time, max_new_tokens, decoder_start_token_id, use_cache, num_beam_groups, diversity_penalty, prefix_allowed_tokens_fn, output_attentions, output_hidden_states, output_scores, return_dict_in_generate, forced_bos_token_id, forced_eos_token_id, remove_invalid_values, synced_gpus, **model_kwargs)\u001b[0m\n\u001b[1;32m    891\u001b[0m         \u001b[0;32mif\u001b[0m \u001b[0mmodel_kwargs\u001b[0m\u001b[0;34m.\u001b[0m\u001b[0mget\u001b[0m\u001b[0;34m(\u001b[0m\u001b[0;34m\"attention_mask\"\u001b[0m\u001b[0;34m,\u001b[0m \u001b[0;32mNone\u001b[0m\u001b[0;34m)\u001b[0m \u001b[0;32mis\u001b[0m \u001b[0;32mNone\u001b[0m\u001b[0;34m:\u001b[0m\u001b[0;34m\u001b[0m\u001b[0;34m\u001b[0m\u001b[0m\n\u001b[1;32m    892\u001b[0m             \u001b[0;31m# init `attention_mask` depending on `pad_token_id`\u001b[0m\u001b[0;34m\u001b[0m\u001b[0;34m\u001b[0m\u001b[0;34m\u001b[0m\u001b[0m\n\u001b[0;32m--> 893\u001b[0;31m             model_kwargs[\"attention_mask\"] = self._prepare_attention_mask_for_generation(\n\u001b[0m\u001b[1;32m    894\u001b[0m                 \u001b[0minput_ids\u001b[0m\u001b[0;34m,\u001b[0m \u001b[0mpad_token_id\u001b[0m\u001b[0;34m,\u001b[0m \u001b[0meos_token_id\u001b[0m\u001b[0;34m\u001b[0m\u001b[0;34m\u001b[0m\u001b[0m\n\u001b[1;32m    895\u001b[0m             )\n",
      "\u001b[0;32m~/anaconda3/envs/annotation/lib/python3.8/site-packages/transformers/generation_utils.py\u001b[0m in \u001b[0;36m_prepare_attention_mask_for_generation\u001b[0;34m(self, input_ids, pad_token_id, eos_token_id)\u001b[0m\n\u001b[1;32m    401\u001b[0m         \u001b[0;32mif\u001b[0m \u001b[0mis_pad_token_in_inputs_ids\u001b[0m \u001b[0;32mand\u001b[0m \u001b[0mis_pad_token_not_equal_to_eos_token_id\u001b[0m\u001b[0;34m:\u001b[0m\u001b[0;34m\u001b[0m\u001b[0;34m\u001b[0m\u001b[0m\n\u001b[1;32m    402\u001b[0m             \u001b[0;32mreturn\u001b[0m \u001b[0minput_ids\u001b[0m\u001b[0;34m.\u001b[0m\u001b[0mne\u001b[0m\u001b[0;34m(\u001b[0m\u001b[0mpad_token_id\u001b[0m\u001b[0;34m)\u001b[0m\u001b[0;34m.\u001b[0m\u001b[0mlong\u001b[0m\u001b[0;34m(\u001b[0m\u001b[0;34m)\u001b[0m\u001b[0;34m\u001b[0m\u001b[0;34m\u001b[0m\u001b[0m\n\u001b[0;32m--> 403\u001b[0;31m         \u001b[0;32mreturn\u001b[0m \u001b[0minput_ids\u001b[0m\u001b[0;34m.\u001b[0m\u001b[0mnew_ones\u001b[0m\u001b[0;34m(\u001b[0m\u001b[0minput_ids\u001b[0m\u001b[0;34m.\u001b[0m\u001b[0mshape\u001b[0m\u001b[0;34m,\u001b[0m \u001b[0mdtype\u001b[0m\u001b[0;34m=\u001b[0m\u001b[0mtorch\u001b[0m\u001b[0;34m.\u001b[0m\u001b[0mlong\u001b[0m\u001b[0;34m)\u001b[0m\u001b[0;34m\u001b[0m\u001b[0;34m\u001b[0m\u001b[0m\n\u001b[0m\u001b[1;32m    404\u001b[0m \u001b[0;34m\u001b[0m\u001b[0m\n\u001b[1;32m    405\u001b[0m     def _prepare_encoder_decoder_kwargs_for_generation(\n",
      "\u001b[0;32m~/anaconda3/envs/annotation/lib/python3.8/site-packages/transformers/tokenization_utils_base.py\u001b[0m in \u001b[0;36m__getattr__\u001b[0;34m(self, item)\u001b[0m\n\u001b[1;32m    248\u001b[0m             \u001b[0;32mreturn\u001b[0m \u001b[0mself\u001b[0m\u001b[0;34m.\u001b[0m\u001b[0mdata\u001b[0m\u001b[0;34m[\u001b[0m\u001b[0mitem\u001b[0m\u001b[0;34m]\u001b[0m\u001b[0;34m\u001b[0m\u001b[0;34m\u001b[0m\u001b[0m\n\u001b[1;32m    249\u001b[0m         \u001b[0;32mexcept\u001b[0m \u001b[0mKeyError\u001b[0m\u001b[0;34m:\u001b[0m\u001b[0;34m\u001b[0m\u001b[0;34m\u001b[0m\u001b[0m\n\u001b[0;32m--> 250\u001b[0;31m             \u001b[0;32mraise\u001b[0m \u001b[0mAttributeError\u001b[0m\u001b[0;34m\u001b[0m\u001b[0;34m\u001b[0m\u001b[0m\n\u001b[0m\u001b[1;32m    251\u001b[0m \u001b[0;34m\u001b[0m\u001b[0m\n\u001b[1;32m    252\u001b[0m     \u001b[0;32mdef\u001b[0m \u001b[0m__getstate__\u001b[0m\u001b[0;34m(\u001b[0m\u001b[0mself\u001b[0m\u001b[0;34m)\u001b[0m\u001b[0;34m:\u001b[0m\u001b[0;34m\u001b[0m\u001b[0;34m\u001b[0m\u001b[0m\n",
      "\u001b[0;31mAttributeError\u001b[0m: "
     ]
    }
   ],
   "source": [
    "generated = model.generate(inputs,)"
   ]
  },
  {
   "cell_type": "code",
   "execution_count": 15,
   "id": "rough-catch",
   "metadata": {},
   "outputs": [
    {
     "name": "stderr",
     "output_type": "stream",
     "text": [
      "Downloading: 100%|██████████| 420M/420M [01:01<00:00, 7.22MB/s] \n",
      "Some weights of the model checkpoint at bert-base-uncased were not used when initializing BertModel: ['cls.predictions.bias', 'cls.predictions.transform.dense.bias', 'cls.predictions.transform.LayerNorm.bias', 'cls.predictions.transform.LayerNorm.weight', 'cls.predictions.transform.dense.weight', 'cls.seq_relationship.weight', 'cls.seq_relationship.bias', 'cls.predictions.decoder.weight']\n",
      "- This IS expected if you are initializing BertModel from the checkpoint of a model trained on another task or with another architecture (e.g. initializing a BertForSequenceClassification model from a BertForPreTraining model).\n",
      "- This IS NOT expected if you are initializing BertModel from the checkpoint of a model that you expect to be exactly identical (initializing a BertForSequenceClassification model from a BertForSequenceClassification model).\n",
      "Some weights of the model checkpoint at bert-base-uncased were not used when initializing BertLMHeadModel: ['cls.seq_relationship.weight', 'cls.seq_relationship.bias']\n",
      "- This IS expected if you are initializing BertLMHeadModel from the checkpoint of a model trained on another task or with another architecture (e.g. initializing a BertForSequenceClassification model from a BertForPreTraining model).\n",
      "- This IS NOT expected if you are initializing BertLMHeadModel from the checkpoint of a model that you expect to be exactly identical (initializing a BertForSequenceClassification model from a BertForSequenceClassification model).\n",
      "Some weights of BertLMHeadModel were not initialized from the model checkpoint at bert-base-uncased and are newly initialized: ['bert.encoder.layer.11.crossattention.self.value.bias', 'bert.encoder.layer.3.crossattention.self.value.weight', 'bert.encoder.layer.4.crossattention.self.query.bias', 'bert.encoder.layer.0.crossattention.self.value.weight', 'bert.encoder.layer.4.crossattention.self.key.weight', 'bert.encoder.layer.6.crossattention.self.value.weight', 'bert.encoder.layer.5.crossattention.self.query.weight', 'bert.encoder.layer.3.crossattention.self.value.bias', 'bert.encoder.layer.10.crossattention.self.key.bias', 'bert.encoder.layer.1.crossattention.self.key.weight', 'bert.encoder.layer.6.crossattention.self.query.weight', 'bert.encoder.layer.10.crossattention.self.query.weight', 'bert.encoder.layer.4.crossattention.output.LayerNorm.bias', 'bert.encoder.layer.1.crossattention.self.query.bias', 'bert.encoder.layer.0.crossattention.self.value.bias', 'bert.encoder.layer.0.crossattention.output.LayerNorm.bias', 'bert.encoder.layer.7.crossattention.self.query.bias', 'bert.encoder.layer.6.crossattention.self.key.bias', 'bert.encoder.layer.4.crossattention.self.value.bias', 'bert.encoder.layer.2.crossattention.output.dense.weight', 'bert.encoder.layer.3.crossattention.self.query.weight', 'bert.encoder.layer.0.crossattention.output.LayerNorm.weight', 'bert.encoder.layer.3.crossattention.self.key.weight', 'bert.encoder.layer.6.crossattention.self.query.bias', 'bert.encoder.layer.7.crossattention.self.value.weight', 'bert.encoder.layer.2.crossattention.self.query.weight', 'bert.encoder.layer.10.crossattention.self.query.bias', 'bert.encoder.layer.5.crossattention.output.LayerNorm.weight', 'bert.encoder.layer.6.crossattention.output.dense.bias', 'bert.encoder.layer.11.crossattention.self.key.weight', 'bert.encoder.layer.5.crossattention.output.dense.bias', 'bert.encoder.layer.5.crossattention.self.query.bias', 'bert.encoder.layer.4.crossattention.self.key.bias', 'bert.encoder.layer.5.crossattention.self.value.bias', 'bert.encoder.layer.0.crossattention.self.query.weight', 'bert.encoder.layer.1.crossattention.self.value.bias', 'bert.encoder.layer.3.crossattention.output.dense.bias', 'bert.encoder.layer.2.crossattention.self.value.bias', 'bert.encoder.layer.1.crossattention.output.LayerNorm.weight', 'bert.encoder.layer.11.crossattention.output.dense.weight', 'bert.encoder.layer.6.crossattention.output.LayerNorm.bias', 'bert.encoder.layer.8.crossattention.self.value.weight', 'bert.encoder.layer.2.crossattention.output.dense.bias', 'bert.encoder.layer.8.crossattention.output.LayerNorm.bias', 'bert.encoder.layer.7.crossattention.self.key.weight', 'bert.encoder.layer.0.crossattention.output.dense.weight', 'bert.encoder.layer.4.crossattention.self.query.weight', 'bert.encoder.layer.1.crossattention.output.LayerNorm.bias', 'bert.encoder.layer.6.crossattention.output.LayerNorm.weight', 'bert.encoder.layer.10.crossattention.output.dense.weight', 'bert.encoder.layer.2.crossattention.self.query.bias', 'bert.encoder.layer.10.crossattention.self.value.weight', 'bert.encoder.layer.1.crossattention.output.dense.bias', 'bert.encoder.layer.5.crossattention.self.key.weight', 'bert.encoder.layer.10.crossattention.output.LayerNorm.bias', 'bert.encoder.layer.8.crossattention.output.LayerNorm.weight', 'bert.encoder.layer.1.crossattention.self.query.weight', 'bert.encoder.layer.7.crossattention.self.query.weight', 'bert.encoder.layer.9.crossattention.self.key.weight', 'bert.encoder.layer.2.crossattention.output.LayerNorm.weight', 'bert.encoder.layer.9.crossattention.output.LayerNorm.weight', 'bert.encoder.layer.3.crossattention.self.query.bias', 'bert.encoder.layer.8.crossattention.self.query.bias', 'bert.encoder.layer.3.crossattention.output.dense.weight', 'bert.encoder.layer.0.crossattention.self.key.bias', 'bert.encoder.layer.2.crossattention.self.key.bias', 'bert.encoder.layer.4.crossattention.self.value.weight', 'bert.encoder.layer.11.crossattention.self.key.bias', 'bert.encoder.layer.9.crossattention.output.dense.bias', 'bert.encoder.layer.0.crossattention.self.query.bias', 'bert.encoder.layer.11.crossattention.output.LayerNorm.bias', 'bert.encoder.layer.6.crossattention.self.value.bias', 'bert.encoder.layer.11.crossattention.self.query.weight', 'bert.encoder.layer.8.crossattention.self.value.bias', 'bert.encoder.layer.9.crossattention.output.dense.weight', 'bert.encoder.layer.3.crossattention.output.LayerNorm.bias', 'bert.encoder.layer.3.crossattention.self.key.bias', 'bert.encoder.layer.10.crossattention.output.dense.bias', 'bert.encoder.layer.7.crossattention.output.LayerNorm.bias', 'bert.encoder.layer.7.crossattention.output.LayerNorm.weight', 'bert.encoder.layer.2.crossattention.self.value.weight', 'bert.encoder.layer.11.crossattention.self.query.bias', 'bert.encoder.layer.2.crossattention.self.key.weight', 'bert.encoder.layer.7.crossattention.output.dense.bias', 'bert.encoder.layer.10.crossattention.self.key.weight', 'bert.encoder.layer.4.crossattention.output.LayerNorm.weight', 'bert.encoder.layer.9.crossattention.self.value.bias', 'bert.encoder.layer.9.crossattention.self.value.weight', 'bert.encoder.layer.5.crossattention.self.key.bias', 'bert.encoder.layer.1.crossattention.self.value.weight', 'bert.encoder.layer.0.crossattention.output.dense.bias', 'bert.encoder.layer.1.crossattention.output.dense.weight', 'bert.encoder.layer.0.crossattention.self.key.weight', 'bert.encoder.layer.8.crossattention.self.query.weight', 'bert.encoder.layer.10.crossattention.output.LayerNorm.weight', 'bert.encoder.layer.11.crossattention.output.dense.bias', 'bert.encoder.layer.8.crossattention.output.dense.weight', 'bert.encoder.layer.9.crossattention.self.query.weight', 'bert.encoder.layer.2.crossattention.output.LayerNorm.bias', 'bert.encoder.layer.5.crossattention.output.LayerNorm.bias', 'bert.encoder.layer.1.crossattention.self.key.bias', 'bert.encoder.layer.4.crossattention.output.dense.bias', 'bert.encoder.layer.8.crossattention.self.key.bias', 'bert.encoder.layer.10.crossattention.self.value.bias', 'bert.encoder.layer.7.crossattention.self.key.bias', 'bert.encoder.layer.5.crossattention.self.value.weight', 'bert.encoder.layer.3.crossattention.output.LayerNorm.weight', 'bert.encoder.layer.5.crossattention.output.dense.weight', 'bert.encoder.layer.4.crossattention.output.dense.weight', 'bert.encoder.layer.6.crossattention.output.dense.weight', 'bert.encoder.layer.8.crossattention.self.key.weight', 'bert.encoder.layer.9.crossattention.self.query.bias', 'bert.encoder.layer.7.crossattention.self.value.bias', 'bert.encoder.layer.11.crossattention.self.value.weight', 'bert.encoder.layer.6.crossattention.self.key.weight', 'bert.encoder.layer.8.crossattention.output.dense.bias', 'bert.encoder.layer.7.crossattention.output.dense.weight', 'bert.encoder.layer.9.crossattention.output.LayerNorm.bias', 'bert.encoder.layer.11.crossattention.output.LayerNorm.weight', 'bert.encoder.layer.9.crossattention.self.key.bias']\n",
      "You should probably TRAIN this model on a down-stream task to be able to use it for predictions and inference.\n"
     ]
    }
   ],
   "source": [
    ">>> from transformers import EncoderDecoderModel, BertTokenizer\n",
    ">>> import torch\n",
    "\n",
    ">>> tokenizer = BertTokenizer.from_pretrained('bert-base-uncased')\n",
    ">>> model = EncoderDecoderModel.from_encoder_decoder_pretrained('bert-base-uncased', 'bert-base-uncased') # initialize Bert2Bert\n",
    "\n",
    ">>> # forward\n",
    ">>> input_ids = torch.tensor(tokenizer.encode(\"Hello, my dog is cute\", add_special_tokens=True)).unsqueeze(0)  # Batch size 1\n",
    ">>> outputs = model(input_ids=input_ids, decoder_input_ids=input_ids)\n",
    "\n",
    ">>> # training\n",
    ">>> loss, outputs = model(input_ids=input_ids, decoder_input_ids=input_ids, labels=input_ids)[:2]\n",
    "\n",
    ">>> # generation\n",
    ">>> generated = model.generate(input_ids, decoder_start_token_id=model.config.decoder.pad_token_id)"
   ]
  },
  {
   "cell_type": "code",
   "execution_count": 16,
   "id": "nervous-differential",
   "metadata": {},
   "outputs": [
    {
     "data": {
      "text/plain": [
       "tensor([[   0, 1012, 2008, 2008, 2008, 2008, 2008, 2008, 2008, 2008, 2008, 2008,\n",
       "         2008, 2008, 2008, 2008, 2008, 2008, 2008, 2008]])"
      ]
     },
     "execution_count": 16,
     "metadata": {},
     "output_type": "execute_result"
    }
   ],
   "source": [
    "generated"
   ]
  }
 ],
 "metadata": {
  "kernelspec": {
   "display_name": "Python 3.8.8 64-bit ('annotation': conda)",
   "language": "python",
   "name": "python388jvsc74a57bd04aea246828f75a58a93204fce55d322b87a38415c2742fb8a88040418150f4d4"
  },
  "language_info": {
   "codemirror_mode": {
    "name": "ipython",
    "version": 3
   },
   "file_extension": ".py",
   "mimetype": "text/x-python",
   "name": "python",
   "nbconvert_exporter": "python",
   "pygments_lexer": "ipython3",
   "version": "3.8.8"
  }
 },
 "nbformat": 4,
 "nbformat_minor": 5
}
